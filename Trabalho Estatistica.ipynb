{
 "cells": [
  {
   "cell_type": "markdown",
   "id": "a411b05c",
   "metadata": {},
   "source": [
    "# Índices da Educação Brasileira no Ano de 2010\n",
    "\n",
    "##### Integrantes: Guilherme Lorete Schmidt - 13676857 e Luana Hartmann Franco da Cruz - 13676350"
   ]
  },
  {
   "cell_type": "markdown",
   "id": "6e2e042a",
   "metadata": {},
   "source": [
    "# 1. Introdução\n",
    "No cenário contemporâneo, a análise estatística dos índices educacionais no Brasil desempenha um papel crucial na compreensão da qualidade e eficácia do sistema educacional do país. A educação é um dos pilares fundamentais para o desenvolvimento social, econômico e cultural de uma nação, influenciando diretamente a formação de cidadãos e o progresso coletivo. Portanto, examinar de forma sistemática e estatística os indicadores educacionais torna-se imperativo para identificar tendências, desafios e oportunidades de melhoria.\n",
    "\n",
    "Neste contexto, a análise estatística proporciona uma abordagem objetiva e baseada em evidências para avaliar diversos aspectos do sistema educacional brasileiro, focando-se nesta análise no acesso à escola dentre diferentes grupos populacionais. Ao coletar, organizar e interpretar dados quantitativos e qualitativos, é possível identificar padrões, correlações e disparidades que ajudam a informar políticas públicas, direcionar investimentos e promover a equidade no acesso à educação.\n",
    "\n",
    "Além disso, a análise estatística permite uma comparação longitudinal e transversal dos índices educacionais, possibilitando acompanhar o progresso ao longo do tempo e fazer comparações entre diferentes redes de ensino e grupos demográficos. Essa perspectiva ampla e detalhada é essencial para uma avaliação abrangente e contextualizada do sistema educacional brasileiro, fornecendo insights valiosos para a formulação de estratégias e intervenções eficazes.\n",
    "\n",
    "Portanto, este estudo se propõe a realizar uma análise estatística dos principais índices da educação brasileira, buscando entender os desafios enfrentados, as conquistas alcançadas e as áreas prioritárias para investimento e aprimoramento. Ao examinar indicadores como taxa de alfabetização, taxa de escolarização, desempenho em avaliações nacionais e acesso à educação de qualidade, pretendemos contribuir para o debate público e para o desenvolvimento de políticas educacionais mais eficientes e inclusivas."
   ]
  },
  {
   "cell_type": "markdown",
   "id": "47d0daf9",
   "metadata": {},
   "source": [
    "# 2. Metodologia"
   ]
  },
  {
   "cell_type": "markdown",
   "id": "56c9727f",
   "metadata": {},
   "source": [
    "## 2.1 Base de Dados\n",
    "\n",
    "A base de dados a ser analisada foi obtida a partir do website do Instituto Brasileiro de Geografia e Estatística (IBGE), principal entidade brasileira em estatísticas sociais e econômicas gerais do país. A base de dados está disponível através do link https://www.ibge.gov.br/estatisticas/sociais/educacao/9662-censo-demografico-2010.html?edicao=9753&t=resultados.\n",
    "\n",
    "Tais dados foram coletados pelo Instituto no Censo Demográfico de 2010, com o objetivo de identificar as características do povo brasileiro e revelar como vivem através de uma amostragem probabilística da mesma. A coleta das informações foi conduzida, em geral, através de entrevista presencial entre recenseadores e moradores. Todos os dados coletados passaram, no momento da entrevista, pelo processo de crítica eletrônica, cuja finalidade era eliminar inconsistências entre as informações dos diversos quesitos do questionário provenientes de equívocos ou não respostas durante a fase da coleta.\n",
    "\n",
    "Segundo informações disponibilizadas pelo IBGE, a amostra do Censo 2010 teve cinco frações diferentes usadas de acordo com o total da população do município. Nos municípios com até 2.500 habitantes, a fração amostral foi de 50%, ou seja, em metade do total de domicílios foi aplicado o questionário da amostra. Os que tinham mais de 2.500 até 8.000 habitantes, tiveram a fração amostral de 33%. Nos municípios com mais de 8.000 até 20.000 habitantes, a fração foi de 20%. Já nos que tinham mais de 20.000 até 500 mil habitantes, a fração foi de 10%. E, por fim, nos municípios com população maior que 500 mil, a fração foi de 5%.\n",
    "\n",
    "Portanto, a partir da base de dados disponibilizada pelo IBGE em formato `.xls` e `.xlsx`, foram selecionados dados que permitam relacionar as variáveis `sexo`, `cor ou raça`, `frequência escolar`, `idade` e `renda`, de forma a obter-se um panorama geral do acesso ao ambiente escolar em relação a diferentes setores da população brasileira. Sendo assim, os dados foram analizados em grande parte através da biblioteca `pandas` e graficadas através da `matplotlib`, ambas nativas à linguagem de programação `Python`. Demais bibliotecas podem ser encontradas abaixo."
   ]
  },
  {
   "cell_type": "code",
   "execution_count": 1,
   "id": "e22f50c0",
   "metadata": {
    "scrolled": false
   },
   "outputs": [],
   "source": [
    "import numpy as np\n",
    "import matplotlib\n",
    "import time\n",
    "import matplotlib.pyplot as plt\n",
    "from tabulate import tabulate\n",
    "import pandas as pd"
   ]
  },
  {
   "cell_type": "code",
   "execution_count": 34,
   "id": "08a2ae15",
   "metadata": {
    "scrolled": false
   },
   "outputs": [],
   "source": [
    "# planilha censo demográfico 2010 educação por sexo, idade\n",
    "tab1 = pd.read_excel('tab1_1_1.xlsx', skiprows=8)\n",
    "\n",
    "# planilha censo demográfico 2010 educação por cor ou raça\n",
    "tab2 = pd.read_excel('tab1_1_2.xls', skiprows=6)\n",
    "\n",
    "# planilha censo demográfico 2010 educação por rendimento nominal per capita\n",
    "tab3 = pd.read_excel('tab1_1_3.xlsx', skiprows=6)"
   ]
  },
  {
   "cell_type": "markdown",
   "id": "edd47ed4",
   "metadata": {},
   "source": [
    "## Definição de variáveis\n",
    "\n",
    "Primeiramente, as variáveis devem ser devidamente identificadas e agrupadas de acordo com suas características, dividindo-se entre _qualitativas_, categorizando dados, ou _quantitativas_, quantificando dados. Ainda assim, _variáveis qualitativas_ podem ainda ser subdivididas entre _nominais_, quando trata de categorias sem ordem aparente entre elas, ou _ordinais_, se trata de categorias que possuem uma ordem. O mesmo vale para _variáveis quantitativas_, que podem ser subdividas entre _discretas_, quando tratam de valores individuais discretizados, e _continuas_, se caracterizam quantias que podem ser descritas de forma contínua.\n",
    "\n",
    "A partir dessa descrição, detalham-se as variáveis para avaliação posterior:\n",
    "- Sexo: traz as categorias de masculino e feminino;\n",
    "- Cor ou Raça: dividide-se entre diversas categorias étnicas da população brasileira;\n",
    "- Frequência escolar: descreve se um dado habitante frequenta, já fequentou, ou nunca frequentou o ambiente escolar;\n",
    "- Idade: traz a idade (discretizada em anos) dos habitantes;\n",
    "- Renda: traz a renda dos habitantes (discretizada em frações de salários mínimos).\n",
    "\n",
    "Portanto, dadas estas características, traz-se abaixo uma classificação das variáveis em formato de tabela:"
   ]
  },
  {
   "cell_type": "markdown",
   "id": "0078a1bf",
   "metadata": {},
   "source": [
    "| Nome                | Variável     | Tipo      |\n",
    "|:--------------------|:------------:|:---------:|\n",
    "| `sexo`              | qualitativa  | nominal   |\n",
    "| `cor ou raça`       | qualitativa  | nominal   |\n",
    "| `situação escolar`  | qualitativa  | ordinal   |\n",
    "| `idade`             | quantitativa | discreta  |\n",
    "| `renda`             | quantitativa | discreta  |"
   ]
  },
  {
   "cell_type": "markdown",
   "id": "231ef3dd",
   "metadata": {},
   "source": [
    "# 3. Resultados"
   ]
  },
  {
   "cell_type": "markdown",
   "id": "b21f19b6",
   "metadata": {},
   "source": [
    "## 3.2 Tabelas de frequência e análise preliminar"
   ]
  },
  {
   "cell_type": "markdown",
   "id": "ece0e64d",
   "metadata": {},
   "source": [
    "### 3.1.1 Sexo\n",
    "\n",
    "Com um espaço amostral contendo toda a população brasileira, comecemos trazendo uma tabela de frequências de cada sexo em relação à população total."
   ]
  },
  {
   "cell_type": "code",
   "execution_count": 60,
   "id": "1e60a789",
   "metadata": {},
   "outputs": [
    {
     "name": "stdout",
     "output_type": "stream",
     "text": [
      "╒═══════════╤══════════╤══════════════════╕\n",
      "│   Sexo    │  Total   │  Frequência (%)  │\n",
      "╞═══════════╪══════════╪══════════════════╡\n",
      "│ Masculino │ 93406989 │     48.9668      │\n",
      "├───────────┼──────────┼──────────────────┤\n",
      "│ Feminino  │ 97348808 │     51.0332      │\n",
      "╘═══════════╧══════════╧══════════════════╛\n"
     ]
    }
   ],
   "source": [
    "# População total brasileira\n",
    "total_pop = tab1.iloc[0:14, 1]\n",
    "total_homem = tab1.iloc[15:29, 1]\n",
    "total_mulher = tab1.iloc[30:44, 1]\n",
    "\n",
    "# Prepara tabela proposta\n",
    "tabela = [['Sexo', 'Total', 'Frequência (%)'],['Masculino'],['Feminino']]\n",
    "tabela[1].append(int(np.sum(total_homem)))\n",
    "tabela[1].append(np.sum(total_homem) / np.sum(total_pop) * 100)\n",
    "tabela[2].append(int(np.sum(total_mulher)))\n",
    "tabela[2].append(np.sum(total_mulher) / np.sum(total_pop) * 100)\n",
    "\n",
    "print(tabulate(tabela, headers='firstrow', tablefmt=\"fancy_grid\", intfmt=\"\", colalign=([\"center\"]*3)))"
   ]
  },
  {
   "cell_type": "markdown",
   "id": "65b16887",
   "metadata": {},
   "source": [
    "A partir da tabelas, vê-se que os dados confirmam estatísticas já conhecidas acerca da população brasileira, destacando a maior presença de habitantes do sexo feminino que do sexo masculino."
   ]
  },
  {
   "cell_type": "markdown",
   "id": "a229f6a7",
   "metadata": {},
   "source": [
    "### 3.1.2 Cor ou Raça\n",
    "É de grande importância se analizar o impacto de cor ou raça sobre a educação, com vistas à criação de políticas públicas direcionadas à universalização do ensino. Portanto, será trazido abaixo as frequências gerais de cada cor ou raça sobre a população brasileira."
   ]
  },
  {
   "cell_type": "code",
   "execution_count": 49,
   "id": "80f96bbe",
   "metadata": {},
   "outputs": [
    {
     "name": "stdout",
     "output_type": "stream",
     "text": [
      "╒════════════════╤══════════╤══════════════════╕\n",
      "│  Cor ou Raça   │  Total   │  Frequência (%)  │\n",
      "╞════════════════╪══════════╪══════════════════╡\n",
      "│     Branca     │ 90621281 │     47.5064      │\n",
      "├────────────────┼──────────┼──────────────────┤\n",
      "│     Preta      │ 14351162 │     7.52332      │\n",
      "├────────────────┼──────────┼──────────────────┤\n",
      "│    Amarela     │ 2105352  │     1.10369      │\n",
      "├────────────────┼──────────┼──────────────────┤\n",
      "│     Parda      │ 82820451 │      43.417      │\n",
      "├────────────────┼──────────┼──────────────────┤\n",
      "│    Indígena    │  821500  │     0.430656     │\n",
      "├────────────────┼──────────┼──────────────────┤\n",
      "│ Sem Declaração │  36050   │     0.018899     │\n",
      "╘════════════════╧══════════╧══════════════════╛\n"
     ]
    }
   ],
   "source": [
    "# População total brasileira\n",
    "cor_total = [tab2.iloc[0:12, x] for x in range(2, 8)]\n",
    "\n",
    "# Prepara tabela proposta\n",
    "tabela = [['Cor ou Raça', 'Total', 'Frequência (%)'],['Branca'],['Preta'],['Amarela'],['Parda'],['Indígena'],['Sem Declaração']]\n",
    "\n",
    "for x in range(0,6):\n",
    "    tabela[x+1].append(int(np.sum(cor_total[x])))\n",
    "    tabela[x+1].append(np.sum(cor_total[x]) / np.sum(total_pop) * 100)\n",
    "\n",
    "print(tabulate(tabela, headers='firstrow', tablefmt=\"fancy_grid\", colalign=([\"center\"]*3)))"
   ]
  },
  {
   "cell_type": "markdown",
   "id": "b3f65e13",
   "metadata": {},
   "source": [
    "Como é possível visualizar na tabela de frequências, o grupo de maior presença na população brasileira é o de cor ou raça \"Branca\", seguido logo atrás pela \"Parda\". Por outro lado, vê-se que o grupo menos presente é o de indígenas. Nas seções posteriores, tal variável será importante ao analisar a influência desta sobre a frequência escolar."
   ]
  },
  {
   "cell_type": "markdown",
   "id": "788730f9",
   "metadata": {},
   "source": [
    "### 3.1.3 Frequência Escolar"
   ]
  },
  {
   "cell_type": "markdown",
   "id": "a2ae0e37",
   "metadata": {},
   "source": [
    "Uma das principais estatísticas ao se analisar o panorama educacional brasileiro é a frequência escolar. Portanto, traremos aqui uma tabela de frequências relacionando o percentual populacional em cada categoria, além de um gráfico de setores que a representa."
   ]
  },
  {
   "cell_type": "code",
   "execution_count": 59,
   "id": "37cb8fb1",
   "metadata": {},
   "outputs": [
    {
     "name": "stdout",
     "output_type": "stream",
     "text": [
      "╒══════════════════════╤═══════════╤══════════════════╕\n",
      "│  Frequência Escolar  │   Total   │  Frequência (%)  │\n",
      "╞══════════════════════╪═══════════╪══════════════════╡\n",
      "│      Frequenta       │ 59565188  │     31.2259      │\n",
      "├──────────────────────┼───────────┼──────────────────┤\n",
      "│    Já frequentou     │ 112465161 │     58.9577      │\n",
      "├──────────────────────┼───────────┼──────────────────┤\n",
      "│   Nunca frequentou   │ 18725449  │     9.81645      │\n",
      "╘══════════════════════╧═══════════╧══════════════════╛\n"
     ]
    },
    {
     "data": {
      "image/png": "[encoded data removed]",
      "text/plain": [
       "<Figure size 720x432 with 1 Axes>"
      ]
     },
     "metadata": {},
     "output_type": "display_data"
    }
   ],
   "source": [
    "# População total brasileira\n",
    "freq_pop = tab1.iloc[0:14, 2]\n",
    "jafreq_pop = tab1.iloc[0:14, 3]\n",
    "nfreq_pop = tab1.iloc[0:14, 4]\n",
    "\n",
    "# Prepara tabela proposta\n",
    "tabela = [['Frequência Escolar', 'Total', 'Frequência (%)'],['Frequenta'],['Já frequentou'],['Nunca frequentou']]\n",
    "tabela[1].append(int(np.sum(freq_pop)))\n",
    "tabela[1].append(np.sum(freq_pop) / np.sum(total_pop) * 100)\n",
    "tabela[2].append(int(np.sum(jafreq_pop)))\n",
    "tabela[2].append(np.sum(jafreq_pop) / np.sum(total_pop) * 100)\n",
    "tabela[3].append(int(np.sum(nfreq_pop)))\n",
    "tabela[3].append(np.sum(nfreq_pop) / np.sum(total_pop) * 100)\n",
    "\n",
    "print(tabulate(tabela, headers='firstrow', tablefmt=\"fancy_grid\", intfmt=\"\", colalign=([\"center\"]*3)))\n",
    "\n",
    "# Prepara gráfico de setores\n",
    "plt.figure(figsize=(10, 6))\n",
    "plt.pie([np.sum(freq_pop), np.sum(jafreq_pop), np.sum(nfreq_pop)], autopct='%1.1f%%', labels=['Frequenta','Já frequentou','Nunca frequentou'])\n",
    "plt.title('Frequência Escolar')\n",
    "plt.axis('equal')\n",
    "plt.show()"
   ]
  },
  {
   "cell_type": "markdown",
   "id": "a989571d",
   "metadata": {},
   "source": [
    "A partir da tabela e do gráfico, vê-se que grande parte da população (59.0%) já frequentou a escola, fato condizente com a população adulta brasileira, mas que deve ser analisado mais a fundo. Igualmente, 31.2% da população frequenta a escola, o que muito provavelmente corresponde à parcela da população em idade escolar. No entanto, 9.8% da população nunca frequentou a escola, indicando uma dado preocupante de falha no acesso ao ambiente escolar."
   ]
  },
  {
   "cell_type": "markdown",
   "id": "7ff09bf4",
   "metadata": {},
   "source": [
    "### 3.1.4 Idade\n",
    "Idade é um dado de grande influência sobre a relação do habitante com o ambiente escolar. Portanto, uma análise preliminar desta através de uma tabela de frequências é aqui construída."
   ]
  },
  {
   "cell_type": "code",
   "execution_count": 57,
   "id": "6159f68b",
   "metadata": {},
   "outputs": [
    {
     "name": "stdout",
     "output_type": "stream",
     "text": [
      "╒═════════════════╤══════════╤══════════════════╕\n",
      "│      Idade      │  Total   │  Frequência (%)  │\n",
      "╞═════════════════╪══════════╪══════════════════╡\n",
      "│   0 a 3 anos    │ 10938913 │     5.73451      │\n",
      "├─────────────────┼──────────┼──────────────────┤\n",
      "│     4 anos      │ 2867819  │      1.5034      │\n",
      "├─────────────────┼──────────┼──────────────────┤\n",
      "│     5 anos      │ 2933763  │     1.53797      │\n",
      "├─────────────────┼──────────┼──────────────────┤\n",
      "│     6 anos      │ 2891614  │     1.51587      │\n",
      "├─────────────────┼──────────┼──────────────────┤\n",
      "│   7 a 9 anos    │ 9142389  │     4.79272      │\n",
      "├─────────────────┼──────────┼──────────────────┤\n",
      "│  10 a 14 anos   │ 17167135 │     8.99954      │\n",
      "├─────────────────┼──────────┼──────────────────┤\n",
      "│  15 a 17 anos   │ 10353865 │     5.42781      │\n",
      "├─────────────────┼──────────┼──────────────────┤\n",
      "│  18 a 19 anos   │ 6632922  │     3.47718      │\n",
      "├─────────────────┼──────────┼──────────────────┤\n",
      "│  20 a 24 anos   │ 17240863 │     9.03819      │\n",
      "├─────────────────┼──────────┼──────────────────┤\n",
      "│  25 a 29 anos   │ 17102917 │     8.96587      │\n",
      "├─────────────────┼──────────┼──────────────────┤\n",
      "│  30 a 39 anos   │ 29632807 │     15.5344      │\n",
      "├─────────────────┼──────────┼──────────────────┤\n",
      "│  40 a 49 anos   │ 24843142 │     13.0235      │\n",
      "├─────────────────┼──────────┼──────────────────┤\n",
      "│  50 a 59 anos   │ 18418754 │     9.65567      │\n",
      "├─────────────────┼──────────┼──────────────────┤\n",
      "│ 60 ou mais anos │ 20588890 │     10.7933      │\n",
      "╘═════════════════╧══════════╧══════════════════╛\n"
     ]
    }
   ],
   "source": [
    "# Prepara tabela proposta\n",
    "tabela = [['Idade', 'Total', 'Frequência (%)'],['0 a 3 anos'],['4 anos'],['5 anos'],['6 anos'],['7 a 9 anos'],['10 a 14 anos'],['15 a 17 anos'],['18 a 19 anos'],['20 a 24 anos'],['25 a 29 anos'],['30 a 39 anos'],['40 a 49 anos'],['50 a 59 anos'],['60 ou mais anos']]\n",
    "\n",
    "for x in range(0,14):\n",
    "    tabela[x+1].append(int(total_pop[x]))\n",
    "    tabela[x+1].append(total_pop[x] / np.sum(total_pop) * 100)\n",
    "\n",
    "print(tabulate(tabela, headers='firstrow', tablefmt=\"fancy_grid\", intfmt=\"\", colalign=([\"center\"]*3)))"
   ]
  },
  {
   "cell_type": "markdown",
   "id": "293da602",
   "metadata": {},
   "source": [
    "Vê-se uma grande heterogeneidade sobre a distribuição brasileira dentre esse espectro de idades, dado pela pirâmide etária brasileira. Portanto, em análises futuras envolvendo idades, o número de pessoas em uma dada idade será tratado de forma percentual, de forma que ainda seja possível enxergar padrões dentre a população."
   ]
  },
  {
   "cell_type": "markdown",
   "id": "3ed67ed6",
   "metadata": {},
   "source": [
    "### 3.1.5 Renda\n",
    "Renda também constitui um fator de grande influência sobre o acesso à educação. Desse modo, traz-se novamente uma análise preliminar de tal informação."
   ]
  },
  {
   "cell_type": "code",
   "execution_count": 61,
   "id": "4bb80199",
   "metadata": {},
   "outputs": [
    {
     "name": "stdout",
     "output_type": "stream",
     "text": [
      "╒═══════════╤══════════╤══════════════════╕\n",
      "│   Renda   │  Total   │  Frequência (%)  │\n",
      "╞═══════════╪══════════╪══════════════════╡\n",
      "│ Sem renda │ 7039630  │     3.69039      │\n",
      "├───────────┼──────────┼──────────────────┤\n",
      "│  Até 1/4  │ 23802968 │     12.4782      │\n",
      "├───────────┼──────────┼──────────────────┤\n",
      "│ 1/4 a 1/2 │ 35029585 │     18.3636      │\n",
      "├───────────┼──────────┼──────────────────┤\n",
      "│  1/2 a 1  │ 52066691 │     27.2949      │\n",
      "├───────────┼──────────┼──────────────────┤\n",
      "│   1 a 2   │ 40481415 │     21.2216      │\n",
      "├───────────┼──────────┼──────────────────┤\n",
      "│   2 a 3   │ 12973764 │     6.80124      │\n",
      "├───────────┼──────────┼──────────────────┤\n",
      "│   3 a 5   │ 9428422  │     4.94267      │\n",
      "├───────────┼──────────┼──────────────────┤\n",
      "│ Mais de 5 │ 8939342  │     4.68628      │\n",
      "╘═══════════╧══════════╧══════════════════╛\n"
     ]
    }
   ],
   "source": [
    "# População total brasileira\n",
    "renda_total = [tab3.iloc[0:12, x] for x in range(2, 10)]\n",
    "\n",
    "# Prepara tabela proposta\n",
    "tabela = [['Renda', 'Total', 'Frequência (%)'],['Sem renda'],[\"Até 1/4\"], [\"1/4 a 1/2\"], [\"1/2 a 1\"], [\"1 a 2\"], [\"2 a 3\"], [\"3 a 5\"], [\"Mais de 5\"]]\n",
    "\n",
    "for x in range(0,8):\n",
    "    tabela[x+1].append(int(np.sum(renda_total[x])))\n",
    "    tabela[x+1].append(np.sum(renda_total[x]) / np.sum(total_pop) * 100)\n",
    "\n",
    "print(tabulate(tabela, headers='firstrow', tablefmt=\"fancy_grid\", colalign=([\"center\"]*3)))"
   ]
  },
  {
   "cell_type": "markdown",
   "id": "5601a1cb",
   "metadata": {},
   "source": [
    "Analisando-se os dados de renda, vê-se uma concentração de pessoas no intervalo de renda entre 1/2 e 1 salário mínimo, enquanto o menor número de pessoas encontra-se na categoria \"Sem renda\". No entanto, nota-se que a maior parte da população possui renda inferior a 1 salário mínimo. Estudaremos os impatos de tal fato sobre a educação."
   ]
  },
  {
   "cell_type": "markdown",
   "id": "0aacb655",
   "metadata": {},
   "source": [
    "## 3.2 Medidas Resumo\n",
    "\n",
    "Caracterizados os dados que serão empregados na análise, descreveremos agora relações entre os demais dados e o percentual populacional em uma dada classe de frequência escolar, de forma a caracterizar seus impactos sobre a educação da população pertencente à categoria descrita pelo dado.\n",
    "\n",
    "De modo a iniciar a análise, calcularemos primeiramente as medidas resumo dos dados obtidos, manifestando-se através da média, desvio padrão, 1º quartil, mediana, 3º quartil e máximo de cada uma. Portanto, segue a análise."
   ]
  },
  {
   "cell_type": "markdown",
   "id": "23195dd1",
   "metadata": {},
   "source": [
    "### 3.2.1 Relação entre sexo e frequência escolar "
   ]
  },
  {
   "cell_type": "markdown",
   "id": "f573b7c8",
   "metadata": {},
   "source": [
    "Abaixo são calculadas as medidas resumo para o percentual da população que frequenta a escola."
   ]
  },
  {
   "cell_type": "code",
   "execution_count": 3,
   "id": "e0e09301-ab08-4986-b1f1-4631e1a007b0",
   "metadata": {
    "scrolled": true
   },
   "outputs": [
    {
     "name": "stdout",
     "output_type": "stream",
     "text": [
      "Medidas resumo para percentual da população que frequenta a escola\n",
      "╒═══════════════╤═════════╤═════════╤══════════╕\n",
      "│               │  total  │  homem  │  mulher  │\n",
      "╞═══════════════╪═════════╪═════════╪══════════╡\n",
      "│     média     │ 47.3731 │ 46.8218 │  47.91   │\n",
      "├───────────────┼─────────┼─────────┼──────────┤\n",
      "│ desvio padrão │ 39.0898 │ 39.3972 │ 38.8116  │\n",
      "├───────────────┼─────────┼─────────┼──────────┤\n",
      "│  1º quartil   │ 10.6496 │ 9.27626 │  11.971  │\n",
      "├───────────────┼─────────┼─────────┼──────────┤\n",
      "│    mediana    │ 35.0556 │ 34.0974 │ 36.0864  │\n",
      "├───────────────┼─────────┼─────────┼──────────┤\n",
      "│  3º quartil   │ 86.3184 │ 86.0758 │ 86.5697  │\n",
      "├───────────────┼─────────┼─────────┼──────────┤\n",
      "│    máximo     │ 97.6366 │ 97.5174 │ 97.7603  │\n",
      "╘═══════════════╧═════════╧═════════╧══════════╛\n"
     ]
    }
   ],
   "source": [
    "# Percentual da população que frequenta a escola\n",
    "freq_pop = tab1.iloc[0:14, 2] / total_pop * 100\n",
    "freq_homem = tab1.iloc[15:29, 2] / total_homem * 100\n",
    "freq_mulher = tab1.iloc[30:44, 2] / total_mulher * 100\n",
    "\n",
    "# Calcular estatísticas descritivas para cada categoria\n",
    "desc_freq_pop = freq_pop.describe(exclude='category')\n",
    "desc_freq_homem = freq_homem.describe()\n",
    "desc_freq_mulher = freq_mulher.describe()\n",
    "\n",
    "# Mostrar as estatísticas descritivas\n",
    "print(\"Medidas resumo para percentual da população que frequenta a escola\")\n",
    "freq_pop_print = ['total'] + [desc_freq_pop[x] for x in [1, 2, 4, 5, 6, 7]]\n",
    "freq_hom_print = ['homem'] + [desc_freq_homem[x] for x in [1, 2, 4, 5, 6, 7]]\n",
    "freq_mul_print = ['mulher'] + [desc_freq_mulher[x] for x in [1, 2, 4, 5, 6, 7]]\n",
    "\n",
    "linhas = ['', 'média', 'desvio padrão', '1º quartil', 'mediana', '3º quartil', 'máximo']\n",
    "data = np.array([linhas, freq_pop_print, freq_hom_print, freq_mul_print]).T\n",
    "print(tabulate(data, headers='firstrow', tablefmt=\"fancy_grid\", colalign=([\"center\"]*4)))"
   ]
  },
  {
   "cell_type": "markdown",
   "id": "e500ac5a",
   "metadata": {},
   "source": [
    "Abaixo são calculadas as medidas resumo para o percentual da população que já frequentou a escola."
   ]
  },
  {
   "cell_type": "code",
   "execution_count": 4,
   "id": "60d39e29-768f-449d-a29a-879cf5813283",
   "metadata": {
    "scrolled": true
   },
   "outputs": [
    {
     "name": "stdout",
     "output_type": "stream",
     "text": [
      "Medidas resumo para percentual da população que já frequentou escola\n",
      "╒═══════════════╤═════════╤═════════╤══════════╕\n",
      "│               │  total  │  homem  │  mulher  │\n",
      "╞═══════════════╪═════════╪═════════╪══════════╡\n",
      "│     média     │ 41.1395 │ 41.5375 │  40.768  │\n",
      "├───────────────┼─────────┼─────────┼──────────┤\n",
      "│ desvio padrão │ 39.7552 │ 40.0989 │ 39.4439  │\n",
      "├───────────────┼─────────┼─────────┼──────────┤\n",
      "│  1º quartil   │ 2.05304 │ 2.12549 │ 1.97786  │\n",
      "├───────────────┼─────────┼─────────┼──────────┤\n",
      "│    mediana    │ 34.8028 │ 34.8876 │ 34.7173  │\n",
      "├───────────────┼─────────┼─────────┼──────────┤\n",
      "│  3º quartil   │ 81.6106 │ 82.7131 │ 80.5975  │\n",
      "├───────────────┼─────────┼─────────┼──────────┤\n",
      "│    máximo     │ 88.4257 │ 88.5402 │ 88.3186  │\n",
      "╘═══════════════╧═════════╧═════════╧══════════╛\n"
     ]
    }
   ],
   "source": [
    "jafreq_pop = tab1.iloc[0:14, 3] / total_pop * 100\n",
    "jafreq_homem = tab1.iloc[15:29, 3] / total_homem * 100\n",
    "jafreq_mulher = tab1.iloc[30:44, 3] / total_mulher * 100\n",
    "\n",
    "# Calcular estatísticas descritivas para cada categoria\n",
    "desc_jafreq_pop = jafreq_pop.describe()\n",
    "desc_jafreq_homem = jafreq_homem.describe()\n",
    "desc_jafreq_mulher = jafreq_mulher.describe()\n",
    "\n",
    "# Mostrar as estatísticas descritivas\n",
    "print(\"Medidas resumo para percentual da população que já frequentou escola\")\n",
    "jafreq_pop_print = ['total'] + [desc_jafreq_pop[x] for x in [1, 2, 4, 5, 6, 7]]\n",
    "jafreq_hom_print = ['homem'] + [desc_jafreq_homem[x] for x in [1, 2, 4, 5, 6, 7]]\n",
    "jafreq_mul_print = ['mulher'] + [desc_jafreq_mulher[x] for x in [1, 2, 4, 5, 6, 7]]\n",
    "\n",
    "linhas = ['', 'média', 'desvio padrão', '1º quartil', 'mediana', '3º quartil', 'máximo']\n",
    "data = np.array([linhas, jafreq_pop_print, jafreq_hom_print, jafreq_mul_print]).T\n",
    "print(tabulate(data, headers='firstrow', tablefmt=\"fancy_grid\", colalign=([\"center\"]*4)))"
   ]
  },
  {
   "cell_type": "markdown",
   "id": "b2f7b10f",
   "metadata": {},
   "source": [
    "Abaixo são calculadas as medidas resumo para o percentual da população nunca frequentou a escola."
   ]
  },
  {
   "cell_type": "code",
   "execution_count": 5,
   "id": "b7d421ab-652a-4a33-bdd0-8d7061842e86",
   "metadata": {
    "scrolled": true
   },
   "outputs": [
    {
     "name": "stdout",
     "output_type": "stream",
     "text": [
      "Medidas resumo para percentual da população que nunca frequentou escola\n",
      "╒═══════════════╤═════════╤═════════╤══════════╕\n",
      "│               │  total  │  homem  │  mulher  │\n",
      "╞═══════════════╪═════════╪═════════╪══════════╡\n",
      "│     média     │ 11.4874 │ 11.6407 │ 11.3219  │\n",
      "├───────────────┼─────────┼─────────┼──────────┤\n",
      "│ desvio padrão │ 19.7133 │ 19.5653 │ 19.8583  │\n",
      "├───────────────┼─────────┼─────────┼──────────┤\n",
      "│  1º quartil   │ 1.39414 │ 1.53372 │ 1.27264  │\n",
      "├───────────────┼─────────┼─────────┼──────────┤\n",
      "│    mediana    │ 3.59724 │ 4.02563 │ 3.18023  │\n",
      "├───────────────┼─────────┼─────────┼──────────┤\n",
      "│  3º quartil   │ 10.242  │ 10.4367 │ 10.0467  │\n",
      "├───────────────┼─────────┼─────────┼──────────┤\n",
      "│    máximo     │ 74.6257 │ 74.531  │ 74.7236  │\n",
      "╘═══════════════╧═════════╧═════════╧══════════╛\n"
     ]
    }
   ],
   "source": [
    "nfreq_pop = tab1.iloc[0:14, 4] / total_pop * 100\n",
    "nfreq_homem = tab1.iloc[15:29, 4] / total_homem * 100\n",
    "nfreq_mulher = tab1.iloc[30:44, 4] / total_mulher * 100\n",
    "\n",
    "# Calcular estatísticas descritivas para cada categoria\n",
    "desc_nfreq_pop = nfreq_pop.describe()\n",
    "desc_nfreq_homem = nfreq_homem.describe()\n",
    "desc_nfreq_mulher = nfreq_mulher.describe()\n",
    "\n",
    "# Mostrar as estatísticas descritivas\n",
    "print(\"Medidas resumo para percentual da população que nunca frequentou escola\")\n",
    "nfreq_pop_print = ['total'] + [desc_nfreq_pop[x] for x in [1, 2, 4, 5, 6, 7]]\n",
    "nfreq_hom_print = ['homem'] + [desc_nfreq_homem[x] for x in [1, 2, 4, 5, 6, 7]]\n",
    "nfreq_mul_print = ['mulher'] + [desc_nfreq_mulher[x] for x in [1, 2, 4, 5, 6, 7]]\n",
    "\n",
    "linhas = ['', 'média', 'desvio padrão', '1º quartil', 'mediana', '3º quartil', 'máximo']\n",
    "data = np.array([linhas, nfreq_pop_print, nfreq_hom_print, nfreq_mul_print]).T\n",
    "print(tabulate(data, headers='firstrow', tablefmt=\"fancy_grid\", colalign=([\"center\"]*4)))"
   ]
  },
  {
   "cell_type": "markdown",
   "id": "a484e61e",
   "metadata": {},
   "source": [
    "### 3.2.2 Relação entre cor ou raça e frequência escolar"
   ]
  },
  {
   "cell_type": "markdown",
   "id": "87d5b912",
   "metadata": {},
   "source": [
    "Abaixo são calculadas as medidas resumo para o percentual da população frequenta a escola."
   ]
  },
  {
   "cell_type": "code",
   "execution_count": 63,
   "id": "882356ff",
   "metadata": {},
   "outputs": [
    {
     "name": "stdout",
     "output_type": "stream",
     "text": [
      "Medidas resumo para percentual da população que frequenta a escola\n",
      "╒═══════════════╤══════════╤═════════╤═══════════╤═════════╤════════════╤══════════════════╕\n",
      "│               │  Branca  │  Preta  │  Amarela  │  Parda  │  Indígena  │  Sem Declaração  │\n",
      "╞═══════════════╪══════════╪═════════╪═══════════╪═════════╪════════════╪══════════════════╡\n",
      "│     média     │  49.196  │ 51.306  │  52.077   │ 53.835  │   57.348   │      61.956      │\n",
      "├───────────────┼──────────┼─────────┼───────────┼─────────┼────────────┼──────────────────┤\n",
      "│ desvio padrão │  32.328  │ 37.907  │  38.838   │ 39.137  │   38.539   │      37.011      │\n",
      "├───────────────┼──────────┼─────────┼───────────┼─────────┼────────────┼──────────────────┤\n",
      "│  1º quartil   │  17.721  │ 14.760  │  15.988   │ 17.335  │   23.633   │      33.873      │\n",
      "├───────────────┼──────────┼─────────┼───────────┼─────────┼────────────┼──────────────────┤\n",
      "│    mediana    │  51.165  │ 55.053  │  55.401   │ 57.513  │   63.175   │      72.130      │\n",
      "├───────────────┼──────────┼─────────┼───────────┼─────────┼────────────┼──────────────────┤\n",
      "│  3º quartil   │  78.291  │ 84.626  │  87.936   │ 90.936  │   94.278   │      96.485      │\n",
      "├───────────────┼──────────┼─────────┼───────────┼─────────┼────────────┼──────────────────┤\n",
      "│    máximo     │  90.074  │ 96.691  │  97.792   │ 98.379  │   98.898   │      98.942      │\n",
      "╘═══════════════╧══════════╧═════════╧═══════════╧═════════╧════════════╧══════════════════╛\n"
     ]
    }
   ],
   "source": [
    "# Conjuntos de dados de cor ou raça\n",
    "cor_total = [tab3.iloc[0:12, x] for x in range(2, 8)]\n",
    "cor_freq = [(tab3.iloc[13:25, x] / renda_total[x-2].values * 100) for x in range(2, 8)]\n",
    "cor_jafreq = [tab3.iloc[26:38, x] / renda_total[x-2].values * 100 for x in range(2, 8)]\n",
    "cor_nfreq = [tab3.iloc[39:51, x] / renda_total[x-2].values * 100 for x in range(2, 8)]\n",
    "\n",
    "# Calcular estatísticas descritivas para cada categoria\n",
    "desc_renda_freq = [renda_freq[x].describe() for x in range(8)]\n",
    "\n",
    "# Mostrar as estatísticas descritivas\n",
    "print(\"Medidas resumo para percentual da população que frequenta a escola\")\n",
    "linhas = [\"\", \"média\", \"desvio padrão\", \"1º quartil\", \"mediana\", \"3º quartil\", \"máximo\"]\n",
    "renda_freq_print = [linhas,['Branca'],['Preta'],['Amarela'],['Parda'],['Indígena'],['Sem Declaração']]\n",
    "for y in range(6):\n",
    "    for x in [1, 2, 4, 5, 6, 7]:\n",
    "        renda_freq_print[y + 1].append(desc_renda_freq[y][x])\n",
    "\n",
    "data = (np.array(renda_freq_print).T)\n",
    "print(tabulate(data, headers=\"firstrow\", tablefmt=\"fancy_grid\", colalign=([\"center\"]*7), floatfmt=\".3f\"))"
   ]
  },
  {
   "cell_type": "markdown",
   "id": "25d0510a",
   "metadata": {},
   "source": [
    "Abaixo são calculadas as medidas resumo para o percentual da população já frequentou a escola."
   ]
  },
  {
   "cell_type": "code",
   "execution_count": 67,
   "id": "5c4f9a97",
   "metadata": {},
   "outputs": [
    {
     "name": "stdout",
     "output_type": "stream",
     "text": [
      "Medidas resumo para percentual da população que já frequentou a escola\n",
      "╒═══════════════╤══════════╤═════════╤═══════════╤═════════╤════════════╤══════════════════╕\n",
      "│               │  Branca  │  Preta  │  Amarela  │  Parda  │  Indígena  │  Sem Declaração  │\n",
      "╞═══════════════╪══════════╪═════════╪═══════════╪═════════╪════════════╪══════════════════╡\n",
      "│     média     │  33.353  │ 33.492  │  34.847   │ 35.143  │   34.307   │      31.306      │\n",
      "├───────────────┼──────────┼─────────┼───────────┼─────────┼────────────┼──────────────────┤\n",
      "│ desvio padrão │  33.750  │ 37.277  │  38.933   │ 39.544  │   39.505   │      37.800      │\n",
      "├───────────────┼──────────┼─────────┼───────────┼─────────┼────────────┼──────────────────┤\n",
      "│  1º quartil   │  3.325   │  1.981  │   1.957   │  2.016  │   1.889    │      1.469       │\n",
      "├───────────────┼──────────┼─────────┼───────────┼─────────┼────────────┼──────────────────┤\n",
      "│    mediana    │  16.233  │ 10.529  │  10.261   │  9.293  │   7.662    │      5.364       │\n",
      "├───────────────┼──────────┼─────────┼───────────┼─────────┼────────────┼──────────────────┤\n",
      "│  3º quartil   │  70.368  │ 75.059  │  77.908   │ 79.538  │   75.634   │      64.575      │\n",
      "├───────────────┼──────────┼─────────┼───────────┼─────────┼────────────┼──────────────────┤\n",
      "│    máximo     │  78.039  │ 84.407  │  88.026   │ 89.392  │   88.741   │      91.726      │\n",
      "╘═══════════════╧══════════╧═════════╧═══════════╧═════════╧════════════╧══════════════════╛\n"
     ]
    }
   ],
   "source": [
    "# Calcular estatísticas descritivas para cada categoria\n",
    "desc_renda_jafreq = [renda_jafreq[x].describe() for x in range(8)]\n",
    "\n",
    "# Mostrar as estatísticas descritivas\n",
    "print(\"Medidas resumo para percentual da população que já frequentou a escola\")\n",
    "linhas = [\"\", \"média\", \"desvio padrão\", \"1º quartil\", \"mediana\", \"3º quartil\", \"máximo\"]\n",
    "renda_jafreq_print = [linhas,['Branca'],['Preta'],['Amarela'],['Parda'],['Indígena'],['Sem Declaração']]\n",
    "for y in range(6):\n",
    "    for x in [1, 2, 4, 5, 6, 7]:\n",
    "        renda_jafreq_print[y + 1].append(desc_renda_jafreq[y][x])\n",
    "\n",
    "data = (np.array(renda_jafreq_print).T)\n",
    "print(tabulate(data, headers=\"firstrow\", tablefmt=\"fancy_grid\", colalign=([\"center\"]*7), floatfmt=\".3f\"))"
   ]
  },
  {
   "cell_type": "markdown",
   "id": "2f05f26a",
   "metadata": {},
   "source": [
    "Abaixo são calculadas as medidas resumo para o percentual da população nunca frequentou a escola."
   ]
  },
  {
   "cell_type": "code",
   "execution_count": 68,
   "id": "5503a47b",
   "metadata": {},
   "outputs": [
    {
     "name": "stdout",
     "output_type": "stream",
     "text": [
      "Medidas resumo para percentual da população que nunca frequentou a escola\n",
      "╒═══════════════╤══════════╤═════════╤═══════════╤═════════╤════════════╤══════════════════╕\n",
      "│               │  Branca  │  Preta  │  Amarela  │  Parda  │  Indígena  │  Sem Declaração  │\n",
      "╞═══════════════╪══════════╪═════════╪═══════════╪═════════╪════════════╪══════════════════╡\n",
      "│     média     │  17.452  │ 15.202  │  13.076   │ 11.022  │   8.345    │      6.738       │\n",
      "├───────────────┼──────────┼─────────┼───────────┼─────────┼────────────┼──────────────────┤\n",
      "│ desvio padrão │  21.330  │ 23.258  │  22.721   │ 20.900  │   18.694   │      17.035      │\n",
      "├───────────────┼──────────┼─────────┼───────────┼─────────┼────────────┼──────────────────┤\n",
      "│  1º quartil   │  5.760   │  2.090  │   1.282   │  0.863  │   0.511    │      0.410       │\n",
      "├───────────────┼──────────┼─────────┼───────────┼─────────┼────────────┼──────────────────┤\n",
      "│    mediana    │  8.482   │  5.693  │   3.366   │  2.160  │   1.091    │      0.744       │\n",
      "├───────────────┼──────────┼─────────┼───────────┼─────────┼────────────┼──────────────────┤\n",
      "│  3º quartil   │  18.569  │ 17.115  │  13.875   │ 10.685  │   5.874    │      3.089       │\n",
      "├───────────────┼──────────┼─────────┼───────────┼─────────┼────────────┼──────────────────┤\n",
      "│    máximo     │  78.930  │ 82.292  │  79.694   │ 73.371  │   65.976   │      60.095      │\n",
      "╘═══════════════╧══════════╧═════════╧═══════════╧═════════╧════════════╧══════════════════╛\n"
     ]
    }
   ],
   "source": [
    "# Calcular estatísticas descritivas para cada categoria\n",
    "desc_renda_nfreq = [renda_nfreq[x].describe() for x in range(8)]\n",
    "\n",
    "# Mostrar as estatísticas descritivas\n",
    "print(\"Medidas resumo para percentual da população que nunca frequentou a escola\")\n",
    "linhas = [\"\", \"média\", \"desvio padrão\", \"1º quartil\", \"mediana\", \"3º quartil\", \"máximo\"]\n",
    "renda_nfreq_print = [linhas,['Branca'],['Preta'],['Amarela'],['Parda'],['Indígena'],['Sem Declaração']]\n",
    "for y in range(6):\n",
    "    for x in [1, 2, 4, 5, 6, 7]:\n",
    "        renda_nfreq_print[y + 1].append(desc_renda_nfreq[y][x])\n",
    "\n",
    "data = (np.array(renda_nfreq_print).T)\n",
    "print(tabulate(data, headers=\"firstrow\", tablefmt=\"fancy_grid\", colalign=([\"center\"]*7), floatfmt=\".3f\"))"
   ]
  },
  {
   "cell_type": "markdown",
   "id": "12e89ca7",
   "metadata": {},
   "source": [
    "### 3.2.3 Relação entre renda e frequência escolar"
   ]
  },
  {
   "cell_type": "markdown",
   "id": "c0b8cb5e",
   "metadata": {},
   "source": [
    "Abaixo são calculadas as medidas resumo para o percentual da população que frequenta a escola."
   ]
  },
  {
   "cell_type": "code",
   "execution_count": 6,
   "id": "9531a451",
   "metadata": {
    "scrolled": false
   },
   "outputs": [
    {
     "name": "stdout",
     "output_type": "stream",
     "text": [
      "Medidas resumo para percentual da população que frequenta a escola\n",
      "╒═══════════════╤══════════════════╤═══════════╤═════════════╤═══════════╤═════════╤═════════╤═════════╤═════════════╕\n",
      "│               │  Sem rendimento  │  Até 1/4  │  1/4 a 1/2  │  1/2 a 1  │  1 a 2  │  2 a 3  │  3 a 5  │  Mais de 5  │\n",
      "╞═══════════════╪══════════════════╪═══════════╪═════════════╪═══════════╪═════════╪═════════╪═════════╪═════════════╡\n",
      "│     média     │      49.196      │  51.306   │   52.077    │  53.835   │ 57.348  │ 61.956  │ 65.157  │   67.169    │\n",
      "├───────────────┼──────────────────┼───────────┼─────────────┼───────────┼─────────┼─────────┼─────────┼─────────────┤\n",
      "│ desvio padrão │      32.328      │  37.907   │   38.838    │  39.137   │ 38.539  │ 37.011  │ 36.131  │   35.986    │\n",
      "├───────────────┼──────────────────┼───────────┼─────────────┼───────────┼─────────┼─────────┼─────────┼─────────────┤\n",
      "│  1º quartil   │      17.721      │  14.760   │   15.988    │  17.335   │ 23.633  │ 33.873  │ 38.319  │   41.869    │\n",
      "├───────────────┼──────────────────┼───────────┼─────────────┼───────────┼─────────┼─────────┼─────────┼─────────────┤\n",
      "│    mediana    │      51.165      │  55.053   │   55.401    │  57.513   │ 63.175  │ 72.130  │ 79.461  │   84.298    │\n",
      "├───────────────┼──────────────────┼───────────┼─────────────┼───────────┼─────────┼─────────┼─────────┼─────────────┤\n",
      "│  3º quartil   │      78.291      │  84.626   │   87.936    │  90.936   │ 94.278  │ 96.485  │ 97.216  │   97.734    │\n",
      "├───────────────┼──────────────────┼───────────┼─────────────┼───────────┼─────────┼─────────┼─────────┼─────────────┤\n",
      "│    máximo     │      90.074      │  96.691   │   97.792    │  98.379   │ 98.898  │ 98.942  │ 98.745  │   98.910    │\n",
      "╘═══════════════╧══════════════════╧═══════════╧═════════════╧═══════════╧═════════╧═════════╧═════════╧═════════════╛\n"
     ]
    }
   ],
   "source": [
    "# Conjuntos de dados de renda\n",
    "renda_total = [tab3.iloc[0:12, x] for x in range(2, 10)]\n",
    "renda_freq = [(tab3.iloc[13:25, x] / renda_total[x-2].values * 100) for x in range(2, 10)]\n",
    "renda_jafreq = [tab3.iloc[26:38, x] / renda_total[x-2].values * 100 for x in range(2, 10)]\n",
    "renda_nfreq = [tab3.iloc[39:51, x] / renda_total[x-2].values * 100 for x in range(2, 10)]\n",
    "\n",
    "# Calcular estatísticas descritivas para cada categoria\n",
    "desc_renda_freq = [renda_freq[x].describe() for x in range(8)]\n",
    "\n",
    "# Mostrar as estatísticas descritivas\n",
    "print(\"Medidas resumo para percentual da população que frequenta a escola\")\n",
    "linhas = [\"\", \"média\", \"desvio padrão\", \"1º quartil\", \"mediana\", \"3º quartil\", \"máximo\"]\n",
    "renda_freq_print = [linhas, [\"Sem rendimento\"], [\"Até 1/4\"], [\"1/4 a 1/2\"], [\"1/2 a 1\"], [\"1 a 2\"], [\"2 a 3\"], [\"3 a 5\"], [\"Mais de 5\"]]\n",
    "for y in range(8):\n",
    "    for x in [1, 2, 4, 5, 6, 7]:\n",
    "        renda_freq_print[y + 1].append(desc_renda_freq[y][x])\n",
    "\n",
    "data = (np.array(renda_freq_print).T)\n",
    "print(tabulate(data, headers=\"firstrow\", tablefmt=\"fancy_grid\", colalign=([\"center\"]*9), floatfmt=\".3f\"))"
   ]
  },
  {
   "cell_type": "markdown",
   "id": "6c169766",
   "metadata": {},
   "source": [
    "Abaixo são calculadas as medidas resumo para o percentual da população que já frequentou a escola."
   ]
  },
  {
   "cell_type": "code",
   "execution_count": 7,
   "id": "dc228afc",
   "metadata": {
    "scrolled": false
   },
   "outputs": [
    {
     "name": "stdout",
     "output_type": "stream",
     "text": [
      "Medidas resumo para percentual da população que já frequentou a escola\n",
      "╒═══════════════╤══════════════════╤═══════════╤═════════════╤═══════════╤═════════╤═════════╤═════════╤═════════════╕\n",
      "│               │  Sem rendimento  │  Até 1/4  │  1/4 a 1/2  │  1/2 a 1  │  1 a 2  │  2 a 3  │  3 a 5  │  Mais de 5  │\n",
      "╞═══════════════╪══════════════════╪═══════════╪═════════════╪═══════════╪═════════╪═════════╪═════════╪═════════════╡\n",
      "│     média     │      33.353      │  33.492   │   34.847    │  35.143   │ 34.307  │ 31.306  │ 28.997  │   27.638    │\n",
      "├───────────────┼──────────────────┼───────────┼─────────────┼───────────┼─────────┼─────────┼─────────┼─────────────┤\n",
      "│ desvio padrão │      33.750      │  37.277   │   38.933    │  39.544   │ 39.505  │ 37.800  │ 36.710  │   36.551    │\n",
      "├───────────────┼──────────────────┼───────────┼─────────────┼───────────┼─────────┼─────────┼─────────┼─────────────┤\n",
      "│  1º quartil   │      3.325       │   1.981   │    1.957    │   2.016   │  1.889  │  1.469  │  1.142  │    1.039    │\n",
      "├───────────────┼──────────────────┼───────────┼─────────────┼───────────┼─────────┼─────────┼─────────┼─────────────┤\n",
      "│    mediana    │      16.233      │  10.529   │   10.261    │   9.293   │  7.662  │  5.364  │  4.052  │    3.539    │\n",
      "├───────────────┼──────────────────┼───────────┼─────────────┼───────────┼─────────┼─────────┼─────────┼─────────────┤\n",
      "│  3º quartil   │      70.368      │  75.059   │   77.908    │  79.538   │ 75.634  │ 64.575  │ 56.323  │   50.810    │\n",
      "├───────────────┼──────────────────┼───────────┼─────────────┼───────────┼─────────┼─────────┼─────────┼─────────────┤\n",
      "│    máximo     │      78.039      │  84.407   │   88.026    │  89.392   │ 88.741  │ 91.726  │ 92.395  │   92.477    │\n",
      "╘═══════════════╧══════════════════╧═══════════╧═════════════╧═══════════╧═════════╧═════════╧═════════╧═════════════╛\n"
     ]
    }
   ],
   "source": [
    "# Calcular estatísticas descritivas para cada categoria\n",
    "desc_renda_jafreq = [renda_jafreq[x].describe() for x in range(8)]\n",
    "\n",
    "# Mostrar as estatísticas descritivas\n",
    "print(\"Medidas resumo para percentual da população que já frequentou a escola\")\n",
    "linhas = [\"\", \"média\", \"desvio padrão\", \"1º quartil\", \"mediana\", \"3º quartil\", \"máximo\"]\n",
    "renda_jafreq_print = [linhas, [\"Sem rendimento\"], [\"Até 1/4\"], [\"1/4 a 1/2\"], [\"1/2 a 1\"], [\"1 a 2\"], [\"2 a 3\"], [\"3 a 5\"], [\"Mais de 5\"]]\n",
    "for y in range(8):\n",
    "    for x in [1, 2, 4, 5, 6, 7]:\n",
    "        renda_jafreq_print[y + 1].append(desc_renda_jafreq[y][x])\n",
    "\n",
    "data = (np.array(renda_jafreq_print).T)\n",
    "print(tabulate(data, headers=\"firstrow\", tablefmt=\"fancy_grid\", colalign=([\"center\"]*9), floatfmt=\".3f\"))"
   ]
  },
  {
   "cell_type": "markdown",
   "id": "ef20b8eb",
   "metadata": {},
   "source": [
    "Abaixo são calculadas as medidas resumo para o percentual da população que nunca frequentou a escola."
   ]
  },
  {
   "cell_type": "code",
   "execution_count": 8,
   "id": "08c039fd",
   "metadata": {
    "scrolled": false
   },
   "outputs": [
    {
     "name": "stdout",
     "output_type": "stream",
     "text": [
      "Medidas resumo para percentual da população que nunca frequentou a escola\n",
      "╒═══════════════╤══════════════════╤═══════════╤═════════════╤═══════════╤═════════╤═════════╤═════════╤═════════════╕\n",
      "│               │  Sem rendimento  │  Até 1/4  │  1/4 a 1/2  │  1/2 a 1  │  1 a 2  │  2 a 3  │  3 a 5  │  Mais de 5  │\n",
      "╞═══════════════╪══════════════════╪═══════════╪═════════════╪═══════════╪═════════╪═════════╪═════════╪═════════════╡\n",
      "│     média     │      17.452      │  15.202   │   13.076    │  11.022   │  8.345  │  6.738  │  5.847  │    5.193    │\n",
      "├───────────────┼──────────────────┼───────────┼─────────────┼───────────┼─────────┼─────────┼─────────┼─────────────┤\n",
      "│ desvio padrão │      21.330      │  23.258   │   22.721    │  20.900   │ 18.694  │ 17.035  │ 15.762  │   14.467    │\n",
      "├───────────────┼──────────────────┼───────────┼─────────────┼───────────┼─────────┼─────────┼─────────┼─────────────┤\n",
      "│  1º quartil   │      5.760       │   2.090   │    1.282    │   0.863   │  0.511  │  0.410  │  0.448  │    0.409    │\n",
      "├───────────────┼──────────────────┼───────────┼─────────────┼───────────┼─────────┼─────────┼─────────┼─────────────┤\n",
      "│    mediana    │      8.482       │   5.693   │    3.366    │   2.160   │  1.091  │  0.744  │  0.639  │    0.580    │\n",
      "├───────────────┼──────────────────┼───────────┼─────────────┼───────────┼─────────┼─────────┼─────────┼─────────────┤\n",
      "│  3º quartil   │      18.569      │  17.115   │   13.875    │  10.685   │  5.874  │  3.089  │  2.123  │    1.518    │\n",
      "├───────────────┼──────────────────┼───────────┼─────────────┼───────────┼─────────┼─────────┼─────────┼─────────────┤\n",
      "│    máximo     │      78.930      │  82.292   │   79.694    │  73.371   │ 65.976  │ 60.095  │ 55.600  │   50.995    │\n",
      "╘═══════════════╧══════════════════╧═══════════╧═════════════╧═══════════╧═════════╧═════════╧═════════╧═════════════╛\n"
     ]
    }
   ],
   "source": [
    "# Calcular estatísticas descritivas para cada categoria\n",
    "desc_renda_nfreq = [renda_nfreq[x].describe() for x in range(8)]\n",
    "\n",
    "# Mostrar as estatísticas descritivas\n",
    "print(\"Medidas resumo para percentual da população que nunca frequentou a escola\")\n",
    "linhas = [\"\", \"média\", \"desvio padrão\", \"1º quartil\", \"mediana\", \"3º quartil\", \"máximo\"]\n",
    "renda_nfreq_print = [linhas, [\"Sem rendimento\"], [\"Até 1/4\"], [\"1/4 a 1/2\"], [\"1/2 a 1\"], [\"1 a 2\"], [\"2 a 3\"], [\"3 a 5\"], [\"Mais de 5\"]]\n",
    "for y in range(8):\n",
    "    for x in [1, 2, 4, 5, 6, 7]:\n",
    "        renda_nfreq_print[y + 1].append(desc_renda_nfreq[y][x])\n",
    "\n",
    "data = (np.array(renda_nfreq_print).T)\n",
    "print(tabulate(data, headers=\"firstrow\", tablefmt=\"fancy_grid\", colalign=([\"center\"]*9), floatfmt=\".3f\"))"
   ]
  },
  {
   "cell_type": "markdown",
   "id": "9c073430",
   "metadata": {},
   "source": [
    "Agora, traremos as medidas resumos da tabela 3, relacionando o total da população em uma dada situação escolar de acordo com a renda."
   ]
  },
  {
   "cell_type": "markdown",
   "id": "2cbf9f5a",
   "metadata": {},
   "source": [
    "## 3.3 Representação Gráfica"
   ]
  },
  {
   "cell_type": "markdown",
   "id": "6c9b7656",
   "metadata": {},
   "source": [
    "Nesta seção, traremos representações gráficas das relações entre as variáveis até então apresentadas.\n",
    "\n",
    "Comecemos, portanto, trazendo um panorama da distribuição da população brasileira dentre diferentes faixas etárias, conforme pode ser observado abaixo."
   ]
  },
  {
   "cell_type": "code",
   "execution_count": 15,
   "id": "baa2cf6b-76e4-4b76-98ec-30cb4e1076f7",
   "metadata": {
    "scrolled": true
   },
   "outputs": [
    {
     "data": {
      "image/png": "[encoded data removed]",
      "text/plain": [
       "<Figure size 720x432 with 1 Axes>"
      ]
     },
     "metadata": {
      "needs_background": "light"
     },
     "output_type": "display_data"
    }
   ],
   "source": [
    "# Define faixas etárias a serem impressas abaixo de cada barra\n",
    "rotulos_x = tab1.iloc[0:14, 0]\n",
    "\n",
    "largura_barra = 0.2\n",
    "indices = list(range(len(total_pop)))\n",
    "\n",
    "# Plota barras para total, homem e mulher\n",
    "plt.figure(figsize=(10, 6))\n",
    "plt.bar([i - largura_barra for i in indices], total_pop, largura_barra, color='magenta', label='Total Pop')\n",
    "plt.bar(indices, total_homem, largura_barra, color='blue', label='Total H')\n",
    "plt.bar([i + largura_barra for i in indices], total_mulher , largura_barra, color='red', label='Total M')\n",
    "\n",
    "# Define rótulos do gráfico\n",
    "plt.xlabel('Idade')\n",
    "plt.ylabel('Frequência')\n",
    "plt.title('População por Idade e Gênero')\n",
    "plt.xticks(indices, rotulos_x, rotation=90)\n",
    "plt.legend(['Total população', 'Homens', 'Mulheres'], loc='upper left')\n",
    "\n",
    "plt.show()"
   ]
  },
  {
   "cell_type": "markdown",
   "id": "58e84e88",
   "metadata": {},
   "source": [
    "O gráfico de barras acima visualizado é equivalente à pirâmide etária brasileira, e não segue nenhuma distribuição específica, mas permiti-nos identificar que, de forma geral, o número de mulheres e de homens na população é bem semelhante, divergindo a partir dos 30 anos, quando passam a haver mais mulheres que homens na população."
   ]
  },
  {
   "cell_type": "markdown",
   "id": "7c51e581-9a2b-4b5f-9e97-26a817f27d0d",
   "metadata": {},
   "source": [
    "### 3.3.1 Frequência escolar em razão da idade"
   ]
  },
  {
   "cell_type": "markdown",
   "id": "c27c0504",
   "metadata": {},
   "source": [
    "#### 3.3.1.1 População que frequenta a escola\n",
    "Primeiramente, plotaremos um gráfico de barras trazendo a relação entre a idade e a frequência escolar, de acordo com o sexo e de forma total. Note que o eixo horizontal adota diferentes faixas de idade, enquanto o eixo vertical adota o percentual de pessoas na dada faixa de idade que frequenta a escola."
   ]
  },
  {
   "cell_type": "code",
   "execution_count": 18,
   "id": "c3fc19bc-c65c-45b5-9858-3b0c9fcd41d0",
   "metadata": {
    "scrolled": true
   },
   "outputs": [
    {
     "data": {
      "image/png": "[encoded data removed]",
      "text/plain": [
       "<Figure size 720x432 with 1 Axes>"
      ]
     },
     "metadata": {
      "needs_background": "light"
     },
     "output_type": "display_data"
    }
   ],
   "source": [
    "largura_barra = 0.2\n",
    "indices = list(range(len(freq_pop)))\n",
    "\n",
    "# Plota barras para total, homem e mulher\n",
    "plt.figure(figsize=(10, 6))\n",
    "plt.bar([i - largura_barra for i in indices], freq_pop, largura_barra, color='magenta', label='Total Pop')\n",
    "plt.bar(indices, freq_homem, largura_barra, color='blue', label='Total H')\n",
    "plt.bar([i + largura_barra for i in indices], freq_mulher , largura_barra, color='red', label='Total M')\n",
    "\n",
    "# Define rótulos do gráfico\n",
    "plt.xlabel('Idade')\n",
    "plt.ylabel('Percentual que frequenta (%)')\n",
    "plt.title('Percentual da população por idade e gênero que\\n frequenta escola e/ou creche')\n",
    "plt.xticks(indices, rotulos_x, rotation=90)\n",
    "plt.legend(['Total população', 'Homens', 'Mulheres'], loc='upper right')\n",
    "\n",
    "plt.show()"
   ]
  },
  {
   "cell_type": "markdown",
   "id": "d7bb6f0b",
   "metadata": {},
   "source": [
    "Analisando o gráfico, nota-se que este sobe rapidamente para faixas de idade acima dos 3 anos de idade, chegando a seu máxima na faixa de 7 a 9 anos, e decaindo rapidamente a partir de então. Nota-se também que a frequência escolar é em grande parte independente do sexo, com um pequeno crescimento do percentual de mulheres em relação ao de homens percebido a partir dos 20 anos.\n",
    "\n",
    "A partir do gráfico, verifica-se que a presença no ensino fundamental é relativamente alta (acima de 90%), decaindo significativamente ao avançar para o ensino médio (agora prócimo de 80%).\n",
    "\n",
    "Também é perceptível a semelhança com a distribuição qui-quadrado, a qual pode ser analisada posteriormente."
   ]
  },
  {
   "cell_type": "markdown",
   "id": "a5cbe97e-22ae-46bc-abcf-c1408d2c876f",
   "metadata": {},
   "source": [
    "#### 3.3.1.2 População que já frequentou a escola\n",
    "A seguir, tomaremos um novo gráfico de barras trazendo a população que já frequentou a escola, nos mesmos moldes do anterior."
   ]
  },
  {
   "cell_type": "code",
   "execution_count": 19,
   "id": "401468b0-c759-41b0-9265-6fb852cb2a17",
   "metadata": {
    "scrolled": true
   },
   "outputs": [
    {
     "data": {
      "image/png": "[encoded data removed]",
      "text/plain": [
       "<Figure size 720x432 with 1 Axes>"
      ]
     },
     "metadata": {
      "needs_background": "light"
     },
     "output_type": "display_data"
    }
   ],
   "source": [
    "indices = list(range(len(jafreq_pop)))\n",
    "\n",
    "# Plota barras para total, homem e mulher\n",
    "plt.figure(figsize=(10, 6))\n",
    "plt.bar([i - largura_barra for i in indices], jafreq_pop, largura_barra, color='magenta', label='Total Pop')\n",
    "plt.bar(indices, jafreq_homem, largura_barra, color='blue', label='Total H')\n",
    "plt.bar([i + largura_barra for i in indices], jafreq_mulher , largura_barra, color='red', label='Total M')\n",
    "\n",
    "# Define rótulos do gráfico\n",
    "plt.xlabel('Idade')\n",
    "plt.ylabel('Percentual que já frequentou (%)')\n",
    "plt.title('Percentual da população por idade e gênero que\\n já frequentou escola e/ou creche')\n",
    "plt.xticks(indices, rotulos_x, rotation=90)\n",
    "plt.legend(['Total população', 'Homens', 'Mulheres'], loc='upper left')\n",
    "\n",
    "plt.show()"
   ]
  },
  {
   "cell_type": "markdown",
   "id": "14d6cd75",
   "metadata": {},
   "source": [
    "A partir do exposto no gráfico, vê-se que o percentual da população que já frequentou a escola é extremamente baixo antes dos 15 anos, condizente com o último gráfico analisado, dado que grande parte encontra-se frequentando ativamente a escola. No entanto, a partir dos 15 anos, cresce rapidamente o número de pessoas que já frequentou a escola, chegando a seu máximo na faixa dos 40 a 49 anos. Sendo assim, identifica-se uma certa taxa de evasão escolar no ensino médio, além da prevalência de um baixo número de pessoas a continuar os estudos após o ensino básico. Por fim, uma queda na faixa acima dos 60 anos indica um conjunto de pessoas que nunca frequentou a escola, o que pode ser verificado no gráfico a seguir.\n",
    "\n",
    "Percebe-se uma aproximação de uma distribuição normal com média em 40 anos."
   ]
  },
  {
   "cell_type": "markdown",
   "id": "a744611e-33fd-48b0-b1a8-96ec1eaa81ac",
   "metadata": {},
   "source": [
    "#### 3.3.1.3 População que nunca frequentou a escola\n",
    "Novamente, tomaremos um novo gráfico de barras trazendo a população que nunca frequentou a escola, nos mesmos moldes já adotados."
   ]
  },
  {
   "cell_type": "code",
   "execution_count": 20,
   "id": "91ef5c31-4e91-4e75-a52b-4df93bb5dd18",
   "metadata": {
    "scrolled": true
   },
   "outputs": [
    {
     "data": {
      "image/png": "[encoded data removed]",
      "text/plain": [
       "<Figure size 720x432 with 1 Axes>"
      ]
     },
     "metadata": {
      "needs_background": "light"
     },
     "output_type": "display_data"
    }
   ],
   "source": [
    "indices = list(range(len(nfreq_pop)))\n",
    "\n",
    "# Plota barras para total, homem e mulher\n",
    "plt.figure(figsize=(10, 6))\n",
    "plt.bar([i - largura_barra for i in indices], nfreq_pop, largura_barra, color='magenta', label='Total Pop')\n",
    "plt.bar(indices, nfreq_homem, largura_barra, color='blue', label='Total H')\n",
    "plt.bar([i + largura_barra for i in indices], nfreq_mulher , largura_barra, color='red', label='Total M')\n",
    "\n",
    "# Define rótulos do gráfico\n",
    "plt.xlabel('Idade')\n",
    "plt.ylabel('Percentual que nunca ferquentou (%)')\n",
    "plt.title('Percentual da população por idade e gênero que\\n nunca frequentou escola e/ou creche')\n",
    "plt.xticks(indices, rotulos_x, rotation=90)\n",
    "plt.legend(['Total população', 'Homens', 'Mulheres'], loc='upper right')\n",
    "\n",
    "plt.show()"
   ]
  },
  {
   "cell_type": "markdown",
   "id": "a7f2d439",
   "metadata": {},
   "source": [
    "Com este gráfico, constata-se que um baixo percentual de crianças vai à creche antes do 3 anos, aumentando para os 4 e 5 anos, mas ainda demonstrando uma evasão notável. Outro ponto interessante a se analisar é o percentual populacional que nunca compareceu à escola dentre as pessoas a partir dos 60 anos, indicando as mudanças do sistema educacional desde 1950 e a crescente importância atribuída à educação."
   ]
  },
  {
   "cell_type": "markdown",
   "id": "3d7cafc9",
   "metadata": {},
   "source": [
    "### 3.3.2 Frequência escolar em razão da renda"
   ]
  },
  {
   "cell_type": "markdown",
   "id": "6560ff52",
   "metadata": {},
   "source": [
    "#### 3.3.2.1 População que frequenta ou já frequentou a escola\n",
    "Avaliaremos aqui, na forma de um gráfico de barras, a relação entre renda e escolaridade. No eixo vertical são separadas distintas classes de renda às quais a população pertence, enquanto no eixo vertical é mostrado o percentual da população dentro de tal nível de renda que frequenta ou já frequentou a escola.\n",
    "\n",
    "A realização de análises separadas para cada situação de acesso à escola, como realizado anteriormente, foi descartada neste caso, pois a informação de maior relevância constitui de fato como o acesso, ou ausência deste, ao ambiente escolar. Portanto, segue o gráfico."
   ]
  },
  {
   "cell_type": "code",
   "execution_count": 21,
   "id": "f17b33da",
   "metadata": {
    "scrolled": false
   },
   "outputs": [
    {
     "data": {
      "image/png": "[encoded data removed]",
      "text/plain": [
       "<Figure size 720x432 with 1 Axes>"
      ]
     },
     "metadata": {
      "needs_background": "light"
     },
     "output_type": "display_data"
    }
   ],
   "source": [
    "rotulos_x_renda = \"Sem rendimento\", \"Até 1/4\", \"1/4 a 1/2\", \"1/2 a 1\", \"1 a 2\", \"2 a 3\", \"3 a 5\", \"Mais de 5\"\n",
    "\n",
    "largura_barra = 0.6\n",
    "lista_freq = [sum(np.multiply(np.add(renda_freq, renda_jafreq), renda_total)[x]) / sum(renda_total[x]) for x in range(8)]\n",
    "indices_renda = list(range(len(lista_freq)))\n",
    "\n",
    "# Plota barras\n",
    "plt.figure(figsize=(10, 6))\n",
    "plt.bar(indices_renda, lista_freq, largura_barra, color='blue', label='Total H')\n",
    "\n",
    "# Define rótulos do gráfico\n",
    "plt.xlabel('Renda (em salários mínimos)')\n",
    "plt.ylabel('Percentual que frequenta ou já frequentou (%)')\n",
    "plt.title('Percentual da população por renda per capita que\\n frequenta escola e/ou creche')\n",
    "plt.ylim([70,100])\n",
    "plt.xticks(indices_renda, rotulos_x_renda, rotation=90)\n",
    "\n",
    "plt.show()"
   ]
  },
  {
   "cell_type": "markdown",
   "id": "13d7d23b",
   "metadata": {},
   "source": [
    "A partir deste gráfico, verifica-se uma relação quase diretamente proporcional entre o nível de renda e o percentual da população com acesso ao ambiente escolar, relação que pode ser analisada mais a fundo posteriormente."
   ]
  },
  {
   "cell_type": "markdown",
   "id": "5caad6a5",
   "metadata": {},
   "source": [
    "## 3.3 Análise de Correlações"
   ]
  },
  {
   "cell_type": "markdown",
   "id": "ee5587a9",
   "metadata": {},
   "source": [
    "Fazer gráficos de relação entre variáveis e calcular correlação"
   ]
  },
  {
   "cell_type": "markdown",
   "id": "dfb05df0",
   "metadata": {},
   "source": [
    "# 4. Conclusão"
   ]
  },
  {
   "cell_type": "markdown",
   "id": "44231b77",
   "metadata": {},
   "source": [
    "# 5. Referências"
   ]
  }
 ],
 "metadata": {
  "kernelspec": {
   "display_name": "Python 3",
   "language": "python",
   "name": "python3"
  },
  "language_info": {
   "codemirror_mode": {
    "name": "ipython",
    "version": 3
   },
   "file_extension": ".py",
   "mimetype": "text/x-python",
   "name": "python",
   "nbconvert_exporter": "python",
   "pygments_lexer": "ipython3",
   "version": "3.8.8"
  }
 },
 "nbformat": 4,
 "nbformat_minor": 5
}
