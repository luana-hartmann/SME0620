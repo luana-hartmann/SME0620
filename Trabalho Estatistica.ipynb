{
 "cells": [
  {
   "cell_type": "markdown",
   "id": "a411b05c",
   "metadata": {},
   "source": [
    "# Índices da Educação Brasileira no Ano de 2010\n",
    "\n",
    "##### Integrantes: Guilherme Lorete Schmidt - 13676857 e Luana Hartmann Franco da Cruz - 13676350"
   ]
  },
  {
   "cell_type": "code",
   "execution_count": 298,
   "id": "e22f50c0",
   "metadata": {},
   "outputs": [],
   "source": [
    "import numpy as np\n",
    "import matplotlib\n",
    "import time\n",
    "import matplotlib.pyplot as plt\n",
    "import sklearn.metrics as skl\n",
    "from tabulate import tabulate\n",
    "from scipy import integrate\n",
    "import pandas as pd"
   ]
  },
  {
   "cell_type": "markdown",
   "id": "6e2e042a",
   "metadata": {},
   "source": [
    "# Introdução\n",
    "No cenário contemporâneo, a análise estatística dos índices educacionais no Brasil desempenha um papel crucial na compreensão da qualidade e eficácia do sistema educacional do país. A educação é um dos pilares fundamentais para o desenvolvimento social, econômico e cultural de uma nação, influenciando diretamente a formação de cidadãos e o progresso coletivo. Portanto, examinar de forma sistemática e estatística os indicadores educacionais torna-se imperativo para identificar tendências, desafios e oportunidades de melhoria.\n",
    "\n",
    "Neste contexto, a análise estatística proporciona uma abordagem objetiva e baseada em evidências para avaliar diversos aspectos do sistema educacional brasileiro, focando-se nesta análise no acesso à escola dentre diferentes grupos populacionais. Ao coletar, organizar e interpretar dados quantitativos e qualitativos, é possível identificar padrões, correlações e disparidades que ajudam a informar políticas públicas, direcionar investimentos e promover a equidade no acesso à educação.\n",
    "\n",
    "Além disso, a análise estatística permite uma comparação longitudinal e transversal dos índices educacionais, possibilitando acompanhar o progresso ao longo do tempo e fazer comparações entre diferentes redes de ensino e grupos demográficos. Essa perspectiva ampla e detalhada é essencial para uma avaliação abrangente e contextualizada do sistema educacional brasileiro, fornecendo insights valiosos para a formulação de estratégias e intervenções eficazes.\n",
    "\n",
    "Portanto, este estudo se propõe a realizar uma análise estatística dos principais índices da educação brasileira, buscando entender os desafios enfrentados, as conquistas alcançadas e as áreas prioritárias para investimento e aprimoramento. Ao examinar indicadores como taxa de alfabetização, taxa de escolarização, desempenho em avaliações nacionais e acesso à educação de qualidade, pretendemos contribuir para o debate público e para o desenvolvimento de políticas educacionais mais eficientes e inclusivas."
   ]
  },
  {
   "cell_type": "markdown",
   "id": "47d0daf9",
   "metadata": {},
   "source": [
    "# Metodologia"
   ]
  },
  {
   "cell_type": "markdown",
   "id": "56c9727f",
   "metadata": {},
   "source": []
  },
  {
   "cell_type": "markdown",
   "id": "231ef3dd",
   "metadata": {},
   "source": [
    "# Resultados"
   ]
  },
  {
   "cell_type": "markdown",
   "id": "0aacb655",
   "metadata": {},
   "source": [
    "## Medidas Resumo\n",
    "Inicialmente, devemos calcular as medidas resumo dos dados obtidos, manifestando-se através da média e variância de cada uma. Portanto, começaremos lendo as tabelas e categorizando os dados através do código abaixo."
   ]
  },
  {
   "cell_type": "code",
   "execution_count": 299,
   "id": "08a2ae15",
   "metadata": {},
   "outputs": [],
   "source": [
    "# planilha censo demográfico 2010 educação por sexo, idade e domicílio\n",
    "tab1 = pd.read_excel('tab1_1_1.xlsx', skiprows=8)\n",
    "# idade e sexo / total / frequentou / já frequentou / nunca frequentou\n",
    "\n",
    "# planilha censo demográfico 2010 educação por cor ou raça\n",
    "tab2 = pd.read_excel('tab1_1_2.xls', skiprows=8)\n",
    "\n",
    "# planilha censo demográfico 2010 educação por rendimento nominal per capita\n",
    "tab3 = pd.read_excel('tab1_1_3.xlsx', skiprows=6)"
   ]
  },
  {
   "cell_type": "markdown",
   "id": "23195dd1",
   "metadata": {},
   "source": [
    "### Relação entre sexo e frequência escolar"
   ]
  },
  {
   "cell_type": "markdown",
   "id": "f573b7c8",
   "metadata": {},
   "source": [
    "Abaixo são calculadas as medidas resumo para o percentual da população que frequenta a escola."
   ]
  },
  {
   "cell_type": "code",
   "execution_count": 300,
   "id": "e0e09301-ab08-4986-b1f1-4631e1a007b0",
   "metadata": {
    "scrolled": true
   },
   "outputs": [
    {
     "name": "stdout",
     "output_type": "stream",
     "text": [
      "Medidas resumo para percentual da população que frequenta a escola\n",
      "╒═══════════════╤═════════╤═════════╤══════════╕\n",
      "│               │  total  │  homem  │  mulher  │\n",
      "╞═══════════════╪═════════╪═════════╪══════════╡\n",
      "│     média     │ 47.3731 │ 46.8218 │  47.91   │\n",
      "├───────────────┼─────────┼─────────┼──────────┤\n",
      "│ desvio padrão │ 39.0898 │ 39.3972 │ 38.8116  │\n",
      "├───────────────┼─────────┼─────────┼──────────┤\n",
      "│  1º quartil   │ 10.6496 │ 9.27626 │  11.971  │\n",
      "├───────────────┼─────────┼─────────┼──────────┤\n",
      "│    mediana    │ 35.0556 │ 34.0974 │ 36.0864  │\n",
      "├───────────────┼─────────┼─────────┼──────────┤\n",
      "│  3º quartil   │ 86.3184 │ 86.0758 │ 86.5697  │\n",
      "├───────────────┼─────────┼─────────┼──────────┤\n",
      "│    máximo     │ 97.6366 │ 97.5174 │ 97.7603  │\n",
      "╘═══════════════╧═════════╧═════════╧══════════╛\n"
     ]
    }
   ],
   "source": [
    "# População total brasileira\n",
    "total_pop = tab1.iloc[0:14, 1]\n",
    "total_homem = tab1.iloc[15:29, 1]\n",
    "total_mulher = tab1.iloc[30:44, 1]\n",
    "\n",
    "# Percentual da população que frequenta a escola\n",
    "freq_pop = tab1.iloc[0:14, 2] / total_pop * 100\n",
    "freq_homem = tab1.iloc[15:29, 2] / total_homem * 100\n",
    "freq_mulher = tab1.iloc[30:44, 2] / total_mulher * 100\n",
    "\n",
    "# Calcular estatísticas descritivas para cada categoria\n",
    "desc_freq_pop = freq_pop.describe(exclude='category')\n",
    "desc_freq_homem = freq_homem.describe()\n",
    "desc_freq_mulher = freq_mulher.describe()\n",
    "\n",
    "# Mostrar as estatísticas descritivas\n",
    "print(\"Medidas resumo para percentual da população que frequenta a escola\")\n",
    "freq_pop_print = ['total'] + [desc_freq_pop[x] for x in [1, 2, 4, 5, 6, 7]]\n",
    "freq_hom_print = ['homem'] + [desc_freq_homem[x] for x in [1, 2, 4, 5, 6, 7]]\n",
    "freq_mul_print = ['mulher'] + [desc_freq_mulher[x] for x in [1, 2, 4, 5, 6, 7]]\n",
    "\n",
    "linhas = ['', 'média', 'desvio padrão', '1º quartil', 'mediana', '3º quartil', 'máximo']\n",
    "data = np.array([linhas, freq_pop_print, freq_hom_print, freq_mul_print]).T\n",
    "print(tabulate(data, headers='firstrow', tablefmt=\"fancy_grid\", colalign=([\"center\"]*4)))"
   ]
  },
  {
   "cell_type": "markdown",
   "id": "e500ac5a",
   "metadata": {},
   "source": [
    "Abaixo são calculadas as medidas resumo para o percentual da população que já frequentou a escola."
   ]
  },
  {
   "cell_type": "code",
   "execution_count": 301,
   "id": "60d39e29-768f-449d-a29a-879cf5813283",
   "metadata": {
    "scrolled": true
   },
   "outputs": [
    {
     "name": "stdout",
     "output_type": "stream",
     "text": [
      "Medidas resumo para percentual da população que já frequentou escola\n",
      "╒═══════════════╤═════════╤═════════╤══════════╕\n",
      "│               │  total  │  homem  │  mulher  │\n",
      "╞═══════════════╪═════════╪═════════╪══════════╡\n",
      "│     média     │ 41.1395 │ 41.5375 │  40.768  │\n",
      "├───────────────┼─────────┼─────────┼──────────┤\n",
      "│ desvio padrão │ 39.7552 │ 40.0989 │ 39.4439  │\n",
      "├───────────────┼─────────┼─────────┼──────────┤\n",
      "│  1º quartil   │ 2.05304 │ 2.12549 │ 1.97786  │\n",
      "├───────────────┼─────────┼─────────┼──────────┤\n",
      "│    mediana    │ 34.8028 │ 34.8876 │ 34.7173  │\n",
      "├───────────────┼─────────┼─────────┼──────────┤\n",
      "│  3º quartil   │ 81.6106 │ 82.7131 │ 80.5975  │\n",
      "├───────────────┼─────────┼─────────┼──────────┤\n",
      "│    máximo     │ 88.4257 │ 88.5402 │ 88.3186  │\n",
      "╘═══════════════╧═════════╧═════════╧══════════╛\n"
     ]
    }
   ],
   "source": [
    "jafreq_pop = tab1.iloc[0:14, 3] / total_pop * 100\n",
    "jafreq_homem = tab1.iloc[15:29, 3] / total_homem * 100\n",
    "jafreq_mulher = tab1.iloc[30:44, 3] / total_mulher * 100\n",
    "\n",
    "# Calcular estatísticas descritivas para cada categoria\n",
    "desc_jafreq_pop = jafreq_pop.describe()\n",
    "desc_jafreq_homem = jafreq_homem.describe()\n",
    "desc_jafreq_mulher = jafreq_mulher.describe()\n",
    "\n",
    "# Mostrar as estatísticas descritivas\n",
    "print(\"Medidas resumo para percentual da população que já frequentou escola\")\n",
    "jafreq_pop_print = ['total'] + [desc_jafreq_pop[x] for x in [1, 2, 4, 5, 6, 7]]\n",
    "jafreq_hom_print = ['homem'] + [desc_jafreq_homem[x] for x in [1, 2, 4, 5, 6, 7]]\n",
    "jafreq_mul_print = ['mulher'] + [desc_jafreq_mulher[x] for x in [1, 2, 4, 5, 6, 7]]\n",
    "\n",
    "linhas = ['', 'média', 'desvio padrão', '1º quartil', 'mediana', '3º quartil', 'máximo']\n",
    "data = np.array([linhas, jafreq_pop_print, jafreq_hom_print, jafreq_mul_print]).T\n",
    "print(tabulate(data, headers='firstrow', tablefmt=\"fancy_grid\", colalign=([\"center\"]*4)))"
   ]
  },
  {
   "cell_type": "markdown",
   "id": "b2f7b10f",
   "metadata": {},
   "source": [
    "Abaixo são calculadas as medidas resumo para o percentual da população nunca frequentou a escola."
   ]
  },
  {
   "cell_type": "code",
   "execution_count": 302,
   "id": "b7d421ab-652a-4a33-bdd0-8d7061842e86",
   "metadata": {
    "scrolled": true
   },
   "outputs": [
    {
     "name": "stdout",
     "output_type": "stream",
     "text": [
      "Medidas resumo para percentual da população que nunca frequentou escola\n",
      "╒═══════════════╤═════════╤═════════╤══════════╕\n",
      "│               │  total  │  homem  │  mulher  │\n",
      "╞═══════════════╪═════════╪═════════╪══════════╡\n",
      "│     média     │ 11.4874 │ 11.6407 │ 11.3219  │\n",
      "├───────────────┼─────────┼─────────┼──────────┤\n",
      "│ desvio padrão │ 19.7133 │ 19.5653 │ 19.8583  │\n",
      "├───────────────┼─────────┼─────────┼──────────┤\n",
      "│  1º quartil   │ 1.39414 │ 1.53372 │ 1.27264  │\n",
      "├───────────────┼─────────┼─────────┼──────────┤\n",
      "│    mediana    │ 3.59724 │ 4.02563 │ 3.18023  │\n",
      "├───────────────┼─────────┼─────────┼──────────┤\n",
      "│  3º quartil   │ 10.242  │ 10.4367 │ 10.0467  │\n",
      "├───────────────┼─────────┼─────────┼──────────┤\n",
      "│    máximo     │ 74.6257 │ 74.531  │ 74.7236  │\n",
      "╘═══════════════╧═════════╧═════════╧══════════╛\n"
     ]
    }
   ],
   "source": [
    "nfreq_pop = tab1.iloc[0:14, 4] / total_pop * 100\n",
    "nfreq_homem = tab1.iloc[15:29, 4] / total_homem * 100\n",
    "nfreq_mulher = tab1.iloc[30:44, 4] / total_mulher * 100\n",
    "\n",
    "# Calcular estatísticas descritivas para cada categoria\n",
    "desc_nfreq_pop = nfreq_pop.describe()\n",
    "desc_nfreq_homem = nfreq_homem.describe()\n",
    "desc_nfreq_mulher = nfreq_mulher.describe()\n",
    "\n",
    "# Mostrar as estatísticas descritivas\n",
    "print(\"Medidas resumo para percentual da população que nunca frequentou escola\")\n",
    "nfreq_pop_print = ['total'] + [desc_nfreq_pop[x] for x in [1, 2, 4, 5, 6, 7]]\n",
    "nfreq_hom_print = ['homem'] + [desc_nfreq_homem[x] for x in [1, 2, 4, 5, 6, 7]]\n",
    "nfreq_mul_print = ['mulher'] + [desc_nfreq_mulher[x] for x in [1, 2, 4, 5, 6, 7]]\n",
    "\n",
    "linhas = ['', 'média', 'desvio padrão', '1º quartil', 'mediana', '3º quartil', 'máximo']\n",
    "data = np.array([linhas, nfreq_pop_print, nfreq_hom_print, nfreq_mul_print]).T\n",
    "print(tabulate(data, headers='firstrow', tablefmt=\"fancy_grid\", colalign=([\"center\"]*4)))"
   ]
  },
  {
   "cell_type": "markdown",
   "id": "12e89ca7",
   "metadata": {},
   "source": [
    "### Relação entre renda e frequência escolar"
   ]
  },
  {
   "cell_type": "markdown",
   "id": "c0b8cb5e",
   "metadata": {},
   "source": [
    "Abaixo são calculadas as medidas resumo para o percentual da população que frequenta a escola."
   ]
  },
  {
   "cell_type": "code",
   "execution_count": 303,
   "id": "9531a451",
   "metadata": {},
   "outputs": [
    {
     "name": "stdout",
     "output_type": "stream",
     "text": [
      "Medidas resumo para percentual da população que frequenta a escola\n",
      "╒═══════════════╤══════════════════╤═══════════╤═════════════╤═══════════╤═════════╤═════════╤═════════╤═════════════╕\n",
      "│               │  Sem rendimento  │  Até 1/4  │  1/4 a 1/2  │  1/2 a 1  │  1 a 2  │  2 a 3  │  3 a 5  │  Mais de 5  │\n",
      "╞═══════════════╪══════════════════╪═══════════╪═════════════╪═══════════╪═════════╪═════════╪═════════╪═════════════╡\n",
      "│     média     │      49.196      │  51.306   │   52.077    │  53.835   │ 57.348  │ 61.956  │ 65.157  │   67.169    │\n",
      "├───────────────┼──────────────────┼───────────┼─────────────┼───────────┼─────────┼─────────┼─────────┼─────────────┤\n",
      "│ desvio padrão │      32.328      │  37.907   │   38.838    │  39.137   │ 38.539  │ 37.011  │ 36.131  │   35.986    │\n",
      "├───────────────┼──────────────────┼───────────┼─────────────┼───────────┼─────────┼─────────┼─────────┼─────────────┤\n",
      "│  1º quartil   │      17.721      │  14.760   │   15.988    │  17.335   │ 23.633  │ 33.873  │ 38.319  │   41.869    │\n",
      "├───────────────┼──────────────────┼───────────┼─────────────┼───────────┼─────────┼─────────┼─────────┼─────────────┤\n",
      "│    mediana    │      51.165      │  55.053   │   55.401    │  57.513   │ 63.175  │ 72.130  │ 79.461  │   84.298    │\n",
      "├───────────────┼──────────────────┼───────────┼─────────────┼───────────┼─────────┼─────────┼─────────┼─────────────┤\n",
      "│  3º quartil   │      78.291      │  84.626   │   87.936    │  90.936   │ 94.278  │ 96.485  │ 97.216  │   97.734    │\n",
      "├───────────────┼──────────────────┼───────────┼─────────────┼───────────┼─────────┼─────────┼─────────┼─────────────┤\n",
      "│    máximo     │      90.074      │  96.691   │   97.792    │  98.379   │ 98.898  │ 98.942  │ 98.745  │   98.910    │\n",
      "╘═══════════════╧══════════════════╧═══════════╧═════════════╧═══════════╧═════════╧═════════╧═════════╧═════════════╛\n"
     ]
    }
   ],
   "source": [
    "# Conjuntos de dados de renda\n",
    "renda_total = [tab3.iloc[0:12, x] for x in range(2, 10)]\n",
    "renda_freq = [(tab3.iloc[13:25, x] / renda_total[x-2].values * 100) for x in range(2, 10)]\n",
    "renda_jafreq = [tab3.iloc[26:38, x] / renda_total[x-2].values * 100 for x in range(2, 10)]\n",
    "renda_nfreq = [tab3.iloc[39:51, x] / renda_total[x-2].values * 100 for x in range(2, 10)]\n",
    "\n",
    "# Calcular estatísticas descritivas para cada categoria\n",
    "desc_renda_freq = [renda_freq[x].describe() for x in range(8)]\n",
    "\n",
    "# Mostrar as estatísticas descritivas\n",
    "print(\"Medidas resumo para percentual da população que frequenta a escola\")\n",
    "linhas = [\"\", \"média\", \"desvio padrão\", \"1º quartil\", \"mediana\", \"3º quartil\", \"máximo\"]\n",
    "renda_freq_print = [linhas, [\"Sem rendimento\"], [\"Até 1/4\"], [\"1/4 a 1/2\"], [\"1/2 a 1\"], [\"1 a 2\"], [\"2 a 3\"], [\"3 a 5\"], [\"Mais de 5\"]]\n",
    "for y in range(8):\n",
    "    for x in [1, 2, 4, 5, 6, 7]:\n",
    "        renda_freq_print[y + 1].append(desc_renda_freq[y][x])\n",
    "\n",
    "data = (np.array(renda_freq_print).T)\n",
    "print(tabulate(data, headers=\"firstrow\", tablefmt=\"fancy_grid\", colalign=([\"center\"]*9), floatfmt=\".3f\"))"
   ]
  },
  {
   "cell_type": "markdown",
   "id": "6c169766",
   "metadata": {},
   "source": [
    "Abaixo são calculadas as medidas resumo para o percentual da população que já frequentou a escola."
   ]
  },
  {
   "cell_type": "code",
   "execution_count": 304,
   "id": "dc228afc",
   "metadata": {},
   "outputs": [
    {
     "name": "stdout",
     "output_type": "stream",
     "text": [
      "Medidas resumo para percentual da população que já frequentou a escola\n",
      "╒═══════════════╤══════════════════╤═══════════╤═════════════╤═══════════╤═════════╤═════════╤═════════╤═════════════╕\n",
      "│               │  Sem rendimento  │  Até 1/4  │  1/4 a 1/2  │  1/2 a 1  │  1 a 2  │  2 a 3  │  3 a 5  │  Mais de 5  │\n",
      "╞═══════════════╪══════════════════╪═══════════╪═════════════╪═══════════╪═════════╪═════════╪═════════╪═════════════╡\n",
      "│     média     │      33.353      │  33.492   │   34.847    │  35.143   │ 34.307  │ 31.306  │ 28.997  │   27.638    │\n",
      "├───────────────┼──────────────────┼───────────┼─────────────┼───────────┼─────────┼─────────┼─────────┼─────────────┤\n",
      "│ desvio padrão │      33.750      │  37.277   │   38.933    │  39.544   │ 39.505  │ 37.800  │ 36.710  │   36.551    │\n",
      "├───────────────┼──────────────────┼───────────┼─────────────┼───────────┼─────────┼─────────┼─────────┼─────────────┤\n",
      "│  1º quartil   │      3.325       │   1.981   │    1.957    │   2.016   │  1.889  │  1.469  │  1.142  │    1.039    │\n",
      "├───────────────┼──────────────────┼───────────┼─────────────┼───────────┼─────────┼─────────┼─────────┼─────────────┤\n",
      "│    mediana    │      16.233      │  10.529   │   10.261    │   9.293   │  7.662  │  5.364  │  4.052  │    3.539    │\n",
      "├───────────────┼──────────────────┼───────────┼─────────────┼───────────┼─────────┼─────────┼─────────┼─────────────┤\n",
      "│  3º quartil   │      70.368      │  75.059   │   77.908    │  79.538   │ 75.634  │ 64.575  │ 56.323  │   50.810    │\n",
      "├───────────────┼──────────────────┼───────────┼─────────────┼───────────┼─────────┼─────────┼─────────┼─────────────┤\n",
      "│    máximo     │      78.039      │  84.407   │   88.026    │  89.392   │ 88.741  │ 91.726  │ 92.395  │   92.477    │\n",
      "╘═══════════════╧══════════════════╧═══════════╧═════════════╧═══════════╧═════════╧═════════╧═════════╧═════════════╛\n"
     ]
    }
   ],
   "source": [
    "# Calcular estatísticas descritivas para cada categoria\n",
    "desc_renda_jafreq = [renda_jafreq[x].describe() for x in range(8)]\n",
    "\n",
    "# Mostrar as estatísticas descritivas\n",
    "print(\"Medidas resumo para percentual da população que já frequentou a escola\")\n",
    "linhas = [\"\", \"média\", \"desvio padrão\", \"1º quartil\", \"mediana\", \"3º quartil\", \"máximo\"]\n",
    "renda_jafreq_print = [linhas, [\"Sem rendimento\"], [\"Até 1/4\"], [\"1/4 a 1/2\"], [\"1/2 a 1\"], [\"1 a 2\"], [\"2 a 3\"], [\"3 a 5\"], [\"Mais de 5\"]]\n",
    "for y in range(8):\n",
    "    for x in [1, 2, 4, 5, 6, 7]:\n",
    "        renda_jafreq_print[y + 1].append(desc_renda_jafreq[y][x])\n",
    "\n",
    "data = (np.array(renda_jafreq_print).T)\n",
    "print(tabulate(data, headers=\"firstrow\", tablefmt=\"fancy_grid\", colalign=([\"center\"]*9), floatfmt=\".3f\"))"
   ]
  },
  {
   "cell_type": "markdown",
   "id": "ef20b8eb",
   "metadata": {},
   "source": [
    "Abaixo são calculadas as medidas resumo para o percentual da população que nunca frequentou a escola."
   ]
  },
  {
   "cell_type": "code",
   "execution_count": 305,
   "id": "08c039fd",
   "metadata": {},
   "outputs": [
    {
     "name": "stdout",
     "output_type": "stream",
     "text": [
      "Medidas resumo para percentual da população que nunca frequentou a escola\n",
      "╒═══════════════╤══════════════════╤═══════════╤═════════════╤═══════════╤═════════╤═════════╤═════════╤═════════════╕\n",
      "│               │  Sem rendimento  │  Até 1/4  │  1/4 a 1/2  │  1/2 a 1  │  1 a 2  │  2 a 3  │  3 a 5  │  Mais de 5  │\n",
      "╞═══════════════╪══════════════════╪═══════════╪═════════════╪═══════════╪═════════╪═════════╪═════════╪═════════════╡\n",
      "│     média     │      17.452      │  15.202   │   13.076    │  11.022   │  8.345  │  6.738  │  5.847  │    5.193    │\n",
      "├───────────────┼──────────────────┼───────────┼─────────────┼───────────┼─────────┼─────────┼─────────┼─────────────┤\n",
      "│ desvio padrão │      21.330      │  23.258   │   22.721    │  20.900   │ 18.694  │ 17.035  │ 15.762  │   14.467    │\n",
      "├───────────────┼──────────────────┼───────────┼─────────────┼───────────┼─────────┼─────────┼─────────┼─────────────┤\n",
      "│  1º quartil   │      5.760       │   2.090   │    1.282    │   0.863   │  0.511  │  0.410  │  0.448  │    0.409    │\n",
      "├───────────────┼──────────────────┼───────────┼─────────────┼───────────┼─────────┼─────────┼─────────┼─────────────┤\n",
      "│    mediana    │      8.482       │   5.693   │    3.366    │   2.160   │  1.091  │  0.744  │  0.639  │    0.580    │\n",
      "├───────────────┼──────────────────┼───────────┼─────────────┼───────────┼─────────┼─────────┼─────────┼─────────────┤\n",
      "│  3º quartil   │      18.569      │  17.115   │   13.875    │  10.685   │  5.874  │  3.089  │  2.123  │    1.518    │\n",
      "├───────────────┼──────────────────┼───────────┼─────────────┼───────────┼─────────┼─────────┼─────────┼─────────────┤\n",
      "│    máximo     │      78.930      │  82.292   │   79.694    │  73.371   │ 65.976  │ 60.095  │ 55.600  │   50.995    │\n",
      "╘═══════════════╧══════════════════╧═══════════╧═════════════╧═══════════╧═════════╧═════════╧═════════╧═════════════╛\n"
     ]
    }
   ],
   "source": [
    "# Calcular estatísticas descritivas para cada categoria\n",
    "desc_renda_nfreq = [renda_nfreq[x].describe() for x in range(8)]\n",
    "\n",
    "# Mostrar as estatísticas descritivas\n",
    "print(\"Medidas resumo para percentual da população que nunca frequentou a escola\")\n",
    "linhas = [\"\", \"média\", \"desvio padrão\", \"1º quartil\", \"mediana\", \"3º quartil\", \"máximo\"]\n",
    "renda_nfreq_print = [linhas, [\"Sem rendimento\"], [\"Até 1/4\"], [\"1/4 a 1/2\"], [\"1/2 a 1\"], [\"1 a 2\"], [\"2 a 3\"], [\"3 a 5\"], [\"Mais de 5\"]]\n",
    "for y in range(8):\n",
    "    for x in [1, 2, 4, 5, 6, 7]:\n",
    "        renda_nfreq_print[y + 1].append(desc_renda_nfreq[y][x])\n",
    "\n",
    "data = (np.array(renda_nfreq_print).T)\n",
    "print(tabulate(data, headers=\"firstrow\", tablefmt=\"fancy_grid\", colalign=([\"center\"]*9), floatfmt=\".3f\"))"
   ]
  },
  {
   "cell_type": "markdown",
   "id": "9c073430",
   "metadata": {},
   "source": [
    "Agora, traremos as medidas resumos da tabela 3, relacionando o total da população em uma dada situação escolar de acordo com a renda."
   ]
  },
  {
   "cell_type": "markdown",
   "id": "2cbf9f5a",
   "metadata": {},
   "source": [
    "## Representação Gráfica"
   ]
  },
  {
   "cell_type": "markdown",
   "id": "6c9b7656",
   "metadata": {},
   "source": [
    "Nesta seção, traremos representações gráficas das relações entre as variáveis até então apresentadas.\n",
    "\n",
    "Comecemos, portanto, trazendo um panorama da distribuição da população brasileira dentre diferentes faixas etárias, conforme pode ser observado abaixo."
   ]
  },
  {
   "cell_type": "code",
   "execution_count": 306,
   "id": "baa2cf6b-76e4-4b76-98ec-30cb4e1076f7",
   "metadata": {
    "scrolled": true
   },
   "outputs": [
    {
     "data": {
      "image/png": "[encoded data removed]",
      "text/plain": [
       "<Figure size 432x288 with 1 Axes>"
      ]
     },
     "metadata": {
      "needs_background": "light"
     },
     "output_type": "display_data"
    }
   ],
   "source": [
    "# Define faixas etárias a serem impressas abaixo de cada barra\n",
    "rotulos_x = tab1.iloc[0:14, 0]\n",
    "\n",
    "largura_barra = 0.2\n",
    "indices = list(range(len(total_pop)))\n",
    "\n",
    "# Plota barras para total, homem e mulher\n",
    "plt.bar([i - largura_barra for i in indices], total_pop, largura_barra, color='magenta', label='Total Pop')\n",
    "plt.bar(indices, total_homem, largura_barra, color='blue', label='Total H')\n",
    "plt.bar([i + largura_barra for i in indices], total_mulher , largura_barra, color='red', label='Total M')\n",
    "\n",
    "# Define rótulos do gráfico\n",
    "plt.xlabel('Idade')\n",
    "plt.ylabel('Frequência')\n",
    "plt.title('População por Idade e Gênero')\n",
    "plt.xticks(indices, rotulos_x, rotation=90)\n",
    "plt.legend(['Total população', 'Homens', 'Mulheres'], loc='upper left')\n",
    "\n",
    "plt.show()"
   ]
  },
  {
   "cell_type": "markdown",
   "id": "58e84e88",
   "metadata": {},
   "source": [
    "O gráfico de barras acima visualizado é equivalente à pirâmide etária brasileira, e não segue nenhuma distribuição específica, mas permiti-nos identificar que, de forma geral, o número de mulheres e de homens na população é bem semelhante, divergindo a partir dos 30 anos, quando passam a haver mais mulheres que homens na população."
   ]
  },
  {
   "cell_type": "markdown",
   "id": "7c51e581-9a2b-4b5f-9e97-26a817f27d0d",
   "metadata": {},
   "source": [
    "### Frequência escolar em razão da idade"
   ]
  },
  {
   "cell_type": "markdown",
   "id": "c27c0504",
   "metadata": {},
   "source": [
    "#### População que frequenta a escola\n",
    "Primeiramente, plotaremos um gráfico de barras trazendo a relação entre a idade e a frequência escolar, de acordo com o sexo e de forma total. Note que o eixo horizontal adota diferentes faixas de idade, enquanto o eixo vertical adota o percentual de pessoas na dada faixa de idade que frequenta a escola."
   ]
  },
  {
   "cell_type": "code",
   "execution_count": 307,
   "id": "c3fc19bc-c65c-45b5-9858-3b0c9fcd41d0",
   "metadata": {
    "scrolled": true
   },
   "outputs": [
    {
     "data": {
      "image/png": "[encoded data removed]",
      "text/plain": [
       "<Figure size 432x288 with 1 Axes>"
      ]
     },
     "metadata": {
      "needs_background": "light"
     },
     "output_type": "display_data"
    }
   ],
   "source": [
    "largura_barra = 0.2\n",
    "indices = list(range(len(freq_pop)))\n",
    "\n",
    "# Plota barras para total, homem e mulher\n",
    "plt.bar([i - largura_barra for i in indices], freq_pop, largura_barra, color='magenta', label='Total Pop')\n",
    "plt.bar(indices, freq_homem, largura_barra, color='blue', label='Total H')\n",
    "plt.bar([i + largura_barra for i in indices], freq_mulher , largura_barra, color='red', label='Total M')\n",
    "\n",
    "# Define rótulos do gráfico\n",
    "plt.xlabel('Idade')\n",
    "plt.ylabel('Percentual que frequenta (%)')\n",
    "plt.title('Percentual da população por idade e gênero que\\n frequenta escola e/ou creche')\n",
    "plt.xticks(indices, rotulos_x, rotation=90)\n",
    "plt.legend(['Total população', 'Homens', 'Mulheres'], loc='upper right')\n",
    "\n",
    "plt.show()"
   ]
  },
  {
   "cell_type": "markdown",
   "id": "d7bb6f0b",
   "metadata": {},
   "source": [
    "Analisando o gráfico, nota-se que este sobe rapidamente para faixas de idade acima dos 3 anos de idade, chegando a seu máxima na faixa de 7 a 9 anos, e decaindo rapidamente a partir de então. Nota-se também que a frequência escolar é em grande parte independente do sexo, com um pequeno crescimento do percentual de mulheres em relação ao de homens percebido a partir dos 20 anos.\n",
    "\n",
    "A partir do gráfico, verifica-se que a presença no ensino fundamental é relativamente alta (acima de 90%), decaindo significativamente ao avançar para o ensino médio (agora prócimo de 80%).\n",
    "\n",
    "Também é perceptível a semelhança com a distribuição qui-quadrado, a qual pode ser analisada posteriormente."
   ]
  },
  {
   "cell_type": "markdown",
   "id": "a5cbe97e-22ae-46bc-abcf-c1408d2c876f",
   "metadata": {},
   "source": [
    "#### População que já frequentou a escola\n",
    "A seguir, tomaremos um novo gráfico de barras trazendo a população que já frequentou a escola, nos mesmos moldes do anterior."
   ]
  },
  {
   "cell_type": "code",
   "execution_count": 308,
   "id": "401468b0-c759-41b0-9265-6fb852cb2a17",
   "metadata": {
    "scrolled": true
   },
   "outputs": [
    {
     "data": {
      "image/png": "[encoded data removed]",
      "text/plain": [
       "<Figure size 432x288 with 1 Axes>"
      ]
     },
     "metadata": {
      "needs_background": "light"
     },
     "output_type": "display_data"
    }
   ],
   "source": [
    "indices = list(range(len(jafreq_pop)))\n",
    "\n",
    "# Plota barras para total, homem e mulher\n",
    "plt.bar([i - largura_barra for i in indices], jafreq_pop, largura_barra, color='magenta', label='Total Pop')\n",
    "plt.bar(indices, jafreq_homem, largura_barra, color='blue', label='Total H')\n",
    "plt.bar([i + largura_barra for i in indices], jafreq_mulher , largura_barra, color='red', label='Total M')\n",
    "\n",
    "# Define rótulos do gráfico\n",
    "plt.xlabel('Idade')\n",
    "plt.ylabel('Percentual que já frequentou (%)')\n",
    "plt.title('Percentual da população por idade e gênero que\\n já frequentou escola e/ou creche')\n",
    "plt.xticks(indices, rotulos_x, rotation=90)\n",
    "plt.legend(['Total população', 'Homens', 'Mulheres'], loc='upper left')\n",
    "\n",
    "plt.show()"
   ]
  },
  {
   "cell_type": "markdown",
   "id": "14d6cd75",
   "metadata": {},
   "source": [
    "A partir do exposto no gráfico, vê-se que o percentual da população que já frequentou a escola é extremamente baixo antes dos 15 anos, condizente com o último gráfico analisado, dado que grande parte encontra-se frequentando ativamente a escola. No entanto, a partir dos 15 anos, cresce rapidamente o número de pessoas que já frequentou a escola, chegando a seu máximo na faixa dos 40 a 49 anos. Sendo assim, identifica-se uma certa taxa de evasão escolar no ensino médio, além da prevalência de um baixo número de pessoas a continuar os estudos após o ensino básico. Por fim, uma queda na faixa acima dos 60 anos indica um conjunto de pessoas que nunca frequentou a escola, o que pode ser verificado no gráfico a seguir.\n",
    "\n",
    "Percebe-se uma aproximação de uma distribuição normal com média em 40 anos."
   ]
  },
  {
   "cell_type": "markdown",
   "id": "a744611e-33fd-48b0-b1a8-96ec1eaa81ac",
   "metadata": {},
   "source": [
    "#### População que nunca frequentou a escola\n",
    "Novamente, tomaremos um novo gráfico de barras trazendo a população que nunca frequentou a escola, nos mesmos moldes já adotados."
   ]
  },
  {
   "cell_type": "code",
   "execution_count": 309,
   "id": "91ef5c31-4e91-4e75-a52b-4df93bb5dd18",
   "metadata": {
    "scrolled": true
   },
   "outputs": [
    {
     "data": {
      "image/png": "[encoded data removed]",
      "text/plain": [
       "<Figure size 432x288 with 1 Axes>"
      ]
     },
     "metadata": {
      "needs_background": "light"
     },
     "output_type": "display_data"
    }
   ],
   "source": [
    "indices = list(range(len(nfreq_pop)))\n",
    "\n",
    "# Plota barras para total, homem e mulher\n",
    "plt.bar([i - largura_barra for i in indices], nfreq_pop, largura_barra, color='magenta', label='Total Pop')\n",
    "plt.bar(indices, nfreq_homem, largura_barra, color='blue', label='Total H')\n",
    "plt.bar([i + largura_barra for i in indices], nfreq_mulher , largura_barra, color='red', label='Total M')\n",
    "\n",
    "# Define rótulos do gráfico\n",
    "plt.xlabel('Idade')\n",
    "plt.ylabel('Percentual que nunca ferquentou (%)')\n",
    "plt.title('Percentual da população por idade e gênero que\\n nunca frequentou escola e/ou creche')\n",
    "plt.xticks(indices, rotulos_x, rotation=90)\n",
    "plt.legend(['Total população', 'Homens', 'Mulheres'], loc='upper right')\n",
    "\n",
    "plt.show()"
   ]
  },
  {
   "cell_type": "markdown",
   "id": "a7f2d439",
   "metadata": {},
   "source": [
    "Com este gráfico, constata-se que um baixo percentual de crianças vai à creche antes do 3 anos, aumentando para os 4 e 5 anos, mas ainda demonstrando uma evasão notável. Outro ponto interessante a se analisar é o percentual populacional que nunca compareceu à escola dentre as pessoas a partir dos 60 anos, indicando as mudanças do sistema educacional desde 1950 e a crescente importância atribuída à educação."
   ]
  },
  {
   "cell_type": "markdown",
   "id": "3d7cafc9",
   "metadata": {},
   "source": [
    "### Frequência escolar em razão da renda"
   ]
  },
  {
   "cell_type": "markdown",
   "id": "6560ff52",
   "metadata": {},
   "source": [
    "#### População que frequenta ou já frequentou a escola\n",
    "Avaliaremos aqui, na forma de um gráfico de barras, a relação entre renda e escolaridade. No eixo vertical são separadas distintas classes de renda às quais a população pertence, enquanto no eixo vertical é mostrado o percentual da população dentro de tal nível de renda que frequenta ou já frequentou a escola.\n",
    "\n",
    "A realização de análises separadas para cada situação de acesso à escola, como realizado anteriormente, foi descartada neste caso, pois a informação de maior relevância constitui de fato como o acesso, ou ausência deste, ao ambiente escolar. Portanto, segue o gráfico."
   ]
  },
  {
   "cell_type": "code",
   "execution_count": 321,
   "id": "f17b33da",
   "metadata": {},
   "outputs": [
    {
     "data": {
      "image/png": "[encoded data removed]",
      "text/plain": [
       "<Figure size 432x288 with 1 Axes>"
      ]
     },
     "metadata": {
      "needs_background": "light"
     },
     "output_type": "display_data"
    }
   ],
   "source": [
    "rotulos_x_renda = \"Sem rendimento\", \"Até 1/4\", \"1/4 a 1/2\", \"1/2 a 1\", \"1 a 2\", \"2 a 3\", \"3 a 5\", \"Mais de 5\"\n",
    "\n",
    "largura_barra = 0.6\n",
    "lista_freq = [sum(np.multiply(np.add(renda_freq, renda_jafreq), renda_total)[x]) / sum(renda_total[x]) for x in range(8)]\n",
    "indices_renda = list(range(len(lista_freq)))\n",
    "\n",
    "# Plota barras\n",
    "plt.bar(indices_renda, lista_freq, largura_barra, color='blue', label='Total H')\n",
    "\n",
    "# Define rótulos do gráfico\n",
    "plt.xlabel('Renda (em salários mínimos)')\n",
    "plt.ylabel('Percentual que frequenta ou já frequentou (%)')\n",
    "plt.title('Percentual da população por renda per capita que\\n frequenta escola e/ou creche')\n",
    "plt.ylim([70,100])\n",
    "plt.xticks(indices_renda, rotulos_x_renda, rotation=90)\n",
    "\n",
    "plt.show()"
   ]
  },
  {
   "cell_type": "markdown",
   "id": "13d7d23b",
   "metadata": {},
   "source": [
    "A partir deste gráfico, verifica-se uma relação quase diretamente proporcional entre o nível de renda e o percentual da população com acesso ao ambiente escolar, relação que pode ser analisada mais a fundo posteriormente."
   ]
  }
 ],
 "metadata": {
  "kernelspec": {
   "display_name": "Python 3",
   "language": "python",
   "name": "python3"
  },
  "language_info": {
   "codemirror_mode": {
    "name": "ipython",
    "version": 3
   },
   "file_extension": ".py",
   "mimetype": "text/x-python",
   "name": "python",
   "nbconvert_exporter": "python",
   "pygments_lexer": "ipython3",
   "version": "3.8.8"
  }
 },
 "nbformat": 4,
 "nbformat_minor": 5
}
