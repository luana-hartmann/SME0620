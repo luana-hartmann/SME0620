{
 "cells": [
  {
   "cell_type": "markdown",
   "id": "a411b05c",
   "metadata": {},
   "source": [
    "# Índices da Educação Brasileira no Ano de 2010\n",
    "\n",
    "##### Integrantes: Guilherme Lorete Schmidt - 13676857 e Luana Hartmann Franco da Cruz - 13676350"
   ]
  },
  {
   "cell_type": "markdown",
   "id": "6e2e042a",
   "metadata": {},
   "source": [
    "# 1. Introdução\n",
    "No cenário contemporâneo, a análise estatística dos índices educacionais no Brasil desempenha um papel crucial na compreensão da qualidade e eficácia do sistema educacional do país. A educação é um dos pilares fundamentais para o desenvolvimento social, econômico e cultural de uma nação, influenciando diretamente a formação de cidadãos e o progresso coletivo. Portanto, examinar de forma sistemática e estatística os indicadores educacionais torna-se imperativo para identificar tendências, desafios e oportunidades de melhoria.\n",
    "\n",
    "Neste contexto, a análise estatística proporciona uma abordagem objetiva e baseada em evidências para avaliar diversos aspectos do sistema educacional brasileiro, focando-se nesta análise no acesso à escola dentre diferentes grupos populacionais. Ao coletar, organizar e interpretar dados quantitativos e qualitativos, é possível identificar padrões, correlações e disparidades que ajudam a informar políticas públicas, direcionar investimentos e promover a equidade no acesso à educação.\n",
    "\n",
    "Além disso, a análise estatística permite uma comparação longitudinal e transversal dos índices educacionais, possibilitando acompanhar o progresso ao longo do tempo e fazer comparações entre diferentes redes de ensino e grupos demográficos. Essa perspectiva ampla e detalhada é essencial para uma avaliação abrangente e contextualizada do sistema educacional brasileiro, fornecendo insights valiosos para a formulação de estratégias e intervenções eficazes.\n",
    "\n",
    "Portanto, este estudo se propõe a realizar uma análise estatística dos principais índices da educação brasileira, buscando entender os desafios enfrentados, as conquistas alcançadas e as áreas prioritárias para investimento e aprimoramento. Ao examinar indicadores como taxa de alfabetização, taxa de escolarização, desempenho em avaliações nacionais e acesso à educação de qualidade, pretendemos contribuir para o debate público e para o desenvolvimento de políticas educacionais mais eficientes e inclusivas."
   ]
  },
  {
   "cell_type": "markdown",
   "id": "47d0daf9",
   "metadata": {},
   "source": [
    "# 2. Metodologia"
   ]
  },
  {
   "cell_type": "markdown",
   "id": "56c9727f",
   "metadata": {},
   "source": [
    "## 2.1 Base de Dados\n",
    "\n",
    "A base de dados a ser analisada foi obtida a partir do website do Instituto Brasileiro de Geografia e Estatística (IBGE), principal entidade brasileira em estatísticas sociais e econômicas gerais do país. A base de dados está disponível através do link https://www.ibge.gov.br/estatisticas/sociais/educacao/9662-censo-demografico-2010.html?edicao=9753&t=resultados.\n",
    "\n",
    "Tais dados foram coletados pelo Instituto no Censo Demográfico de 2010, com o objetivo de identificar as características do povo brasileiro e revelar como vivem através de uma amostragem probabilística da mesma. A coleta das informações foi conduzida, em geral, através de entrevista presencial entre recenseadores e moradores. Todos os dados coletados passaram, no momento da entrevista, pelo processo de crítica eletrônica, cuja finalidade era eliminar inconsistências entre as informações dos diversos quesitos do questionário provenientes de equívocos ou não respostas durante a fase da coleta.\n",
    "\n",
    "Segundo informações disponibilizadas pelo IBGE, a amostra do Censo 2010 teve cinco frações diferentes usadas de acordo com o total da população do município. Nos municípios com até 2.500 habitantes, a fração amostral foi de 50%, ou seja, em metade do total de domicílios foi aplicado o questionário da amostra. Os que tinham mais de 2.500 até 8.000 habitantes, tiveram a fração amostral de 33%. Nos municípios com mais de 8.000 até 20.000 habitantes, a fração foi de 20%. Já nos que tinham mais de 20.000 até 500 mil habitantes, a fração foi de 10%. E, por fim, nos municípios com população maior que 500 mil, a fração foi de 5%.\n",
    "\n",
    "Portanto, a partir da base de dados disponibilizada pelo IBGE em formato `.xls` e `.xlsx`, foram selecionados dados que permitam relacionar as variáveis `sexo`, `cor ou raça`, `frequência escolar`, `idade` e `renda`, de forma a obter-se um panorama geral do acesso ao ambiente escolar em relação a diferentes setores da população brasileira. Sendo assim, os dados foram analizados em grande parte através da biblioteca `pandas` e graficadas através da `matplotlib`, ambas nativas à linguagem de programação `Python`. Demais bibliotecas podem ser encontradas abaixo."
   ]
  },
  {
   "cell_type": "code",
   "execution_count": 140,
   "id": "e22f50c0",
   "metadata": {
    "scrolled": true
   },
   "outputs": [],
   "source": [
    "import numpy as np\n",
    "import matplotlib\n",
    "import time\n",
    "import matplotlib.pyplot as plt\n",
    "from tabulate import tabulate\n",
    "import pandas as pd"
   ]
  },
  {
   "cell_type": "code",
   "execution_count": 163,
   "id": "08a2ae15",
   "metadata": {
    "scrolled": true
   },
   "outputs": [],
   "source": [
    "# planilha censo demográfico 2010 educação por sexo, idade\n",
    "tab1 = pd.read_excel('tab1_1_1.xlsx', skiprows=8)\n",
    "\n",
    "# planilha censo demográfico 2010 educação por cor ou raça\n",
    "tab2 = pd.read_excel('tab1_1_2.xlsx', skiprows=6)\n",
    "\n",
    "# planilha censo demográfico 2010 educação por rendimento nominal per capita\n",
    "tab3 = pd.read_excel('tab1_1_3.xlsx', skiprows=6)\n",
    "\n",
    "# planilhas contendo dados similares contemplando diferentes regiões brasileiras\n",
    "tab1_reg = [pd.read_excel('tab2_' + str(x) + '_1_1.xls', skiprows=7) for x in range(1, 6)]\n",
    "tab2_reg = [pd.read_excel('tab2_' + str(x) + '_1_2.xls', skiprows=5) for x in range(1, 6)]\n",
    "tab3_reg = [pd.read_excel('tab2_' + str(x) + '_1_3.xls', skiprows=5) for x in range(1, 6)]"
   ]
  },
  {
   "cell_type": "markdown",
   "id": "edd47ed4",
   "metadata": {},
   "source": [
    "## Definição de variáveis\n",
    "\n",
    "Primeiramente, as variáveis devem ser devidamente identificadas e agrupadas de acordo com suas características, dividindo-se entre _qualitativas_, categorizando dados, ou _quantitativas_, quantificando dados. Ainda assim, _variáveis qualitativas_ podem ainda ser subdivididas entre _nominais_, quando trata de categorias sem ordem aparente entre elas, ou _ordinais_, se trata de categorias que possuem uma ordem. O mesmo vale para _variáveis quantitativas_, que podem ser subdividas entre _discretas_, quando tratam de valores individuais discretizados, e _continuas_, se caracterizam quantias que podem ser descritas de forma contínua.\n",
    "\n",
    "A partir dessa descrição, detalham-se as variáveis para avaliação posterior:\n",
    "- Sexo: traz as categorias de masculino e feminino;\n",
    "- Cor ou Raça: dividide-se entre diversas categorias étnicas da população brasileira;\n",
    "- Frequência escolar: descreve se um dado habitante frequenta, já fequentou, ou nunca frequentou o ambiente escolar;\n",
    "- Idade: traz a idade (discretizada em anos) dos habitantes;\n",
    "- Renda: traz a renda dos habitantes (discretizada em frações de salários mínimos).\n",
    "\n",
    "Portanto, dadas estas características, traz-se abaixo uma classificação das variáveis em formato de tabela:"
   ]
  },
  {
   "cell_type": "markdown",
   "id": "0078a1bf",
   "metadata": {},
   "source": [
    "| Nome                | Variável     | Tipo      |\n",
    "|:--------------------|:------------:|:---------:|\n",
    "| `sexo`              | qualitativa  | nominal   |\n",
    "| `cor ou raça`       | qualitativa  | nominal   |\n",
    "| `situação escolar`  | qualitativa  | ordinal   |\n",
    "| `idade`             | quantitativa | discreta  |\n",
    "| `renda`             | quantitativa | discreta  |"
   ]
  },
  {
   "cell_type": "markdown",
   "id": "231ef3dd",
   "metadata": {},
   "source": [
    "# 3. Resultados"
   ]
  },
  {
   "cell_type": "markdown",
   "id": "b21f19b6",
   "metadata": {},
   "source": [
    "## 3.2 Tabelas de frequência e análise preliminar\n",
    "\n",
    "Inicialmente, será feita uma análise preliminar das variáveis, de forma a identificar padrões dentro destes e obter-se uma visão geral de seu comportamento. Esta tomará a forma principalmente de tabelas de frequência e gráficos de setores. "
   ]
  },
  {
   "cell_type": "markdown",
   "id": "ece0e64d",
   "metadata": {},
   "source": [
    "### 3.1.1 Sexo\n",
    "\n",
    "Com um espaço amostral contendo toda a população brasileira, comecemos trazendo uma tabela de frequências de cada sexo em relação à população total."
   ]
  },
  {
   "cell_type": "code",
   "execution_count": 142,
   "id": "1e60a789",
   "metadata": {
    "scrolled": true
   },
   "outputs": [
    {
     "name": "stdout",
     "output_type": "stream",
     "text": [
      "╒═══════════╤══════════╤══════════════════╕\n",
      "│   Sexo    │  Total   │  Frequência (%)  │\n",
      "╞═══════════╪══════════╪══════════════════╡\n",
      "│ Masculino │ 93406989 │     48.9668      │\n",
      "├───────────┼──────────┼──────────────────┤\n",
      "│ Feminino  │ 97348808 │     51.0332      │\n",
      "╘═══════════╧══════════╧══════════════════╛\n"
     ]
    }
   ],
   "source": [
    "# População total brasileira\n",
    "total_pop = tab1.iloc[0:14, 1]\n",
    "total_homem = tab1.iloc[15:29, 1]\n",
    "total_mulher = tab1.iloc[30:44, 1]\n",
    "\n",
    "# Prepara tabela proposta\n",
    "tabela = [['Sexo', 'Total', 'Frequência (%)'],['Masculino'],['Feminino']]\n",
    "tabela[1].append(int(np.sum(total_homem)))\n",
    "tabela[1].append(np.sum(total_homem) / np.sum(total_pop) * 100)\n",
    "tabela[2].append(int(np.sum(total_mulher)))\n",
    "tabela[2].append(np.sum(total_mulher) / np.sum(total_pop) * 100)\n",
    "\n",
    "print(tabulate(tabela, headers='firstrow', tablefmt=\"fancy_grid\", intfmt=\"\", colalign=([\"center\"]*3)))"
   ]
  },
  {
   "cell_type": "markdown",
   "id": "65b16887",
   "metadata": {},
   "source": [
    "A partir da tabelas, vê-se que os dados confirmam estatísticas já conhecidas acerca da população brasileira, destacando a maior presença de habitantes do sexo feminino que do sexo masculino."
   ]
  },
  {
   "cell_type": "markdown",
   "id": "a229f6a7",
   "metadata": {},
   "source": [
    "### 3.1.2 Cor ou Raça\n",
    "É de grande importância se analizar o impacto de cor ou raça sobre a educação, com vistas à criação de políticas públicas direcionadas à universalização do ensino. Portanto, será trazido abaixo as frequências gerais de cada cor ou raça sobre a população brasileira."
   ]
  },
  {
   "cell_type": "code",
   "execution_count": 143,
   "id": "80f96bbe",
   "metadata": {
    "scrolled": true
   },
   "outputs": [
    {
     "name": "stdout",
     "output_type": "stream",
     "text": [
      "╒════════════════╤══════════╤══════════════════╕\n",
      "│  Cor ou Raça   │  Total   │  Frequência (%)  │\n",
      "╞════════════════╪══════════╪══════════════════╡\n",
      "│     Branca     │ 90621281 │     47.5064      │\n",
      "├────────────────┼──────────┼──────────────────┤\n",
      "│     Preta      │ 14351162 │     7.52332      │\n",
      "├────────────────┼──────────┼──────────────────┤\n",
      "│    Amarela     │ 2105352  │     1.10369      │\n",
      "├────────────────┼──────────┼──────────────────┤\n",
      "│     Parda      │ 82820451 │      43.417      │\n",
      "├────────────────┼──────────┼──────────────────┤\n",
      "│    Indígena    │  821500  │     0.430656     │\n",
      "├────────────────┼──────────┼──────────────────┤\n",
      "│ Sem Declaração │  36050   │     0.018899     │\n",
      "╘════════════════╧══════════╧══════════════════╛\n"
     ]
    }
   ],
   "source": [
    "# População total brasileira\n",
    "cor_total = [tab2.iloc[0:12, x] for x in range(2, 8)]\n",
    "\n",
    "# Prepara tabela proposta\n",
    "tabela = [['Cor ou Raça', 'Total', 'Frequência (%)'],['Branca'],['Preta'],['Amarela'],['Parda'],['Indígena'],['Sem Declaração']]\n",
    "\n",
    "for x in range(0,6):\n",
    "    tabela[x+1].append(int(np.sum(cor_total[x])))\n",
    "    tabela[x+1].append(np.sum(cor_total[x]) / np.sum(total_pop) * 100)\n",
    "\n",
    "print(tabulate(tabela, headers='firstrow', tablefmt=\"fancy_grid\", colalign=([\"center\"]*3)))"
   ]
  },
  {
   "cell_type": "markdown",
   "id": "b3f65e13",
   "metadata": {},
   "source": [
    "Como é possível visualizar na tabela de frequências, o grupo de maior presença na população brasileira é o de cor ou raça \"Branca\", seguido logo atrás pela \"Parda\". Por outro lado, vê-se que o grupo menos presente é o de indígenas. Nas seções posteriores, tal variável será importante ao analisar a influência desta sobre a frequência escolar."
   ]
  },
  {
   "cell_type": "markdown",
   "id": "788730f9",
   "metadata": {},
   "source": [
    "### 3.1.3 Frequência Escolar"
   ]
  },
  {
   "cell_type": "markdown",
   "id": "a2ae0e37",
   "metadata": {},
   "source": [
    "Uma das principais estatísticas ao se analisar o panorama educacional brasileiro é a frequência escolar. Portanto, traremos aqui uma tabela de frequências relacionando o percentual populacional em cada categoria, além de um gráfico de setores que a representa."
   ]
  },
  {
   "cell_type": "code",
   "execution_count": 144,
   "id": "37cb8fb1",
   "metadata": {
    "scrolled": true
   },
   "outputs": [
    {
     "name": "stdout",
     "output_type": "stream",
     "text": [
      "╒══════════════════════╤═══════════╤══════════════════╕\n",
      "│  Frequência Escolar  │   Total   │  Frequência (%)  │\n",
      "╞══════════════════════╪═══════════╪══════════════════╡\n",
      "│      Frequenta       │ 59565188  │     31.2259      │\n",
      "├──────────────────────┼───────────┼──────────────────┤\n",
      "│    Já frequentou     │ 112465161 │     58.9577      │\n",
      "├──────────────────────┼───────────┼──────────────────┤\n",
      "│   Nunca frequentou   │ 18725449  │     9.81645      │\n",
      "╘══════════════════════╧═══════════╧══════════════════╛\n"
     ]
    },
    {
     "data": {
      "image/png": "[encoded data removed]",
      "text/plain": [
       "<Figure size 720x432 with 1 Axes>"
      ]
     },
     "metadata": {},
     "output_type": "display_data"
    }
   ],
   "source": [
    "# População total brasileira\n",
    "freq_pop = tab1.iloc[0:14, 2]\n",
    "jafreq_pop = tab1.iloc[0:14, 3]\n",
    "nfreq_pop = tab1.iloc[0:14, 4]\n",
    "\n",
    "# Prepara tabela proposta\n",
    "tabela = [['Frequência Escolar', 'Total', 'Frequência (%)'],['Frequenta'],['Já frequentou'],['Nunca frequentou']]\n",
    "tabela[1].append(int(np.sum(freq_pop)))\n",
    "tabela[1].append(np.sum(freq_pop) / np.sum(total_pop) * 100)\n",
    "tabela[2].append(int(np.sum(jafreq_pop)))\n",
    "tabela[2].append(np.sum(jafreq_pop) / np.sum(total_pop) * 100)\n",
    "tabela[3].append(int(np.sum(nfreq_pop)))\n",
    "tabela[3].append(np.sum(nfreq_pop) / np.sum(total_pop) * 100)\n",
    "\n",
    "print(tabulate(tabela, headers='firstrow', tablefmt=\"fancy_grid\", intfmt=\"\", colalign=([\"center\"]*3)))\n",
    "\n",
    "# Prepara gráfico de setores\n",
    "plt.figure(figsize=(10, 6))\n",
    "plt.pie([np.sum(freq_pop), np.sum(jafreq_pop), np.sum(nfreq_pop)], autopct='%1.1f%%', labels=['Frequenta','Já frequentou','Nunca frequentou'])\n",
    "plt.title('Frequência Escolar')\n",
    "plt.axis('equal')\n",
    "plt.show()"
   ]
  },
  {
   "cell_type": "markdown",
   "id": "a989571d",
   "metadata": {},
   "source": [
    "A partir da tabela e do gráfico, vê-se que grande parte da população (59.0%) já frequentou a escola, fato condizente com a população adulta brasileira, mas que deve ser analisado mais a fundo. Igualmente, 31.2% da população frequenta a escola, o que muito provavelmente corresponde à parcela da população em idade escolar. No entanto, 9.8% da população nunca frequentou a escola, indicando uma dado preocupante de falha no acesso ao ambiente escolar."
   ]
  },
  {
   "cell_type": "markdown",
   "id": "7ff09bf4",
   "metadata": {},
   "source": [
    "### 3.1.4 Idade\n",
    "Idade é um dado de grande influência sobre a relação do habitante com o ambiente escolar. Portanto, uma análise preliminar desta através de uma tabela de frequências é aqui construída."
   ]
  },
  {
   "cell_type": "code",
   "execution_count": 145,
   "id": "6159f68b",
   "metadata": {
    "scrolled": true
   },
   "outputs": [
    {
     "name": "stdout",
     "output_type": "stream",
     "text": [
      "╒═════════════════╤══════════╤══════════════════╕\n",
      "│      Idade      │  Total   │  Frequência (%)  │\n",
      "╞═════════════════╪══════════╪══════════════════╡\n",
      "│   0 a 3 anos    │ 10938913 │     5.73451      │\n",
      "├─────────────────┼──────────┼──────────────────┤\n",
      "│     4 anos      │ 2867819  │      1.5034      │\n",
      "├─────────────────┼──────────┼──────────────────┤\n",
      "│     5 anos      │ 2933763  │     1.53797      │\n",
      "├─────────────────┼──────────┼──────────────────┤\n",
      "│     6 anos      │ 2891614  │     1.51587      │\n",
      "├─────────────────┼──────────┼──────────────────┤\n",
      "│   7 a 9 anos    │ 9142389  │     4.79272      │\n",
      "├─────────────────┼──────────┼──────────────────┤\n",
      "│  10 a 14 anos   │ 17167135 │     8.99954      │\n",
      "├─────────────────┼──────────┼──────────────────┤\n",
      "│  15 a 17 anos   │ 10353865 │     5.42781      │\n",
      "├─────────────────┼──────────┼──────────────────┤\n",
      "│  18 a 19 anos   │ 6632922  │     3.47718      │\n",
      "├─────────────────┼──────────┼──────────────────┤\n",
      "│  20 a 24 anos   │ 17240863 │     9.03819      │\n",
      "├─────────────────┼──────────┼──────────────────┤\n",
      "│  25 a 29 anos   │ 17102917 │     8.96587      │\n",
      "├─────────────────┼──────────┼──────────────────┤\n",
      "│  30 a 39 anos   │ 29632807 │     15.5344      │\n",
      "├─────────────────┼──────────┼──────────────────┤\n",
      "│  40 a 49 anos   │ 24843142 │     13.0235      │\n",
      "├─────────────────┼──────────┼──────────────────┤\n",
      "│  50 a 59 anos   │ 18418754 │     9.65567      │\n",
      "├─────────────────┼──────────┼──────────────────┤\n",
      "│ 60 ou mais anos │ 20588890 │     10.7933      │\n",
      "╘═════════════════╧══════════╧══════════════════╛\n"
     ]
    }
   ],
   "source": [
    "# Prepara tabela proposta\n",
    "tabela = [['Idade', 'Total', 'Frequência (%)'],['0 a 3 anos'],['4 anos'],['5 anos'],['6 anos'],['7 a 9 anos'],['10 a 14 anos'],['15 a 17 anos'],['18 a 19 anos'],['20 a 24 anos'],['25 a 29 anos'],['30 a 39 anos'],['40 a 49 anos'],['50 a 59 anos'],['60 ou mais anos']]\n",
    "\n",
    "for x in range(0,14):\n",
    "    tabela[x+1].append(int(total_pop[x]))\n",
    "    tabela[x+1].append(total_pop[x] / np.sum(total_pop) * 100)\n",
    "\n",
    "print(tabulate(tabela, headers='firstrow', tablefmt=\"fancy_grid\", intfmt=\"\", colalign=([\"center\"]*3)))"
   ]
  },
  {
   "cell_type": "markdown",
   "id": "293da602",
   "metadata": {},
   "source": [
    "Vê-se uma grande heterogeneidade sobre a distribuição brasileira dentre esse espectro de idades, dado pela pirâmide etária brasileira. Portanto, em análises futuras envolvendo idades, o número de pessoas em uma dada idade será tratado de forma percentual, de forma que ainda seja possível enxergar padrões dentre a população."
   ]
  },
  {
   "cell_type": "markdown",
   "id": "3ed67ed6",
   "metadata": {},
   "source": [
    "### 3.1.5 Renda\n",
    "Renda também constitui um fator de grande influência sobre o acesso à educação. Desse modo, traz-se novamente uma análise preliminar de tal informação."
   ]
  },
  {
   "cell_type": "code",
   "execution_count": 146,
   "id": "4bb80199",
   "metadata": {
    "scrolled": true
   },
   "outputs": [
    {
     "name": "stdout",
     "output_type": "stream",
     "text": [
      "╒═══════════╤══════════╤══════════════════╕\n",
      "│   Renda   │  Total   │  Frequência (%)  │\n",
      "╞═══════════╪══════════╪══════════════════╡\n",
      "│ Sem renda │ 7039630  │     3.69039      │\n",
      "├───────────┼──────────┼──────────────────┤\n",
      "│  Até 1/4  │ 23802968 │     12.4782      │\n",
      "├───────────┼──────────┼──────────────────┤\n",
      "│ 1/4 a 1/2 │ 35029585 │     18.3636      │\n",
      "├───────────┼──────────┼──────────────────┤\n",
      "│  1/2 a 1  │ 52066691 │     27.2949      │\n",
      "├───────────┼──────────┼──────────────────┤\n",
      "│   1 a 2   │ 40481415 │     21.2216      │\n",
      "├───────────┼──────────┼──────────────────┤\n",
      "│   2 a 3   │ 12973764 │     6.80124      │\n",
      "├───────────┼──────────┼──────────────────┤\n",
      "│   3 a 5   │ 9428422  │     4.94267      │\n",
      "├───────────┼──────────┼──────────────────┤\n",
      "│ Mais de 5 │ 8939342  │     4.68628      │\n",
      "╘═══════════╧══════════╧══════════════════╛\n"
     ]
    }
   ],
   "source": [
    "# População total brasileira\n",
    "renda_total = [tab3.iloc[0:12, x] for x in range(2, 10)]\n",
    "\n",
    "# Prepara tabela proposta\n",
    "tabela = [['Renda', 'Total', 'Frequência (%)'],['Sem renda'],[\"Até 1/4\"], [\"1/4 a 1/2\"], [\"1/2 a 1\"], [\"1 a 2\"], [\"2 a 3\"], [\"3 a 5\"], [\"Mais de 5\"]]\n",
    "\n",
    "for x in range(0,8):\n",
    "    tabela[x+1].append(int(np.sum(renda_total[x])))\n",
    "    tabela[x+1].append(np.sum(renda_total[x]) / np.sum(total_pop) * 100)\n",
    "\n",
    "print(tabulate(tabela, headers='firstrow', tablefmt=\"fancy_grid\", colalign=([\"center\"]*3)))"
   ]
  },
  {
   "cell_type": "markdown",
   "id": "5601a1cb",
   "metadata": {},
   "source": [
    "Analisando-se os dados de renda, vê-se uma concentração de pessoas no intervalo de renda entre 1/2 e 1 salário mínimo, enquanto o menor número de pessoas encontra-se na categoria \"Sem renda\". No entanto, nota-se que a maior parte da população possui renda inferior a 1 salário mínimo. Estudaremos os impatos de tal fato sobre a educação."
   ]
  },
  {
   "cell_type": "markdown",
   "id": "0aacb655",
   "metadata": {},
   "source": [
    "## 3.2 Medidas Resumo\n",
    "\n",
    "Caracterizados os dados que serão empregados na análise, descreveremos agora relações entre os demais dados e a frequência escolar, de forma a caracterizar a interdependência entre os dados. Note que serão empregados dados de diferentes regiões brasileiras para garantir uma visão ampla sobre as medidas obtidas, em termos de médias e desvios.\n",
    "\n",
    "De modo a iniciar a análise, calcularemos as medidas resumo dos dados obtidos, manifestando-se através da média, desvio padrão, 1º quartil, mediana, 3º quartil e máximo de cada uma. Portanto, segue a análise."
   ]
  },
  {
   "cell_type": "markdown",
   "id": "23195dd1",
   "metadata": {},
   "source": [
    "### 3.2.1 Relação entre sexo e frequência escolar \n",
    "Nesta seção serão abordadas medidas que descrevam a relação entre o percentual da população que encontra-se em uma dada situação de escolaridade em relação a seu sexo, contemplando diferentes regiões dentre os dados originais."
   ]
  },
  {
   "cell_type": "markdown",
   "id": "ed3dc2a1",
   "metadata": {},
   "source": [
    "#### 3.2.1.1 Frequenta a escola"
   ]
  },
  {
   "cell_type": "markdown",
   "id": "f573b7c8",
   "metadata": {},
   "source": [
    "Abaixo são calculadas as medidas resumo para o percentual da população que frequenta a escola."
   ]
  },
  {
   "cell_type": "code",
   "execution_count": 164,
   "id": "e0e09301-ab08-4986-b1f1-4631e1a007b0",
   "metadata": {
    "scrolled": false
   },
   "outputs": [
    {
     "name": "stdout",
     "output_type": "stream",
     "text": [
      "Medidas resumo para percentual da população que frequenta a escola\n",
      "╒═══════════════╤═════════╤═════════╤══════════╕\n",
      "│               │  total  │  homem  │  mulher  │\n",
      "╞═══════════════╪═════════╪═════════╪══════════╡\n",
      "│     média     │ 31.8078 │ 31.7345 │ 31.8908  │\n",
      "├───────────────┼─────────┼─────────┼──────────┤\n",
      "│ desvio padrão │ 2.99029 │  2.604  │ 3.40866  │\n",
      "├───────────────┼─────────┼─────────┼──────────┤\n",
      "│  1º quartil   │ 29.5416 │ 30.0352 │ 29.0744  │\n",
      "├───────────────┼─────────┼─────────┼──────────┤\n",
      "│    mediana    │ 31.2576 │ 30.9293 │ 31.5814  │\n",
      "├───────────────┼─────────┼─────────┼──────────┤\n",
      "│  3º quartil   │ 33.7067 │ 33.7796 │ 33.6372  │\n",
      "├───────────────┼─────────┼─────────┼──────────┤\n",
      "│    máximo     │ 35.893  │ 35.0705 │ 36.7307  │\n",
      "╘═══════════════╧═════════╧═════════╧══════════╛\n"
     ]
    }
   ],
   "source": [
    "# Percentual da população que frequenta a escola\n",
    "freq_pop = pd.DataFrame([tab1_reg[x].iloc[0, 2] / tab1_reg[x].iloc[0, 1] * 100 for x in range(5)])\n",
    "freq_homem = pd.DataFrame([tab1_reg[x].iloc[16, 2] / tab1_reg[x].iloc[16, 1] * 100 for x in range(5)])\n",
    "freq_mulher = pd.DataFrame([tab1_reg[x].iloc[32, 2] / tab1_reg[x].iloc[32, 1] * 100 for x in range(5)])\n",
    "\n",
    "# Calcular estatísticas descritivas para cada categoria\n",
    "desc_freq_pop = freq_pop.describe()\n",
    "desc_freq_homem = freq_homem.describe()\n",
    "desc_freq_mulher = freq_mulher.describe()\n",
    "\n",
    "# Mostrar as estatísticas descritivas\n",
    "print(\"Medidas resumo para percentual da população que frequenta a escola\")\n",
    "\n",
    "linhas = [\"\", \"média\", \"desvio padrão\", \"1º quartil\", \"mediana\", \"3º quartil\", \"máximo\"]\n",
    "reg_freq_print = [linhas,['total'],['homem'],['mulher']]\n",
    "for x in [1, 2, 4, 5, 6, 7]:\n",
    "    reg_freq_print[1].append(desc_freq_pop.values[x][0])\n",
    "    reg_freq_print[2].append(desc_freq_homem.values[x][0])\n",
    "    reg_freq_print[3].append(desc_freq_mulher.values[x][0])\n",
    "\n",
    "data = (np.array(reg_freq_print).T)\n",
    "print(tabulate(data, headers='firstrow', tablefmt=\"fancy_grid\", colalign=([\"center\"]*4)))"
   ]
  },
  {
   "cell_type": "markdown",
   "id": "9f914672",
   "metadata": {},
   "source": [
    "Vê-se que em média, 31.8% da população frequenta atualmente a escola, sendo que, em geral, as mulheres lideram este quesito por 0.2% em relação aos homens. De todo modo, é perceptível um desvio padrão maior dentre mulheres, mostrando a alta variabilidade dos dados para diferentes regiões brasileiras."
   ]
  },
  {
   "cell_type": "markdown",
   "id": "84500066",
   "metadata": {},
   "source": [
    "#### 3.2.1.2 Já frequentou a escola"
   ]
  },
  {
   "cell_type": "markdown",
   "id": "e500ac5a",
   "metadata": {},
   "source": [
    "Abaixo são calculadas as medidas resumo para o percentual da população que já frequentou a escola."
   ]
  },
  {
   "cell_type": "code",
   "execution_count": 165,
   "id": "60d39e29-768f-449d-a29a-879cf5813283",
   "metadata": {
    "scrolled": false
   },
   "outputs": [
    {
     "name": "stdout",
     "output_type": "stream",
     "text": [
      "Medidas resumo para percentual da população que já frequentou escola\n",
      "╒═══════════════╤═════════╤═════════╤══════════╕\n",
      "│               │  total  │  homem  │  mulher  │\n",
      "╞═══════════════╪═════════╪═════════╪══════════╡\n",
      "│     média     │ 57.6929 │ 57.5534 │ 57.8217  │\n",
      "├───────────────┼─────────┼─────────┼──────────┤\n",
      "│ desvio padrão │ 5.84346 │ 5.83228 │ 5.88299  │\n",
      "├───────────────┼─────────┼─────────┼──────────┤\n",
      "│  1º quartil   │ 53.6807 │ 52.9566 │ 54.3711  │\n",
      "├───────────────┼─────────┼─────────┼──────────┤\n",
      "│    mediana    │ 58.4075 │ 58.4604 │ 58.3553  │\n",
      "├───────────────┼─────────┼─────────┼──────────┤\n",
      "│  3º quartil   │ 62.7001 │ 62.3988 │ 62.9853  │\n",
      "├───────────────┼─────────┼─────────┼──────────┤\n",
      "│    máximo     │ 63.6734 │ 63.6824 │ 63.6646  │\n",
      "╘═══════════════╧═════════╧═════════╧══════════╛\n"
     ]
    }
   ],
   "source": [
    "jafreq_pop = pd.DataFrame([tab1_reg[x].iloc[0, 3] / tab1_reg[x].iloc[0, 1] * 100 for x in range(5)])\n",
    "jafreq_homem = pd.DataFrame([tab1_reg[x].iloc[16, 3] / tab1_reg[x].iloc[16, 1] * 100 for x in range(5)])\n",
    "jafreq_mulher = pd.DataFrame([tab1_reg[x].iloc[32, 3] / tab1_reg[x].iloc[32, 1] * 100 for x in range(5)])\n",
    "\n",
    "# Calcular estatísticas descritivas para cada categoria\n",
    "desc_jafreq_pop = jafreq_pop.describe()\n",
    "desc_jafreq_homem = jafreq_homem.describe()\n",
    "desc_jafreq_mulher = jafreq_mulher.describe()\n",
    "\n",
    "# Mostrar as estatísticas descritivas\n",
    "print(\"Medidas resumo para percentual da população que já frequentou escola\")\n",
    "\n",
    "linhas = [\"\", \"média\", \"desvio padrão\", \"1º quartil\", \"mediana\", \"3º quartil\", \"máximo\"]\n",
    "reg_jafreq_print = [linhas,['total'],['homem'],['mulher']]\n",
    "for x in [1, 2, 4, 5, 6, 7]:\n",
    "    reg_jafreq_print[1].append(desc_jafreq_pop.values[x][0])\n",
    "    reg_jafreq_print[2].append(desc_jafreq_homem.values[x][0])\n",
    "    reg_jafreq_print[3].append(desc_jafreq_mulher.values[x][0])\n",
    "\n",
    "data = (np.array(reg_jafreq_print).T)\n",
    "print(tabulate(data, headers='firstrow', tablefmt=\"fancy_grid\", colalign=([\"center\"]*4)))"
   ]
  },
  {
   "cell_type": "markdown",
   "id": "218f6aee",
   "metadata": {},
   "source": [
    "Vê-se que, em média, 57.7% da população já frequentou a escola, sendo que, em geral, mulheres lideram este quesito por 0.3% em relação aos homens. É perceptível um crescimento no desvio padrão, mostrando a alta variabilidade dos dados para diferentes regiões brasileiras."
   ]
  },
  {
   "cell_type": "markdown",
   "id": "f77c1a3d",
   "metadata": {},
   "source": [
    "#### 3.2.1.3 Nunca frequentou a escola"
   ]
  },
  {
   "cell_type": "markdown",
   "id": "b2f7b10f",
   "metadata": {},
   "source": [
    "Abaixo são calculadas as medidas resumo para o percentual da população nunca frequentou a escola."
   ]
  },
  {
   "cell_type": "code",
   "execution_count": 167,
   "id": "b7d421ab-652a-4a33-bdd0-8d7061842e86",
   "metadata": {
    "scrolled": false
   },
   "outputs": [
    {
     "name": "stdout",
     "output_type": "stream",
     "text": [
      "Medidas resumo para percentual da população que nunca frequentou escola\n",
      "╒═══════════════╤═════════╤═════════╤══════════╕\n",
      "│               │  total  │  homem  │  mulher  │\n",
      "╞═══════════════╪═════════╪═════════╪══════════╡\n",
      "│     média     │ 10.4993 │ 10.7121 │ 10.2875  │\n",
      "├───────────────┼─────────┼─────────┼──────────┤\n",
      "│ desvio padrão │ 2.8685  │ 3.26299 │ 2.48509  │\n",
      "├───────────────┼─────────┼─────────┼──────────┤\n",
      "│  1º quartil   │ 7.75827 │ 7.56597 │ 7.94027  │\n",
      "├───────────────┼─────────┼─────────┼──────────┤\n",
      "│    mediana    │ 10.3349 │ 10.6104 │ 10.0633  │\n",
      "├───────────────┼─────────┼─────────┼──────────┤\n",
      "│  3º quartil   │ 12.6126 │ 13.2638 │ 11.9917  │\n",
      "├───────────────┼─────────┼─────────┼──────────┤\n",
      "│    máximo     │ 14.1042 │ 14.6607 │ 13.5374  │\n",
      "╘═══════════════╧═════════╧═════════╧══════════╛\n"
     ]
    }
   ],
   "source": [
    "nfreq_pop = pd.DataFrame([tab1_reg[x].iloc[0, 4] / tab1_reg[x].iloc[0, 1] * 100 for x in range(5)])\n",
    "nfreq_homem = pd.DataFrame([tab1_reg[x].iloc[16, 4] / tab1_reg[x].iloc[16, 1] * 100 for x in range(5)])\n",
    "nfreq_mulher = pd.DataFrame([tab1_reg[x].iloc[32, 4] / tab1_reg[x].iloc[32, 1] * 100 for x in range(5)])\n",
    "\n",
    "# Calcular estatísticas descritivas para cada categoria\n",
    "desc_nfreq_pop = nfreq_pop.describe()\n",
    "desc_nfreq_homem = nfreq_homem.describe()\n",
    "desc_nfreq_mulher = nfreq_mulher.describe()\n",
    "\n",
    "# Mostrar as estatísticas descritivas\n",
    "print(\"Medidas resumo para percentual da população que nunca frequentou escola\")\n",
    "\n",
    "linhas = [\"\", \"média\", \"desvio padrão\", \"1º quartil\", \"mediana\", \"3º quartil\", \"máximo\"]\n",
    "reg_nfreq_print = [linhas,['total'],['homem'],['mulher']]\n",
    "for x in [1, 2, 4, 5, 6, 7]:\n",
    "    reg_nfreq_print[1].append(desc_nfreq_pop.values[x][0])\n",
    "    reg_nfreq_print[2].append(desc_nfreq_homem.values[x][0])\n",
    "    reg_nfreq_print[3].append(desc_nfreq_mulher.values[x][0])\n",
    "\n",
    "data = (np.array(reg_nfreq_print).T)\n",
    "print(tabulate(data, headers='firstrow', tablefmt=\"fancy_grid\", colalign=([\"center\"]*4)))"
   ]
  },
  {
   "cell_type": "markdown",
   "id": "11d78da6",
   "metadata": {},
   "source": [
    "Vê-se que, em média, 10.5% da população nunca frequentou a escola, sendo que, em geral, homens lideram este quesito por 0.4% em relação às mulheres. Portanto, é demonstrado um alto número de pessoas que nunca compareceu à escola, notavelmente independente do sexo.\n",
    "\n",
    "É perceptível uma considerável desvio padrão dentre os homens, permitindo inferir uma certa variação na evasão escolar dentre regiões brasileiras."
   ]
  },
  {
   "cell_type": "markdown",
   "id": "a484e61e",
   "metadata": {},
   "source": [
    "### 3.2.2 Relação entre cor ou raça e frequência escolar\n",
    "Nesta seção serão abordadas medidas que descrevam a relação entre o percentual da população encontra-se em uma dada situação de escolaridade em relação a sua cor ou raça, contemplando diferentes faixas etárias dentre os dados originais."
   ]
  },
  {
   "cell_type": "markdown",
   "id": "d05f950b",
   "metadata": {},
   "source": [
    "#### 3.2.2.1 Frequenta a escola"
   ]
  },
  {
   "cell_type": "markdown",
   "id": "25d0510a",
   "metadata": {},
   "source": [
    "Abaixo são calculadas as medidas resumo para o percentual da população frequenta a escola."
   ]
  },
  {
   "cell_type": "code",
   "execution_count": 190,
   "id": "882356ff",
   "metadata": {
    "scrolled": true
   },
   "outputs": [
    {
     "name": "stdout",
     "output_type": "stream",
     "text": [
      "Medidas resumo para percentual da população que frequenta a escola\n",
      "╒═══════════════╤══════════╤═════════╤═══════════╤═════════╤════════════╕\n",
      "│               │  Branca  │  Preta  │  Amarela  │  Parda  │  Indígena  │\n",
      "╞═══════════════╪══════════╪═════════╪═══════════╪═════════╪════════════╡\n",
      "│     média     │  31.214  │ 27.396  │  30.174   │ 33.256  │   33.286   │\n",
      "├───────────────┼──────────┼─────────┼───────────┼─────────┼────────────┤\n",
      "│ desvio padrão │  2.868   │  2.026  │   3.979   │  2.426  │   5.038    │\n",
      "├───────────────┼──────────┼─────────┼───────────┼─────────┼────────────┤\n",
      "│  1º quartil   │  28.756  │ 25.920  │  26.210   │ 31.662  │   30.893   │\n",
      "├───────────────┼──────────┼─────────┼───────────┼─────────┼────────────┤\n",
      "│    mediana    │  30.742  │ 25.963  │  30.451   │ 32.369  │   34.945   │\n",
      "├───────────────┼──────────┼─────────┼───────────┼─────────┼────────────┤\n",
      "│  3º quartil   │  33.303  │ 29.305  │  33.361   │ 34.583  │   36.494   │\n",
      "├───────────────┼──────────┼─────────┼───────────┼─────────┼────────────┤\n",
      "│    máximo     │  34.944  │ 29.902  │  34.740   │ 36.815  │   38.361   │\n",
      "╘═══════════════╧══════════╧═════════╧═══════════╧═════════╧════════════╛\n"
     ]
    }
   ],
   "source": [
    "# Conjuntos de dados de cor ou raça\n",
    "cor_total = pd.DataFrame([tab2_reg[x].iloc[0, 2:7] for x in range(5)])\n",
    "cor_freq = pd.DataFrame([tab2_reg[x].iloc[13, 2:7] / cor_total.values[x] * 100 for x in range(5)])\n",
    "cor_jafreq = pd.DataFrame([tab2_reg[x].iloc[26, 2:7] / cor_total.values[x] * 100 for x in range(5)])\n",
    "cor_nfreq = pd.DataFrame([tab2_reg[x].iloc[39, 2:7] / cor_total.values[x] * 100 for x in range(5)])\n",
    "\n",
    "# Calcular estatísticas descritivas para cada categoria\n",
    "desc_cor_freq = [cor_freq.iloc[:,x].describe() for x in range(5)]\n",
    "\n",
    "# Mostrar as estatísticas descritivas\n",
    "print(\"Medidas resumo para percentual da população que frequenta a escola\")\n",
    "linhas = [\"\", \"média\", \"desvio padrão\", \"1º quartil\", \"mediana\", \"3º quartil\", \"máximo\"]\n",
    "cor_freq_print = [linhas,['Branca'],['Preta'],['Amarela'],['Parda'],['Indígena']]\n",
    "for y in range(5):\n",
    "    for x in [1, 2, 4, 5, 6, 7]:\n",
    "        cor_freq_print[y + 1].append(desc_cor_freq[y][x])\n",
    "\n",
    "data = (np.array(cor_freq_print).T)\n",
    "print(tabulate(data, headers=\"firstrow\", tablefmt=\"fancy_grid\", colalign=([\"center\"]*6), floatfmt=\".3f\"))"
   ]
  },
  {
   "cell_type": "markdown",
   "id": "23f01d66",
   "metadata": {},
   "source": [
    "A partir das médias acima, vê-se que todos os grupos encontram-se bem próximos na porcentagem populacional que frequenta a escola, destacando-se os _indígenas_, que mais frequentam em relação aos demais. Nota-se também que a população _preta_ tem um percentual de pessoas que frequenta a escola ligeiramente menor que as demais populações."
   ]
  },
  {
   "cell_type": "markdown",
   "id": "d488bc83",
   "metadata": {},
   "source": [
    "#### 3.2.2.2 Já frequentou a escola"
   ]
  },
  {
   "cell_type": "markdown",
   "id": "c93cb28b",
   "metadata": {},
   "source": [
    "Abaixo são calculadas as medidas resumo para o percentual da população já frequentou a escola."
   ]
  },
  {
   "cell_type": "code",
   "execution_count": 193,
   "id": "5c4f9a97",
   "metadata": {
    "scrolled": true
   },
   "outputs": [
    {
     "name": "stdout",
     "output_type": "stream",
     "text": [
      "Medidas resumo para percentual da população que já frequentou a escola\n",
      "╒═══════════════╤══════════╤═════════╤═══════════╤═════════╤════════════╕\n",
      "│               │  Branca  │  Preta  │  Amarela  │  Parda  │  Indígena  │\n",
      "╞═══════════════╪══════════╪═════════╪═══════════╪═════════╪════════════╡\n",
      "│     média     │  58.935  │ 61.670  │  60.985   │ 55.670  │   44.293   │\n",
      "├───────────────┼──────────┼─────────┼───────────┼─────────┼────────────┤\n",
      "│ desvio padrão │  5.622   │  4.469  │   6.455   │  4.524  │   14.157   │\n",
      "├───────────────┼──────────┼─────────┼───────────┼─────────┼────────────┤\n",
      "│  1º quartil   │  54.619  │ 58.039  │  55.211   │ 52.570  │   36.278   │\n",
      "├───────────────┼──────────┼─────────┼───────────┼─────────┼────────────┤\n",
      "│    mediana    │  59.533  │ 63.404  │  61.742   │ 57.132  │   45.436   │\n",
      "├───────────────┼──────────┼─────────┼───────────┼─────────┼────────────┤\n",
      "│  3º quartil   │  64.113  │ 65.131  │  66.917   │ 59.485  │   50.313   │\n",
      "├───────────────┼──────────┼─────────┼───────────┼─────────┼────────────┤\n",
      "│    máximo     │  64.513  │ 65.911  │  67.498   │ 59.738  │   63.421   │\n",
      "╘═══════════════╧══════════╧═════════╧═══════════╧═════════╧════════════╛\n"
     ]
    }
   ],
   "source": [
    "# Calcular estatísticas descritivas para cada categoria\n",
    "desc_cor_jafreq = [cor_jafreq.iloc[:,x].describe() for x in range(5)]\n",
    "\n",
    "# Mostrar as estatísticas descritivas\n",
    "print(\"Medidas resumo para percentual da população que já frequentou a escola\")\n",
    "linhas = [\"\", \"média\", \"desvio padrão\", \"1º quartil\", \"mediana\", \"3º quartil\", \"máximo\"]\n",
    "cor_jafreq_print = [linhas,['Branca'],['Preta'],['Amarela'],['Parda'],['Indígena']]\n",
    "for y in range(5):\n",
    "    for x in [1, 2, 4, 5, 6, 7]:\n",
    "        cor_jafreq_print[y + 1].append(desc_cor_jafreq[y][x])\n",
    "\n",
    "data = (np.array(cor_jafreq_print).T)\n",
    "print(tabulate(data, headers=\"firstrow\", tablefmt=\"fancy_grid\", colalign=([\"center\"]*6), floatfmt=\".3f\"))"
   ]
  },
  {
   "cell_type": "markdown",
   "id": "774d052f",
   "metadata": {},
   "source": [
    "A partir das médias acima, vê-se que todos os grupos encontram-se bem próximos na porcentagem populacional que já frequentou a escola, excetuando-se os \"indígenas\", que menos frequentaram em relação aos demais. Além disso, vê-se que a população \"preta\" e \"amarela\" têm um percentual de pessoas a já frequentar a escola ligeiramente maior que as populações \"branca\" e \"parda\"."
   ]
  },
  {
   "cell_type": "markdown",
   "id": "fb057145",
   "metadata": {},
   "source": [
    "#### 3.2.2.3 Nunca frequentou a escola"
   ]
  },
  {
   "cell_type": "markdown",
   "id": "2f05f26a",
   "metadata": {},
   "source": [
    "Abaixo são calculadas as medidas resumo para o percentual da população nunca frequentou a escola."
   ]
  },
  {
   "cell_type": "code",
   "execution_count": 194,
   "id": "5503a47b",
   "metadata": {
    "scrolled": true
   },
   "outputs": [
    {
     "name": "stdout",
     "output_type": "stream",
     "text": [
      "Medidas resumo para percentual da população que nunca frequentou a escola\n",
      "╒═══════════════╤══════════╤═════════╤═══════════╤═════════╤════════════╕\n",
      "│               │  Branca  │  Preta  │  Amarela  │  Parda  │  Indígena  │\n",
      "╞═══════════════╪══════════╪═════════╪═══════════╪═════════╪════════════╡\n",
      "│     média     │  9.851   │ 10.934  │   8.841   │ 11.074  │   22.421   │\n",
      "├───────────────┼──────────┼─────────┼───────────┼─────────┼────────────┤\n",
      "│ desvio padrão │  2.763   │  2.532  │   2.540   │  2.169  │   10.645   │\n",
      "├───────────────┼──────────┼─────────┼───────────┼─────────┼────────────┤\n",
      "│  1º quartil   │  7.164   │  8.976  │   6.874   │  9.662  │   16.203   │\n",
      "├───────────────┼──────────┼─────────┼───────────┼─────────┼────────────┤\n",
      "│    mediana    │  9.725   │ 10.676  │   7.807   │ 10.499  │   18.795   │\n",
      "├───────────────┼──────────┼─────────┼───────────┼─────────┼────────────┤\n",
      "│  3º quartil   │  12.078  │ 12.656  │  11.429   │ 12.847  │   28.777   │\n",
      "├───────────────┼──────────┼─────────┼───────────┼─────────┼────────────┤\n",
      "│    máximo     │  13.158  │ 14.235  │  11.701   │ 13.762  │   37.489   │\n",
      "╘═══════════════╧══════════╧═════════╧═══════════╧═════════╧════════════╛\n"
     ]
    }
   ],
   "source": [
    "# Calcular estatísticas descritivas para cada categoria\n",
    "desc_cor_nfreq = [cor_nfreq.iloc[:,x].describe() for x in range(5)]\n",
    "\n",
    "# Mostrar as estatísticas descritivas\n",
    "print(\"Medidas resumo para percentual da população que nunca frequentou a escola\")\n",
    "linhas = [\"\", \"média\", \"desvio padrão\", \"1º quartil\", \"mediana\", \"3º quartil\", \"máximo\"]\n",
    "cor_nfreq_print = [linhas,['Branca'],['Preta'],['Amarela'],['Parda'],['Indígena']]\n",
    "for y in range(5):\n",
    "    for x in [1, 2, 4, 5, 6, 7]:\n",
    "        cor_nfreq_print[y + 1].append(desc_cor_nfreq[y][x])\n",
    "\n",
    "data = (np.array(cor_nfreq_print).T)\n",
    "print(tabulate(data, headers=\"firstrow\", tablefmt=\"fancy_grid\", colalign=([\"center\"]*6), floatfmt=\".3f\"))"
   ]
  },
  {
   "cell_type": "markdown",
   "id": "532fb92f",
   "metadata": {},
   "source": [
    "A partir das médias acima, vê-se que o grupo dos \"indígenas\" é o que menos frequentou a escola em relação aos demais, em graves 22.4%. Além disso, vê-se que o a população \"preta\" e \"parda\" tem um percentual de pessoas que nunca frequentou a escola maior que as populações \"branca\" e \"amarela\", o que indica uma maior taxa de evasão escolar dentre estes grupos.\n",
    "\n",
    "Nota-se também um alto desvio padrão dentre os indígenas, indicando grandes diferenças na educação a eles oferecida entre diferentes regiões brasileiras."
   ]
  },
  {
   "cell_type": "markdown",
   "id": "12e89ca7",
   "metadata": {},
   "source": [
    "### 3.2.3 Relação entre renda e frequência escolar\n",
    "Nesta seção serão abordadas medidas que descrevam a relação entre o percentual da população encontra-se em uma dada situação de escolaridade em relação a sua renda, contemplando diferentes regiões brasileiras na análise."
   ]
  },
  {
   "cell_type": "markdown",
   "id": "52e4f880",
   "metadata": {},
   "source": [
    "#### 3.2.3.1 Frequenta a escola"
   ]
  },
  {
   "cell_type": "markdown",
   "id": "c0b8cb5e",
   "metadata": {},
   "source": [
    "Abaixo são calculadas as medidas resumo para o percentual da população que frequenta a escola."
   ]
  },
  {
   "cell_type": "code",
   "execution_count": 200,
   "id": "9531a451",
   "metadata": {
    "scrolled": true
   },
   "outputs": [
    {
     "name": "stdout",
     "output_type": "stream",
     "text": [
      "Medidas resumo para percentual da população que frequenta a escola\n",
      "╒═══════════════╤═══════════╤═════════════╤═══════════╤═════════╤═════════╤═════════╤═════════════╤══════════════════╕\n",
      "│               │  Até 1/4  │  1/4 a 1/2  │  1/2 a 1  │  1 a 2  │  2 a 3  │  3 a 5  │  Mais de 5  │  Sem rendimento  │\n",
      "╞═══════════════╪═══════════╪═════════════╪═══════════╪═════════╪═════════╪═════════╪═════════════╪══════════════════╡\n",
      "│     média     │  42.994   │   37.138    │  30.111   │ 27.068  │ 27.941  │ 28.517  │   26.284    │      29.490      │\n",
      "├───────────────┼───────────┼─────────────┼───────────┼─────────┼─────────┼─────────┼─────────────┼──────────────────┤\n",
      "│ desvio padrão │   1.030   │    1.206    │   2.039   │  2.356  │  2.958  │  2.666  │    2.665    │      1.632       │\n",
      "├───────────────┼───────────┼─────────────┼───────────┼─────────┼─────────┼─────────┼─────────────┼──────────────────┤\n",
      "│  1º quartil   │  42.413   │   35.988    │  29.757   │ 25.435  │ 25.136  │ 25.957  │   23.668    │      28.950      │\n",
      "├───────────────┼───────────┼─────────────┼───────────┼─────────┼─────────┼─────────┼─────────────┼──────────────────┤\n",
      "│    mediana    │  43.670   │   37.282    │  30.384   │ 26.482  │ 28.848  │ 29.664  │   27.112    │      29.275      │\n",
      "├───────────────┼───────────┼─────────────┼───────────┼─────────┼─────────┼─────────┼─────────────┼──────────────────┤\n",
      "│  3º quartil   │  43.702   │   37.802    │  30.930   │ 27.435  │ 29.227  │ 30.050  │   27.404    │      29.504      │\n",
      "├───────────────┼───────────┼─────────────┼───────────┼─────────┼─────────┼─────────┼─────────────┼──────────────────┤\n",
      "│    máximo     │  43.741   │   38.719    │  32.525   │ 30.939  │ 31.745  │ 31.474  │   29.733    │      32.102      │\n",
      "╘═══════════════╧═══════════╧═════════════╧═══════════╧═════════╧═════════╧═════════╧═════════════╧══════════════════╛\n"
     ]
    }
   ],
   "source": [
    "# Conjuntos de dados de renda\n",
    "renda_total = pd.DataFrame([tab3_reg[x].iloc[0, 2:10] for x in range(5)])\n",
    "renda_freq = pd.DataFrame([tab3_reg[x].iloc[13, 2:10] / renda_total.values[x] * 100 for x in range(5)])\n",
    "renda_jafreq = pd.DataFrame([tab3_reg[x].iloc[26, 2:10] / renda_total.values[x] * 100 for x in range(5)])\n",
    "renda_nfreq = pd.DataFrame([tab3_reg[x].iloc[39, 2:10] / renda_total.values[x] * 100 for x in range(5)])\n",
    "\n",
    "# Calcular estatísticas descritivas para cada categoria\n",
    "desc_renda_freq = [renda_freq.iloc[:,x].describe() for x in range(8)]\n",
    "\n",
    "# Mostrar as estatísticas descritivas\n",
    "print(\"Medidas resumo para percentual da população que frequenta a escola\")\n",
    "linhas = [\"\", \"média\", \"desvio padrão\", \"1º quartil\", \"mediana\", \"3º quartil\", \"máximo\"]\n",
    "renda_freq_print = [linhas, [\"Até 1/4\"], [\"1/4 a 1/2\"], [\"1/2 a 1\"], [\"1 a 2\"], [\"2 a 3\"], [\"3 a 5\"], [\"Mais de 5\"], [\"Sem rendimento\"]]\n",
    "for y in range(8):\n",
    "    for x in [1, 2, 4, 5, 6, 7]:\n",
    "        renda_freq_print[y + 1].append(desc_renda_freq[y][x])\n",
    "\n",
    "data = (np.array(renda_freq_print).T)\n",
    "print(tabulate(data, headers=\"firstrow\", tablefmt=\"fancy_grid\", colalign=([\"center\"]*9), floatfmt=\".3f\"))"
   ]
  },
  {
   "cell_type": "markdown",
   "id": "72fc98a7",
   "metadata": {},
   "source": [
    "Analisando a tabela acima, vê-se que a o percentual média da população que frequenta a escola decresce gradativamente de acordo com o aumento da renda, um fato de grande importância no contexto social brasileiro, indicando potenciais relações entre idade e renda, por exemplo."
   ]
  },
  {
   "cell_type": "markdown",
   "id": "e4f28578",
   "metadata": {},
   "source": [
    "#### 3.2.3.2 Já frequentou a escola"
   ]
  },
  {
   "cell_type": "markdown",
   "id": "6c169766",
   "metadata": {},
   "source": [
    "Abaixo são calculadas as medidas resumo para o percentual da população que já frequentou a escola."
   ]
  },
  {
   "cell_type": "code",
   "execution_count": 201,
   "id": "dc228afc",
   "metadata": {
    "scrolled": true
   },
   "outputs": [
    {
     "name": "stdout",
     "output_type": "stream",
     "text": [
      "Medidas resumo para percentual da população que já frequentou a escola\n",
      "╒═══════════════╤═══════════╤═════════════╤═══════════╤═════════╤═════════╤═════════╤═════════════╤══════════════════╕\n",
      "│               │  Até 1/4  │  1/4 a 1/2  │  1/2 a 1  │  1 a 2  │  2 a 3  │  3 a 5  │  Mais de 5  │  Sem rendimento  │\n",
      "╞═══════════════╪═══════════╪═════════════╪═══════════╪═════════╪═════════╪═════════╪═════════════╪══════════════════╡\n",
      "│     média     │  40.690   │   49.180    │  58.521   │ 66.366  │ 67.872  │ 68.041  │   70.948    │      53.359      │\n",
      "├───────────────┼───────────┼─────────────┼───────────┼─────────┼─────────┼─────────┼─────────────┼──────────────────┤\n",
      "│ desvio padrão │   2.536   │    2.035    │   2.355   │  3.267  │  3.789  │  3.345  │    3.222    │      5.553       │\n",
      "├───────────────┼───────────┼─────────────┼───────────┼─────────┼─────────┼─────────┼─────────────┼──────────────────┤\n",
      "│  1º quartil   │  39.538   │   47.948    │  56.904   │ 65.343  │ 66.363  │ 65.902  │   69.547    │      51.924      │\n",
      "├───────────────┼───────────┼─────────────┼───────────┼─────────┼─────────┼─────────┼─────────────┼──────────────────┤\n",
      "│    mediana    │  41.151   │   50.423    │  60.010   │ 66.587  │ 66.645  │ 66.996  │   70.292    │      54.035      │\n",
      "├───────────────┼───────────┼─────────────┼───────────┼─────────┼─────────┼─────────┼─────────────┼──────────────────┤\n",
      "│  3º quartil   │  42.669   │   50.440    │  60.191   │ 69.128  │ 71.671  │ 71.390  │   73.941    │      56.423      │\n",
      "├───────────────┼───────────┼─────────────┼───────────┼─────────┼─────────┼─────────┼─────────────┼──────────────────┤\n",
      "│    máximo     │  43.165   │   50.903    │  60.337   │ 69.389  │ 71.734  │ 71.691  │   74.335    │      59.581      │\n",
      "╘═══════════════╧═══════════╧═════════════╧═══════════╧═════════╧═════════╧═════════╧═════════════╧══════════════════╛\n"
     ]
    }
   ],
   "source": [
    "# Calcular estatísticas descritivas para cada categoria\n",
    "desc_renda_jafreq = [renda_jafreq.iloc[:,x].describe() for x in range(8)]\n",
    "\n",
    "# Mostrar as estatísticas descritivas\n",
    "print(\"Medidas resumo para percentual da população que já frequentou a escola\")\n",
    "linhas = [\"\", \"média\", \"desvio padrão\", \"1º quartil\", \"mediana\", \"3º quartil\", \"máximo\"]\n",
    "renda_jafreq_print = [linhas, [\"Até 1/4\"], [\"1/4 a 1/2\"], [\"1/2 a 1\"], [\"1 a 2\"], [\"2 a 3\"], [\"3 a 5\"], [\"Mais de 5\"], [\"Sem rendimento\"]]\n",
    "for y in range(8):\n",
    "    for x in [1, 2, 4, 5, 6, 7]:\n",
    "        renda_jafreq_print[y + 1].append(desc_renda_jafreq[y][x])\n",
    "\n",
    "data = (np.array(renda_jafreq_print).T)\n",
    "print(tabulate(data, headers=\"firstrow\", tablefmt=\"fancy_grid\", colalign=([\"center\"]*9), floatfmt=\".3f\"))"
   ]
  },
  {
   "cell_type": "markdown",
   "id": "3f409cb6",
   "metadata": {},
   "source": [
    "Analisando a tabela acima, vê-se que a o percentual médio da população que já frequentou a escola cresce de acordo com a renda (desconsiderando a classe _sem rendimentos_). Tal fato indica que habitantes com alta renda já passaram pelo sistema educacional, em grande parte dos casos. "
   ]
  },
  {
   "cell_type": "markdown",
   "id": "5ed9ec48",
   "metadata": {},
   "source": [
    "#### 3.2.3.3 Nunca frequentou a escola"
   ]
  },
  {
   "cell_type": "markdown",
   "id": "ef20b8eb",
   "metadata": {},
   "source": [
    "Abaixo são calculadas as medidas resumo para o percentual da população que nunca frequentou a escola."
   ]
  },
  {
   "cell_type": "code",
   "execution_count": 203,
   "id": "08c039fd",
   "metadata": {
    "scrolled": true
   },
   "outputs": [
    {
     "name": "stdout",
     "output_type": "stream",
     "text": [
      "Medidas resumo para percentual da população que nunca frequentou a escola\n",
      "╒═══════════════╤═══════════╤═════════════╤═══════════╤═════════╤═════════╤═════════╤═════════════╤══════════════════╕\n",
      "│               │  Até 1/4  │  1/4 a 1/2  │  1/2 a 1  │  1 a 2  │  2 a 3  │  3 a 5  │  Mais de 5  │  Sem rendimento  │\n",
      "╞═══════════════╪═══════════╪═════════════╪═══════════╪═════════╪═════════╪═════════╪═════════════╪══════════════════╡\n",
      "│     média     │  16.315   │   13.682    │  11.368   │  6.566  │  4.188  │  3.442  │    2.768    │      17.151      │\n",
      "├───────────────┼───────────┼─────────────┼───────────┼─────────┼─────────┼─────────┼─────────────┼──────────────────┤\n",
      "│ desvio padrão │   2.311   │    1.336    │   1.597   │  1.010  │  0.876  │  0.718  │    0.588    │      6.159       │\n",
      "├───────────────┼───────────┼─────────────┼───────────┼─────────┼─────────┼─────────┼─────────────┼──────────────────┤\n",
      "│  1º quartil   │  15.147   │   13.109    │   9.906   │  5.561  │  3.518  │  2.870  │    2.391    │      11.475      │\n",
      "├───────────────┼───────────┼─────────────┼───────────┼─────────┼─────────┼─────────┼─────────────┼──────────────────┤\n",
      "│    mediana    │  15.389   │   13.661    │  12.166   │  6.931  │  4.127  │  3.341  │    2.597    │      17.015      │\n",
      "├───────────────┼───────────┼─────────────┼───────────┼─────────┼─────────┼─────────┼─────────────┼──────────────────┤\n",
      "│  3º quartil   │  18.049   │   14.770    │  12.311   │  7.223  │  4.788  │  4.048  │    3.049    │      20.456      │\n",
      "├───────────────┼───────────┼─────────────┼───────────┼─────────┼─────────┼─────────┼─────────────┼──────────────────┤\n",
      "│    máximo     │  19.331   │   15.093    │  13.031   │  7.677  │  5.312  │  4.298  │    3.642    │      25.665      │\n",
      "╘═══════════════╧═══════════╧═════════════╧═══════════╧═════════╧═════════╧═════════╧═════════════╧══════════════════╛\n"
     ]
    }
   ],
   "source": [
    "# Calcular estatísticas descritivas para cada categoria\n",
    "desc_renda_nfreq = [renda_nfreq.iloc[:,x].describe() for x in range(8)]\n",
    "\n",
    "# Mostrar as estatísticas descritivas\n",
    "print(\"Medidas resumo para percentual da população que nunca frequentou a escola\")\n",
    "linhas = [\"\", \"média\", \"desvio padrão\", \"1º quartil\", \"mediana\", \"3º quartil\", \"máximo\"]\n",
    "renda_nfreq_print = [linhas, [\"Até 1/4\"], [\"1/4 a 1/2\"], [\"1/2 a 1\"], [\"1 a 2\"], [\"2 a 3\"], [\"3 a 5\"], [\"Mais de 5\"], [\"Sem rendimento\"]]\n",
    "for y in range(8):\n",
    "    for x in [1, 2, 4, 5, 6, 7]:\n",
    "        renda_nfreq_print[y + 1].append(desc_renda_nfreq[y][x])\n",
    "\n",
    "data = (np.array(renda_nfreq_print).T)\n",
    "print(tabulate(data, headers=\"firstrow\", tablefmt=\"fancy_grid\", colalign=([\"center\"]*9), floatfmt=\".3f\"))"
   ]
  },
  {
   "cell_type": "markdown",
   "id": "40f3cbc8",
   "metadata": {},
   "source": [
    "Analisando a tabela acima, vê-se que a o percentual média da população que nunca frequentou a escola decresce consideravelmente com o aumento da renda. Tal fato indica uma relação aparente entre evasão escolar e renda, além de trazer corroborações para afirmações acerca da última tabela."
   ]
  },
  {
   "cell_type": "markdown",
   "id": "2cbf9f5a",
   "metadata": {},
   "source": [
    "## 3.3 Representação Gráfica"
   ]
  },
  {
   "cell_type": "markdown",
   "id": "6c9b7656",
   "metadata": {},
   "source": [
    "Nesta seção, traremos representações gráficas das relações entre as variáveis até então apresentadas.\n",
    "\n",
    "Comecemos, portanto, trazendo um panorama da distribuição da população brasileira dentre diferentes faixas etárias, conforme pode ser observado abaixo."
   ]
  },
  {
   "cell_type": "code",
   "execution_count": 156,
   "id": "baa2cf6b-76e4-4b76-98ec-30cb4e1076f7",
   "metadata": {
    "scrolled": false
   },
   "outputs": [
    {
     "data": {
      "image/png": "[encoded data removed]",
      "text/plain": [
       "<Figure size 720x432 with 1 Axes>"
      ]
     },
     "metadata": {
      "needs_background": "light"
     },
     "output_type": "display_data"
    }
   ],
   "source": [
    "# População total brasileira\n",
    "total_pop = tab1.iloc[0:14, 1]\n",
    "total_homem = tab1.iloc[15:29, 1]\n",
    "total_mulher = tab1.iloc[30:44, 1]\n",
    "\n",
    "# Define faixas etárias a serem impressas abaixo de cada barra\n",
    "rotulos_x = tab1.iloc[0:14, 0]\n",
    "\n",
    "largura_barra = 0.2\n",
    "indices = list(range(len(total_pop)))\n",
    "\n",
    "# Plota barras para total, homem e mulher\n",
    "plt.figure(figsize=(10, 6))\n",
    "plt.bar([i - largura_barra for i in indices], total_pop, largura_barra, color='violet', label='Total Pop')\n",
    "plt.bar(indices, total_homem, largura_barra, color='lightblue', label='Total H')\n",
    "plt.bar([i + largura_barra for i in indices], total_mulher , largura_barra, color='pink', label='Total M')\n",
    "\n",
    "# Define rótulos do gráfico\n",
    "plt.xlabel('Idade')\n",
    "plt.ylabel('Frequência')\n",
    "plt.title('População por Idade e Gênero')\n",
    "plt.xticks(indices, rotulos_x, rotation=90)\n",
    "plt.legend(['Total população', 'Homens', 'Mulheres'], loc='upper left')\n",
    "\n",
    "plt.show()"
   ]
  },
  {
   "cell_type": "markdown",
   "id": "58e84e88",
   "metadata": {},
   "source": [
    "O gráfico de barras acima visualizado é equivalente à pirâmide etária brasileira, e não segue nenhuma distribuição específica, mas permiti-nos identificar que, de forma geral, o número de mulheres e de homens na população é bem semelhante, divergindo a partir dos 30 anos, quando passam a haver mais mulheres que homens na população."
   ]
  },
  {
   "cell_type": "markdown",
   "id": "7c51e581-9a2b-4b5f-9e97-26a817f27d0d",
   "metadata": {},
   "source": [
    "### 3.3.1 Frequência escolar em razão da idade"
   ]
  },
  {
   "cell_type": "markdown",
   "id": "c27c0504",
   "metadata": {},
   "source": [
    "#### 3.3.1.1 População que frequenta a escola\n",
    "Primeiramente, plotaremos um gráfico de barras trazendo a relação entre a idade e a frequência escolar, de acordo com o sexo e de forma total. Note que o eixo horizontal adota diferentes faixas de idade, enquanto o eixo vertical adota o percentual de pessoas na dada faixa de idade que frequenta a escola."
   ]
  },
  {
   "cell_type": "code",
   "execution_count": 157,
   "id": "c3fc19bc-c65c-45b5-9858-3b0c9fcd41d0",
   "metadata": {
    "scrolled": false
   },
   "outputs": [
    {
     "data": {
      "image/png": "[encoded data removed]",
      "text/plain": [
       "<Figure size 720x432 with 1 Axes>"
      ]
     },
     "metadata": {
      "needs_background": "light"
     },
     "output_type": "display_data"
    }
   ],
   "source": [
    "# Percentual da população que frequenta a escola\n",
    "freq_pop = tab1.iloc[0:14, 2] / total_pop * 100\n",
    "freq_homem = tab1.iloc[15:29, 2] / total_homem * 100\n",
    "freq_mulher = tab1.iloc[30:44, 2] / total_mulher * 100\n",
    "\n",
    "largura_barra = 0.2\n",
    "indices = list(range(len(freq_pop)))\n",
    "\n",
    "# Plota barras para total, homem e mulher\n",
    "plt.figure(figsize=(10, 6))\n",
    "plt.bar([i - largura_barra for i in indices], freq_pop, largura_barra, color='violet', label='Total Pop')\n",
    "plt.bar(indices, freq_homem, largura_barra, color='lightblue', label='Total H')\n",
    "plt.bar([i + largura_barra for i in indices], freq_mulher , largura_barra, color='pink', label='Total M')\n",
    "\n",
    "# Define rótulos do gráfico\n",
    "plt.xlabel('Idade')\n",
    "plt.ylabel('Percentual que frequenta (%)')\n",
    "plt.title('Percentual da população por idade e gênero que\\n frequenta escola e/ou creche')\n",
    "plt.xticks(indices, rotulos_x, rotation=90)\n",
    "plt.legend(['Total população', 'Homens', 'Mulheres'], loc='upper right')\n",
    "\n",
    "plt.show()"
   ]
  },
  {
   "cell_type": "markdown",
   "id": "d7bb6f0b",
   "metadata": {},
   "source": [
    "Analisando o gráfico, nota-se que este sobe rapidamente para faixas de idade acima dos 3 anos de idade, chegando a seu máxima na faixa de 7 a 9 anos, e decaindo rapidamente a partir de então. Nota-se também que a frequência escolar é em grande parte independente do sexo, com um pequeno crescimento do percentual de mulheres em relação ao de homens percebido a partir dos 20 anos.\n",
    "\n",
    "A partir do gráfico, verifica-se que a presença no ensino fundamental é relativamente alta (acima de 90%), decaindo significativamente ao avançar para o ensino médio (agora prócimo de 80%).\n",
    "\n",
    "Também é perceptível a semelhança com a distribuição qui-quadrado, a qual pode ser analisada posteriormente."
   ]
  },
  {
   "cell_type": "markdown",
   "id": "a5cbe97e-22ae-46bc-abcf-c1408d2c876f",
   "metadata": {},
   "source": [
    "#### 3.3.1.2 População que já frequentou a escola\n",
    "A seguir, tomaremos um novo gráfico de barras trazendo a população que já frequentou a escola, nos mesmos moldes do anterior."
   ]
  },
  {
   "cell_type": "code",
   "execution_count": 158,
   "id": "401468b0-c759-41b0-9265-6fb852cb2a17",
   "metadata": {
    "scrolled": false
   },
   "outputs": [
    {
     "data": {
      "image/png": "[encoded data removed]",
      "text/plain": [
       "<Figure size 720x432 with 1 Axes>"
      ]
     },
     "metadata": {
      "needs_background": "light"
     },
     "output_type": "display_data"
    }
   ],
   "source": [
    "# percentual de população que já frequentou a escola\n",
    "jafreq_pop = tab1.iloc[0:14, 3] / total_pop * 100\n",
    "jafreq_homem = tab1.iloc[15:29, 3] / total_homem * 100\n",
    "jafreq_mulher = tab1.iloc[30:44, 3] / total_mulher * 100\n",
    "\n",
    "indices = list(range(len(jafreq_pop)))\n",
    "\n",
    "# Plota barras para total, homem e mulher\n",
    "plt.figure(figsize=(10, 6))\n",
    "plt.bar([i - largura_barra for i in indices], jafreq_pop, largura_barra, color='violet', label='Total Pop')\n",
    "plt.bar(indices, jafreq_homem, largura_barra, color='lightblue', label='Total H')\n",
    "plt.bar([i + largura_barra for i in indices],jafreq_mulher , largura_barra, color='pink', label='Total M')\n",
    "\n",
    "# Define rótulos do gráfico\n",
    "plt.xlabel('Idade')\n",
    "plt.ylabel('Percentual que já frequentou (%)')\n",
    "plt.title('Percentual da população por idade e gênero que\\n já frequentou escola e/ou creche')\n",
    "plt.xticks(indices, rotulos_x, rotation=90)\n",
    "plt.legend(['Total população', 'Homens', 'Mulheres'], loc='upper left')\n",
    "\n",
    "plt.show()"
   ]
  },
  {
   "cell_type": "markdown",
   "id": "14d6cd75",
   "metadata": {},
   "source": [
    "A partir do exposto no gráfico, vê-se que o percentual da população que já frequentou a escola é extremamente baixo antes dos 15 anos, condizente com o último gráfico analisado, dado que grande parte encontra-se frequentando ativamente a escola. No entanto, a partir dos 15 anos, cresce rapidamente o número de pessoas que já frequentou a escola, chegando a seu máximo na faixa dos 40 a 49 anos. Sendo assim, identifica-se uma certa taxa de evasão escolar no ensino médio, além da prevalência de um baixo número de pessoas a continuar os estudos após o ensino básico. Por fim, uma queda na faixa acima dos 60 anos indica um conjunto de pessoas que nunca frequentou a escola, o que pode ser verificado no gráfico a seguir.\n",
    "\n",
    "Percebe-se uma aproximação de uma distribuição normal com média em 40 anos."
   ]
  },
  {
   "cell_type": "markdown",
   "id": "a744611e-33fd-48b0-b1a8-96ec1eaa81ac",
   "metadata": {},
   "source": [
    "#### 3.3.1.3 População que nunca frequentou a escola\n",
    "Novamente, tomaremos um novo gráfico de barras trazendo a população que nunca frequentou a escola, nos mesmos moldes já adotados."
   ]
  },
  {
   "cell_type": "code",
   "execution_count": 159,
   "id": "91ef5c31-4e91-4e75-a52b-4df93bb5dd18",
   "metadata": {
    "scrolled": false
   },
   "outputs": [
    {
     "data": {
      "image/png": "[encoded data removed]",
      "text/plain": [
       "<Figure size 720x432 with 1 Axes>"
      ]
     },
     "metadata": {
      "needs_background": "light"
     },
     "output_type": "display_data"
    }
   ],
   "source": [
    "# percentual de população que nunca frequentou a escola\n",
    "nfreq_pop = tab1.iloc[0:14, 4] / total_pop * 100\n",
    "nfreq_homem = tab1.iloc[15:29, 4] / total_homem * 100\n",
    "nfreq_mulher = tab1.iloc[30:44, 4] / total_mulher * 100\n",
    "\n",
    "indices = list(range(len(nfreq_pop)))\n",
    "\n",
    "# Plota barras para total, homem e mulher\n",
    "plt.figure(figsize=(10, 6))\n",
    "plt.bar([i - largura_barra for i in indices], nfreq_pop, largura_barra, color='violet', label='Total Pop')\n",
    "plt.bar(indices, nfreq_homem, largura_barra, color='lightblue', label='Total H')\n",
    "plt.bar([i + largura_barra for i in indices], nfreq_mulher , largura_barra, color='pink', label='Total M')\n",
    "\n",
    "# Define rótulos do gráfico\n",
    "plt.xlabel('Idade')\n",
    "plt.ylabel('Percentual que nunca ferquentou (%)')\n",
    "plt.title('Percentual da população por idade e gênero que\\n nunca frequentou escola e/ou creche')\n",
    "plt.xticks(indices, rotulos_x, rotation=90)\n",
    "plt.legend(['Total população', 'Homens', 'Mulheres'], loc='upper right')\n",
    "\n",
    "plt.show()"
   ]
  },
  {
   "cell_type": "markdown",
   "id": "a7f2d439",
   "metadata": {},
   "source": [
    "Com este gráfico, constata-se que um baixo percentual de crianças vai à creche antes do 3 anos, aumentando para os 4 e 5 anos, mas ainda demonstrando uma evasão notável. Outro ponto interessante a se analisar é o percentual populacional que nunca compareceu à escola dentre as pessoas a partir dos 60 anos, indicando as mudanças do sistema educacional desde 1950 e a crescente importância atribuída à educação."
   ]
  },
  {
   "cell_type": "markdown",
   "id": "b7725df6",
   "metadata": {},
   "source": [
    "### 3.3.2 Frequência escolar em razão da cor ou raça"
   ]
  },
  {
   "cell_type": "markdown",
   "id": "8e680ad8",
   "metadata": {},
   "source": [
    "Plotaremos um gráfico de barras trazendo a relação entre a cor ou raça e a frequência escolar, de forma total. Note que o eixo horizontal adota diferentes cores ou raças, enquanto o eixo vertical adota o percentual de pessoas no dado grupo que frequenta a escola. São plotadas barras paralelas para cada categoria de frequência escolar."
   ]
  },
  {
   "cell_type": "code",
   "execution_count": 160,
   "id": "9e6bbcc9",
   "metadata": {
    "scrolled": false
   },
   "outputs": [
    {
     "data": {
      "image/png": "[encoded data removed]",
      "text/plain": [
       "<Figure size 720x432 with 1 Axes>"
      ]
     },
     "metadata": {
      "needs_background": "light"
     },
     "output_type": "display_data"
    }
   ],
   "source": [
    "rotulos_x_cor = 'Branca','Preta','Amarela','Parda','Indígena','Sem Declaração'\n",
    "\n",
    "cor_total = [tab2.iloc[0:12, x] for x in range(2, 8)]\n",
    "cor_freq = [tab2.iloc[13:25, x] for x in range(2, 8)]\n",
    "cor_jafreq = [tab2.iloc[26:38, x] for x in range(2, 8)]\n",
    "cor_nfreq = [tab2.iloc[39:51, x] for x in range(2, 8)]\n",
    "\n",
    "largura_barra = 0.2\n",
    "lista_freq = [sum(cor_freq[x]) / sum(cor_total[x]) * 100 for x in range(6)]\n",
    "lista_jafreq = [sum(cor_jafreq[x]) / sum(cor_total[x]) * 100 for x in range(6)]\n",
    "lista_nfreq = [sum(cor_nfreq[x]) / sum(cor_total[x]) * 100 for x in range(6)]\n",
    "indices_cor = list(range(len(lista_freq)))\n",
    "\n",
    "# Plota barras\n",
    "plt.figure(figsize=(10, 6))\n",
    "plt.bar([i - largura_barra for i in indices_cor], lista_freq, largura_barra, color='lightgreen', label='Total H')\n",
    "plt.bar(indices_cor, lista_jafreq, largura_barra, color='lightblue', label='Total H')\n",
    "plt.bar([i + largura_barra for i in indices_cor], lista_nfreq, largura_barra, color='violet', label='Total H')\n",
    "\n",
    "# Define rótulos do gráfico\n",
    "plt.xlabel('Cor ou raça')\n",
    "plt.ylabel('Percentual que frequenta (%)')\n",
    "plt.title('Percentual da população por cor ou raça que\\n frequenta escola e/ou creche')\n",
    "plt.ylim([0,100])\n",
    "plt.xticks(indices_cor, rotulos_x_cor, rotation=45)\n",
    "\n",
    "plt.legend(['Frequenta', 'Já requentou', 'Nunca frequentou'], loc='upper left')\n",
    "\n",
    "plt.show()"
   ]
  },
  {
   "cell_type": "markdown",
   "id": "38841407",
   "metadata": {},
   "source": [
    "Vê-se, por meio do gráfico, que o grupo _indígena_, de forma geral, possui um acesso mais precário que os demais à escola. Nesse sentido uma certa redução também é perceptível para os grupos _pretos_ e _pardos_, trazendo o peso das características sociais brasileiras sobre a análise.\n",
    "\n",
    "A partir do exposto acima, vê-se que todos os grupos encontram-se bem próximos na porcentagem populacional que frequenta a escola, e que os _indígenas_ mais frequentam em relação aos demais. Nota-se também que a população _preta_ tem um percentual de pessoas que frequenta a escola ligeiramente menor que as demais. No grupo _sem declaração_, vê-se uma atendência à escola extremamente baixa, próxima de 0. Trata-se de um fato preocupante, mas que pode ser parcialmente atribuído ao baixo número de amostras e à natureza à parte da categoria (que será desconsiderada em análises posteriores). Além disso, é visível que os grupos encontram-se bem próximos na porcentagem populacional que já frequentou a escola, excetuando-se os _indígenas_ e _pardos_, que menos frequentaram em relação aos demais.\n",
    "\n",
    "Por fim, vê-se que o grupo dos \"indígenas\" é o que menos frequentou a escola em relação aos demais, em graves 25% que nunca compareceram ao ambiente escolar. Além disso, vê-se que o a população \"preta\" e \"parda\" tem um percentual de pessoas que nunca frequentou a escola ligeiramente maior que as populações \"branca\" e \"amarela\", o que indica uma maior taxa de evasão escolar dentre estes grupos."
   ]
  },
  {
   "cell_type": "markdown",
   "id": "3d7cafc9",
   "metadata": {},
   "source": [
    "### 3.3.3 Frequência escolar em razão da renda"
   ]
  },
  {
   "cell_type": "markdown",
   "id": "6560ff52",
   "metadata": {},
   "source": [
    "#### 3.3.3.1 População que frequenta ou já frequentou a escola\n",
    "Avaliaremos aqui, na forma de um gráfico de barras, a relação entre renda e escolaridade. No eixo vertical são separadas distintas classes de renda às quais a população pertence, enquanto no eixo vertical é mostrado o percentual da população dentro de tal nível de renda que frequenta ou já frequentou a escola.\n",
    "\n",
    "A realização de análises separadas para cada situação de acesso à escola, como realizado anteriormente, foi descartada neste caso, pois a informação de maior relevância constitui de fato como o acesso, ou ausência deste, ao ambiente escolar. Portanto, segue o gráfico."
   ]
  },
  {
   "cell_type": "code",
   "execution_count": 161,
   "id": "f17b33da",
   "metadata": {
    "scrolled": true
   },
   "outputs": [
    {
     "data": {
      "image/png": "[encoded data removed]",
      "text/plain": [
       "<Figure size 720x432 with 1 Axes>"
      ]
     },
     "metadata": {
      "needs_background": "light"
     },
     "output_type": "display_data"
    }
   ],
   "source": [
    "rotulos_x_renda = \"Sem rendimento\", \"Até 1/4\", \"1/4 a 1/2\", \"1/2 a 1\", \"1 a 2\", \"2 a 3\", \"3 a 5\", \"Mais de 5\"\n",
    "\n",
    "largura_barra = 0.6\n",
    "lista_freq = [sum(np.multiply(np.add(renda_freq, renda_jafreq), renda_total)[x]) / sum(renda_total[x]) for x in range(8)]\n",
    "indices_renda = list(range(len(lista_freq)))\n",
    "\n",
    "# Plota barras\n",
    "plt.figure(figsize=(10, 6))\n",
    "plt.bar(indices_renda, lista_freq, largura_barra, color='lightblue', label='Total H')\n",
    "\n",
    "# Define rótulos do gráfico\n",
    "plt.xlabel('Renda (em salários mínimos)')\n",
    "plt.ylabel('Percentual que frequenta ou já frequentou (%)')\n",
    "plt.title('Percentual da população por renda per capita que\\n frequenta ou frequentou escola e/ou creche')\n",
    "plt.ylim([70,100])\n",
    "plt.xticks(indices_renda, rotulos_x_renda, rotation=90)\n",
    "\n",
    "plt.show()"
   ]
  },
  {
   "cell_type": "markdown",
   "id": "13d7d23b",
   "metadata": {},
   "source": [
    "A partir deste gráfico, verifica-se uma relação quase diretamente proporcional entre o nível de renda e o percentual da população com acesso ao ambiente escolar, indicando o forte impacto das condições monetárias sobre o acesso à escola."
   ]
  },
  {
   "cell_type": "markdown",
   "id": "5caad6a5",
   "metadata": {},
   "source": [
    "## 3.3 Análise de Correlações"
   ]
  },
  {
   "cell_type": "markdown",
   "id": "ee5587a9",
   "metadata": {},
   "source": [
    "Fazer gráficos de relação entre variáveis e calcular correlação"
   ]
  },
  {
   "cell_type": "markdown",
   "id": "dfb05df0",
   "metadata": {},
   "source": [
    "# 4. Conclusão"
   ]
  },
  {
   "cell_type": "markdown",
   "id": "44231b77",
   "metadata": {},
   "source": [
    "# 5. Referências"
   ]
  }
 ],
 "metadata": {
  "kernelspec": {
   "display_name": "Python 3",
   "language": "python",
   "name": "python3"
  },
  "language_info": {
   "codemirror_mode": {
    "name": "ipython",
    "version": 3
   },
   "file_extension": ".py",
   "mimetype": "text/x-python",
   "name": "python",
   "nbconvert_exporter": "python",
   "pygments_lexer": "ipython3",
   "version": "3.8.8"
  }
 },
 "nbformat": 4,
 "nbformat_minor": 5
}
