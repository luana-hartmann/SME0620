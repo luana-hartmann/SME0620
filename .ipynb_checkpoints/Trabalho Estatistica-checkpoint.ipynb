{
 "cells": [
  {
   "cell_type": "markdown",
   "id": "a411b05c",
   "metadata": {},
   "source": [
    "# Índices da Educação Brasileira no Ano de 2010\n",
    "\n",
    "##### Integrantes: Guilherme Lorete Schmidt - 13676857 e Luana Hartmann Franco da Cruz - 13676350"
   ]
  },
  {
   "cell_type": "code",
   "execution_count": 2,
   "id": "e22f50c0",
   "metadata": {},
   "outputs": [],
   "source": [
    "import numpy as np\n",
    "import matplotlib\n",
    "import time\n",
    "import matplotlib.pyplot as plt\n",
    "import sklearn.metrics as skl\n",
    "from tabulate import tabulate\n",
    "from scipy import integrate\n",
    "import pandas as pd"
   ]
  },
  {
   "cell_type": "markdown",
   "id": "6e2e042a",
   "metadata": {},
   "source": [
    "# Introdução\n",
    "No cenário contemporâneo, a análise estatística dos índices educacionais no Brasil desempenha um papel crucial na compreensão da qualidade e eficácia do sistema educacional do país. A educação é um dos pilares fundamentais para o desenvolvimento social, econômico e cultural de uma nação, influenciando diretamente a formação de cidadãos e o progresso coletivo. Portanto, examinar de forma sistemática e estatística os indicadores educacionais torna-se imperativo para identificar tendências, desafios e oportunidades de melhoria.\n",
    "\n",
    "Neste contexto, a análise estatística proporciona uma abordagem objetiva e baseada em evidências para avaliar diversos aspectos do sistema educacional brasileiro, focando-se nesta análise no acesso à escola dentre diferentes grupos populacionais. Ao coletar, organizar e interpretar dados quantitativos e qualitativos, é possível identificar padrões, correlações e disparidades que ajudam a informar políticas públicas, direcionar investimentos e promover a equidade no acesso à educação.\n",
    "\n",
    "Além disso, a análise estatística permite uma comparação longitudinal e transversal dos índices educacionais, possibilitando acompanhar o progresso ao longo do tempo e fazer comparações entre diferentes redes de ensino e grupos demográficos. Essa perspectiva ampla e detalhada é essencial para uma avaliação abrangente e contextualizada do sistema educacional brasileiro, fornecendo insights valiosos para a formulação de estratégias e intervenções eficazes.\n",
    "\n",
    "Portanto, este estudo se propõe a realizar uma análise estatística dos principais índices da educação brasileira, buscando entender os desafios enfrentados, as conquistas alcançadas e as áreas prioritárias para investimento e aprimoramento. Ao examinar indicadores como taxa de alfabetização, taxa de escolarização, desempenho em avaliações nacionais e acesso à educação de qualidade, pretendemos contribuir para o debate público e para o desenvolvimento de políticas educacionais mais eficientes e inclusivas."
   ]
  },
  {
   "cell_type": "markdown",
   "id": "47d0daf9",
   "metadata": {},
   "source": [
    "# Metodologia"
   ]
  },
  {
   "cell_type": "markdown",
   "id": "56c9727f",
   "metadata": {},
   "source": []
  },
  {
   "cell_type": "markdown",
   "id": "231ef3dd",
   "metadata": {},
   "source": [
    "# Resultados"
   ]
  },
  {
   "cell_type": "markdown",
   "id": "0aacb655",
   "metadata": {},
   "source": [
    "## Medidas Resumo\n",
    "Inicialmente, devemos calcular as medidas resumo dos dados obtidos, manifestando-se através da média e variância de cada uma. Portanto, começaremos lendo as tabelas e categorizando os dados através do código abaixo."
   ]
  },
  {
   "cell_type": "code",
   "execution_count": 143,
   "id": "08a2ae15",
   "metadata": {},
   "outputs": [],
   "source": [
    "# planilha censo demográfico 2010 educação por sexo, idade e domicílio\n",
    "tab1 = pd.read_excel('tab1_1_1.xls', skiprows=8)\n",
    "# idade e sexo / total / frequentou / já frequentou / nunca frequentou\n",
    "\n",
    "# planilha censo demográfico 2010 educação por cor ou raça\n",
    "tab2 = pd.read_excel('tab1_1_2.xls', skiprows=8)\n",
    "\n",
    "# planilha censo demográfico 2010 educação por rendimento nominal per capita\n",
    "tab3 = pd.read_excel('tab1_1_3.xlsx', skiprows=6)"
   ]
  },
  {
   "cell_type": "markdown",
   "id": "2c2c3a6d",
   "metadata": {},
   "source": [
    "### Relação entre sexo e frequência escolar"
   ]
  },
  {
   "cell_type": "markdown",
   "id": "40c728f0",
   "metadata": {},
   "source": [
    "Abaixo são calculadas as medidas resumo para o percentual da população que frequenta a escola."
   ]
  },
  {
   "cell_type": "code",
   "execution_count": 128,
   "id": "e0e09301-ab08-4986-b1f1-4631e1a007b0",
   "metadata": {
    "scrolled": true
   },
   "outputs": [
    {
     "name": "stdout",
     "output_type": "stream",
     "text": [
      "Medidas resumo para percentual da população que frequenta a escola\n",
      "╒═══════════════╤═════════╤═════════╤══════════╕\n",
      "│               │  total  │  homem  │  mulher  │\n",
      "╞═══════════════╪═════════╪═════════╪══════════╡\n",
      "│     média     │ 48.7715 │ 48.2452 │ 49.2846  │\n",
      "├───────────────┼─────────┼─────────┼──────────┤\n",
      "│ desvio padrão │ 38.0552 │ 38.3623 │ 37.7768  │\n",
      "├───────────────┼─────────┼─────────┼──────────┤\n",
      "│  1º quartil   │ 11.8688 │ 10.474  │ 13.2185  │\n",
      "├───────────────┼─────────┼─────────┼──────────┤\n",
      "│    mediana    │ 44.9877 │ 44.5772 │ 45.4023  │\n",
      "├───────────────┼─────────┼─────────┼──────────┤\n",
      "│  3º quartil   │ 85.3173 │ 85.1255 │ 85.5156  │\n",
      "├───────────────┼─────────┼─────────┼──────────┤\n",
      "│    máximo     │ 97.6366 │ 97.5174 │ 97.7603  │\n",
      "╘═══════════════╧═════════╧═════════╧══════════╛\n"
     ]
    }
   ],
   "source": [
    "# População total brasileira\n",
    "total_pop = tab1.iloc[0:15, 1]\n",
    "total_homem = tab1.iloc[16:31, 1]\n",
    "total_mulher = tab1.iloc[32:47, 1]\n",
    "\n",
    "# Percentual da população que frequenta a escola\n",
    "freq_pop = tab1.iloc[0:15, 2] / total_pop * 100\n",
    "freq_homem = tab1.iloc[16:31, 2] / total_homem * 100\n",
    "freq_mulher = tab1.iloc[32:47, 2] / total_mulher * 100\n",
    "\n",
    "# Calcular estatísticas descritivas para cada categoria\n",
    "desc_freq_pop = freq_pop.describe(exclude='category')\n",
    "desc_freq_homem = freq_homem.describe()\n",
    "desc_freq_mulher = freq_mulher.describe()\n",
    "\n",
    "# Mostrar as estatísticas descritivas\n",
    "print(\"Medidas resumo para percentual da população que frequenta a escola\")\n",
    "freq_pop_print = ['total'] + [desc_freq_pop[x] for x in [1, 2, 4, 5, 6, 7]]\n",
    "freq_hom_print = ['homem'] + [desc_freq_homem[x] for x in [1, 2, 4, 5, 6, 7]]\n",
    "freq_mul_print = ['mulher'] + [desc_freq_mulher[x] for x in [1, 2, 4, 5, 6, 7]]\n",
    "\n",
    "linhas = ['', 'média', 'desvio padrão', '1º quartil', 'mediana', '3º quartil', 'máximo']\n",
    "data = np.array([linhas, freq_pop_print, freq_hom_print, freq_mul_print]).T\n",
    "print(tabulate(data, headers='firstrow', tablefmt=\"fancy_grid\", colalign=([\"center\"]*4)))"
   ]
  },
  {
   "cell_type": "markdown",
   "id": "a382552d",
   "metadata": {},
   "source": [
    "Abaixo são calculadas as medidas resumo para o percentual da população que já frequentou a escola."
   ]
  },
  {
   "cell_type": "code",
   "execution_count": 129,
   "id": "60d39e29-768f-449d-a29a-879cf5813283",
   "metadata": {
    "scrolled": true
   },
   "outputs": [
    {
     "name": "stdout",
     "output_type": "stream",
     "text": [
      "Medidas resumo para percentual da população que já frequentou escola\n",
      "╒═══════════════╤═════════╤═════════╤══════════╕\n",
      "│               │  total  │  homem  │  mulher  │\n",
      "╞═══════════════╪═════════╪═════════╪══════════╡\n",
      "│     média     │ 40.4396 │ 40.8123 │ 40.0916  │\n",
      "├───────────────┼─────────┼─────────┼──────────┤\n",
      "│ desvio padrão │ 38.4049 │ 38.7422 │ 38.0993  │\n",
      "├───────────────┼─────────┼─────────┼──────────┤\n",
      "│  1º quartil   │ 2.19284 │ 2.23837 │ 2.14561  │\n",
      "├───────────────┼─────────┼─────────┼──────────┤\n",
      "│    mediana    │ 30.6401 │ 30.6591 │ 30.6207  │\n",
      "├───────────────┼─────────┼─────────┼──────────┤\n",
      "│  3º quartil   │ 79.6569 │ 80.8819 │ 78.5894  │\n",
      "├───────────────┼─────────┼─────────┼──────────┤\n",
      "│    máximo     │ 88.4257 │ 88.5402 │ 88.3186  │\n",
      "╘═══════════════╧═════════╧═════════╧══════════╛\n"
     ]
    }
   ],
   "source": [
    "jafreq_pop = tab1.iloc[0:15, 3] / total_pop * 100\n",
    "jafreq_homem = tab1.iloc[16:31, 3] / total_homem * 100\n",
    "jafreq_mulher = tab1.iloc[32:47, 3] / total_mulher * 100\n",
    "\n",
    "# Calcular estatísticas descritivas para cada categoria\n",
    "desc_jafreq_pop = jafreq_pop.describe()\n",
    "desc_jafreq_homem = jafreq_homem.describe()\n",
    "desc_jafreq_mulher = jafreq_mulher.describe()\n",
    "\n",
    "# Mostrar as estatísticas descritivas\n",
    "print(\"Medidas resumo para percentual da população que já frequentou escola\")\n",
    "jafreq_pop_print = ['total'] + [desc_jafreq_pop[x] for x in [1, 2, 4, 5, 6, 7]]\n",
    "jafreq_hom_print = ['homem'] + [desc_jafreq_homem[x] for x in [1, 2, 4, 5, 6, 7]]\n",
    "jafreq_mul_print = ['mulher'] + [desc_jafreq_mulher[x] for x in [1, 2, 4, 5, 6, 7]]\n",
    "\n",
    "linhas = ['', 'média', 'desvio padrão', '1º quartil', 'mediana', '3º quartil', 'máximo']\n",
    "data = np.array([linhas, jafreq_pop_print, jafreq_hom_print, jafreq_mul_print]).T\n",
    "print(tabulate(data, headers='firstrow', tablefmt=\"fancy_grid\", colalign=([\"center\"]*4)))"
   ]
  },
  {
   "cell_type": "markdown",
   "id": "ec76051f",
   "metadata": {},
   "source": [
    "Abaixo são calculadas as medidas resumo para o percentual da população nunca frequentou a escola."
   ]
  },
  {
   "cell_type": "code",
   "execution_count": 130,
   "id": "b7d421ab-652a-4a33-bdd0-8d7061842e86",
   "metadata": {
    "scrolled": true
   },
   "outputs": [
    {
     "name": "stdout",
     "output_type": "stream",
     "text": [
      "Medidas resumo para percentual da população que nunca frequentou escola\n",
      "╒═══════════════╤═════════╤═════════╤══════════╕\n",
      "│               │  total  │  homem  │  mulher  │\n",
      "╞═══════════════╪═════════╪═════════╪══════════╡\n",
      "│     média     │ 10.7889 │ 10.9425 │ 10.6239  │\n",
      "├───────────────┼─────────┼─────────┼──────────┤\n",
      "│ desvio padrão │ 19.1879 │ 19.0465 │ 19.3259  │\n",
      "├───────────────┼─────────┼─────────┼──────────┤\n",
      "│  1º quartil   │ 1.26454 │ 1.39569 │ 1.13125  │\n",
      "├───────────────┼─────────┼─────────┼──────────┤\n",
      "│    mediana    │  3.407  │ 3.96605 │ 2.75844  │\n",
      "├───────────────┼─────────┼─────────┼──────────┤\n",
      "│  3º quartil   │ 9.71676 │ 9.91219 │ 9.52726  │\n",
      "├───────────────┼─────────┼─────────┼──────────┤\n",
      "│    máximo     │ 74.6257 │ 74.531  │ 74.7236  │\n",
      "╘═══════════════╧═════════╧═════════╧══════════╛\n"
     ]
    }
   ],
   "source": [
    "nfreq_pop = tab1.iloc[0:15, 4] / total_pop * 100\n",
    "nfreq_homem = tab1.iloc[16:31, 4] / total_homem * 100\n",
    "nfreq_mulher = tab1.iloc[32:47, 4] / total_mulher * 100\n",
    "\n",
    "# Calcular estatísticas descritivas para cada categoria\n",
    "desc_nfreq_pop = nfreq_pop.describe()\n",
    "desc_nfreq_homem = nfreq_homem.describe()\n",
    "desc_nfreq_mulher = nfreq_mulher.describe()\n",
    "\n",
    "# Mostrar as estatísticas descritivas\n",
    "print(\"Medidas resumo para percentual da população que nunca frequentou escola\")\n",
    "nfreq_pop_print = ['total'] + [desc_nfreq_pop[x] for x in [1, 2, 4, 5, 6, 7]]\n",
    "nfreq_hom_print = ['homem'] + [desc_nfreq_homem[x] for x in [1, 2, 4, 5, 6, 7]]\n",
    "nfreq_mul_print = ['mulher'] + [desc_nfreq_mulher[x] for x in [1, 2, 4, 5, 6, 7]]\n",
    "\n",
    "linhas = ['', 'média', 'desvio padrão', '1º quartil', 'mediana', '3º quartil', 'máximo']\n",
    "data = np.array([linhas, nfreq_pop_print, nfreq_hom_print, nfreq_mul_print]).T\n",
    "print(tabulate(data, headers='firstrow', tablefmt=\"fancy_grid\", colalign=([\"center\"]*4)))"
   ]
  },
  {
   "cell_type": "markdown",
   "id": "058ee614",
   "metadata": {},
   "source": [
    "### Relação entre renda e frequência escolar"
   ]
  },
  {
   "cell_type": "markdown",
   "id": "3f6cc5a9",
   "metadata": {},
   "source": [
    "Abaixo são calculadas as medidas resumo para o percentual da população que frequenta a escola."
   ]
  },
  {
   "cell_type": "code",
   "execution_count": 232,
   "id": "9185ad1d",
   "metadata": {},
   "outputs": [
    {
     "name": "stdout",
     "output_type": "stream",
     "text": [
      "Medidas resumo para percentual da população que frequenta a escola\n",
      "╒═══════════════╤═══════════╤═════════════╤═══════════╤═════════╤═════════╤═════════╤═════════════╤══════════════════╕\n",
      "│               │  Até 1/4  │  1/4 a 1/2  │  1/2 a 1  │  1 a 2  │  2 a 3  │  3 a 5  │  Mais de 5  │  Sem rendimento  │\n",
      "╞═══════════════╪═══════════╪═════════════╪═══════════╪═════════╪═════════╪═════════╪═════════════╪══════════════════╡\n",
      "│     média     │  51.306   │   52.077    │  53.835   │ 57.348  │ 61.956  │ 65.157  │   67.169    │      49.196      │\n",
      "├───────────────┼───────────┼─────────────┼───────────┼─────────┼─────────┼─────────┼─────────────┼──────────────────┤\n",
      "│ desvio padrão │  37.907   │   38.838    │  39.137   │ 38.539  │ 37.011  │ 36.131  │   35.986    │      32.328      │\n",
      "├───────────────┼───────────┼─────────────┼───────────┼─────────┼─────────┼─────────┼─────────────┼──────────────────┤\n",
      "│  1º quartil   │  14.760   │   15.988    │  17.335   │ 23.633  │ 33.873  │ 38.319  │   41.869    │      17.721      │\n",
      "├───────────────┼───────────┼─────────────┼───────────┼─────────┼─────────┼─────────┼─────────────┼──────────────────┤\n",
      "│    mediana    │  55.053   │   55.401    │  57.513   │ 63.175  │ 72.130  │ 79.461  │   84.298    │      51.165      │\n",
      "├───────────────┼───────────┼─────────────┼───────────┼─────────┼─────────┼─────────┼─────────────┼──────────────────┤\n",
      "│  3º quartil   │  84.626   │   87.936    │  90.936   │ 94.278  │ 96.485  │ 97.216  │   97.734    │      78.291      │\n",
      "├───────────────┼───────────┼─────────────┼───────────┼─────────┼─────────┼─────────┼─────────────┼──────────────────┤\n",
      "│    máximo     │  96.691   │   97.792    │  98.379   │ 98.898  │ 98.942  │ 98.745  │   98.910    │      90.074      │\n",
      "╘═══════════════╧═══════════╧═════════════╧═══════════╧═════════╧═════════╧═════════╧═════════════╧══════════════════╛\n"
     ]
    }
   ],
   "source": [
    "# Conjuntos de dados de renda\n",
    "renda_total = [tab3.iloc[0:12, x] for x in range(2, 10)]\n",
    "renda_freq = [(tab3.iloc[13:25, x] / renda_total[x-2].values * 100) for x in range(2, 10)]\n",
    "renda_jafreq = [tab3.iloc[26:38, x] / renda_total[x-2].values * 100 for x in range(2, 10)]\n",
    "renda_nfreq = [tab3.iloc[39:51, x] / renda_total[x-2].values * 100 for x in range(2, 10)]\n",
    "\n",
    "# Calcular estatísticas descritivas para cada categoria\n",
    "desc_renda_freq = [renda_freq[x].describe() for x in range(8)]\n",
    "\n",
    "# Mostrar as estatísticas descritivas\n",
    "print(\"Medidas resumo para percentual da população que frequenta a escola\")\n",
    "linhas = [\"\", \"média\", \"desvio padrão\", \"1º quartil\", \"mediana\", \"3º quartil\", \"máximo\"]\n",
    "renda_freq_print = [linhas, [\"Até 1/4\"], [\"1/4 a 1/2\"], [\"1/2 a 1\"], [\"1 a 2\"], [\"2 a 3\"], [\"3 a 5\"], [\"Mais de 5\"], [\"Sem rendimento\"]]\n",
    "for y in range(8):\n",
    "    for x in [1, 2, 4, 5, 6, 7]:\n",
    "        renda_freq_print[y + 1].append(desc_renda_freq[y][x])\n",
    "\n",
    "data = (np.array(renda_freq_print).T)\n",
    "print(tabulate(data, headers=\"firstrow\", tablefmt=\"fancy_grid\", colalign=([\"center\"]*9), floatfmt=\".3f\"))"
   ]
  },
  {
   "cell_type": "markdown",
   "id": "b871b8d7",
   "metadata": {},
   "source": [
    "Abaixo são calculadas as medidas resumo para o percentual da população que já frequentou a escola."
   ]
  },
  {
   "cell_type": "code",
   "execution_count": 235,
   "id": "ac7bfc1e",
   "metadata": {},
   "outputs": [
    {
     "name": "stdout",
     "output_type": "stream",
     "text": [
      "Medidas resumo para percentual da população que frequenta a escola\n",
      "╒═══════════════╤═══════════╤═════════════╤═══════════╤═════════╤═════════╤═════════╤═════════════╤══════════════════╕\n",
      "│               │  Até 1/4  │  1/4 a 1/2  │  1/2 a 1  │  1 a 2  │  2 a 3  │  3 a 5  │  Mais de 5  │  Sem rendimento  │\n",
      "╞═══════════════╪═══════════╪═════════════╪═══════════╪═════════╪═════════╪═════════╪═════════════╪══════════════════╡\n",
      "│     média     │  33.492   │   34.847    │  35.143   │ 34.307  │ 31.306  │ 28.997  │   27.638    │      33.353      │\n",
      "├───────────────┼───────────┼─────────────┼───────────┼─────────┼─────────┼─────────┼─────────────┼──────────────────┤\n",
      "│ desvio padrão │  37.277   │   38.933    │  39.544   │ 39.505  │ 37.800  │ 36.710  │   36.551    │      33.750      │\n",
      "├───────────────┼───────────┼─────────────┼───────────┼─────────┼─────────┼─────────┼─────────────┼──────────────────┤\n",
      "│  1º quartil   │   1.981   │    1.957    │   2.016   │  1.889  │  1.469  │  1.142  │    1.039    │      3.325       │\n",
      "├───────────────┼───────────┼─────────────┼───────────┼─────────┼─────────┼─────────┼─────────────┼──────────────────┤\n",
      "│    mediana    │  10.529   │   10.261    │   9.293   │  7.662  │  5.364  │  4.052  │    3.539    │      16.233      │\n",
      "├───────────────┼───────────┼─────────────┼───────────┼─────────┼─────────┼─────────┼─────────────┼──────────────────┤\n",
      "│  3º quartil   │  75.059   │   77.908    │  79.538   │ 75.634  │ 64.575  │ 56.323  │   50.810    │      70.368      │\n",
      "├───────────────┼───────────┼─────────────┼───────────┼─────────┼─────────┼─────────┼─────────────┼──────────────────┤\n",
      "│    máximo     │  84.407   │   88.026    │  89.392   │ 88.741  │ 91.726  │ 92.395  │   92.477    │      78.039      │\n",
      "╘═══════════════╧═══════════╧═════════════╧═══════════╧═════════╧═════════╧═════════╧═════════════╧══════════════════╛\n"
     ]
    }
   ],
   "source": [
    "# Calcular estatísticas descritivas para cada categoria\n",
    "desc_renda_jafreq = [renda_jafreq[x].describe() for x in range(8)]\n",
    "\n",
    "# Mostrar as estatísticas descritivas\n",
    "print(\"Medidas resumo para percentual da população que frequenta a escola\")\n",
    "linhas = [\"\", \"média\", \"desvio padrão\", \"1º quartil\", \"mediana\", \"3º quartil\", \"máximo\"]\n",
    "renda_jafreq_print = [linhas, [\"Até 1/4\"], [\"1/4 a 1/2\"], [\"1/2 a 1\"], [\"1 a 2\"], [\"2 a 3\"], [\"3 a 5\"], [\"Mais de 5\"], [\"Sem rendimento\"]]\n",
    "for y in range(8):\n",
    "    for x in [1, 2, 4, 5, 6, 7]:\n",
    "        renda_jafreq_print[y + 1].append(desc_renda_jafreq[y][x])\n",
    "\n",
    "data = (np.array(renda_jafreq_print).T)\n",
    "print(tabulate(data, headers=\"firstrow\", tablefmt=\"fancy_grid\", colalign=([\"center\"]*9), floatfmt=\".3f\"))"
   ]
  },
  {
   "cell_type": "markdown",
   "id": "863b1233",
   "metadata": {},
   "source": [
    "Abaixo são calculadas as medidas resumo para o percentual da população que nunca frequentou a escola."
   ]
  },
  {
   "cell_type": "code",
   "execution_count": 236,
   "id": "c84fc8f6",
   "metadata": {},
   "outputs": [
    {
     "name": "stdout",
     "output_type": "stream",
     "text": [
      "Medidas resumo para percentual da população que frequenta a escola\n",
      "╒═══════════════╤═══════════╤═════════════╤═══════════╤═════════╤═════════╤═════════╤═════════════╤══════════════════╕\n",
      "│               │  Até 1/4  │  1/4 a 1/2  │  1/2 a 1  │  1 a 2  │  2 a 3  │  3 a 5  │  Mais de 5  │  Sem rendimento  │\n",
      "╞═══════════════╪═══════════╪═════════════╪═══════════╪═════════╪═════════╪═════════╪═════════════╪══════════════════╡\n",
      "│     média     │  15.202   │   13.076    │  11.022   │  8.345  │  6.738  │  5.847  │    5.193    │      17.452      │\n",
      "├───────────────┼───────────┼─────────────┼───────────┼─────────┼─────────┼─────────┼─────────────┼──────────────────┤\n",
      "│ desvio padrão │  23.258   │   22.721    │  20.900   │ 18.694  │ 17.035  │ 15.762  │   14.467    │      21.330      │\n",
      "├───────────────┼───────────┼─────────────┼───────────┼─────────┼─────────┼─────────┼─────────────┼──────────────────┤\n",
      "│  1º quartil   │   2.090   │    1.282    │   0.863   │  0.511  │  0.410  │  0.448  │    0.409    │      5.760       │\n",
      "├───────────────┼───────────┼─────────────┼───────────┼─────────┼─────────┼─────────┼─────────────┼──────────────────┤\n",
      "│    mediana    │   5.693   │    3.366    │   2.160   │  1.091  │  0.744  │  0.639  │    0.580    │      8.482       │\n",
      "├───────────────┼───────────┼─────────────┼───────────┼─────────┼─────────┼─────────┼─────────────┼──────────────────┤\n",
      "│  3º quartil   │  17.115   │   13.875    │  10.685   │  5.874  │  3.089  │  2.123  │    1.518    │      18.569      │\n",
      "├───────────────┼───────────┼─────────────┼───────────┼─────────┼─────────┼─────────┼─────────────┼──────────────────┤\n",
      "│    máximo     │  82.292   │   79.694    │  73.371   │ 65.976  │ 60.095  │ 55.600  │   50.995    │      78.930      │\n",
      "╘═══════════════╧═══════════╧═════════════╧═══════════╧═════════╧═════════╧═════════╧═════════════╧══════════════════╛\n"
     ]
    }
   ],
   "source": [
    "# Calcular estatísticas descritivas para cada categoria\n",
    "desc_renda_nfreq = [renda_nfreq[x].describe() for x in range(8)]\n",
    "\n",
    "# Mostrar as estatísticas descritivas\n",
    "print(\"Medidas resumo para percentual da população que frequenta a escola\")\n",
    "linhas = [\"\", \"média\", \"desvio padrão\", \"1º quartil\", \"mediana\", \"3º quartil\", \"máximo\"]\n",
    "renda_nfreq_print = [linhas, [\"Até 1/4\"], [\"1/4 a 1/2\"], [\"1/2 a 1\"], [\"1 a 2\"], [\"2 a 3\"], [\"3 a 5\"], [\"Mais de 5\"], [\"Sem rendimento\"]]\n",
    "for y in range(8):\n",
    "    for x in [1, 2, 4, 5, 6, 7]:\n",
    "        renda_nfreq_print[y + 1].append(desc_renda_nfreq[y][x])\n",
    "\n",
    "data = (np.array(renda_nfreq_print).T)\n",
    "print(tabulate(data, headers=\"firstrow\", tablefmt=\"fancy_grid\", colalign=([\"center\"]*9), floatfmt=\".3f\"))"
   ]
  },
  {
   "cell_type": "markdown",
   "id": "e621877e",
   "metadata": {},
   "source": [
    "Agora, traremos as medidas resumos da tabela 3, relacionando o total da população em uma dada situação escolar de acordo com a renda."
   ]
  },
  {
   "cell_type": "markdown",
   "id": "4262b748",
   "metadata": {},
   "source": [
    "## Representação Gráfica"
   ]
  },
  {
   "cell_type": "code",
   "execution_count": 131,
   "id": "baa2cf6b-76e4-4b76-98ec-30cb4e1076f7",
   "metadata": {
    "scrolled": true
   },
   "outputs": [
    {
     "data": {
      "image/png": "[encoded data removed]",
      "text/plain": [
       "<Figure size 432x288 with 1 Axes>"
      ]
     },
     "metadata": {
      "needs_background": "light"
     },
     "output_type": "display_data"
    }
   ],
   "source": [
    "# Define faixas etárias a serem impressas abaixo de cada barra\n",
    "rotulos_x = tab1.iloc[0:15, 0]\n",
    "\n",
    "largura_barra = 0.2\n",
    "indices = list(range(len(total_pop)))\n",
    "\n",
    "# Plota barras para total, homem e mulher\n",
    "plt.bar([i - largura_barra for i in indices], total_pop, largura_barra, color='magenta', label='Total Pop')\n",
    "plt.bar(indices, toal_homem, largura_barra, color='blue', label='Total H')\n",
    "plt.bar([i + largura_barra for i in indices], total_mulher , largura_barra, color='red', label='Total M')\n",
    "\n",
    "# Define rótulos do gráfico\n",
    "plt.xlabel('Idade')\n",
    "plt.ylabel('Frequência')\n",
    "plt.title('População por Idade e Gênero')\n",
    "plt.xticks(indices, rotulos_x, rotation=90)\n",
    "plt.legend(['Total população', 'Homens', 'Mulheres'], loc='upper left')\n",
    "\n",
    "plt.show()"
   ]
  },
  {
   "cell_type": "markdown",
   "id": "7c51e581-9a2b-4b5f-9e97-26a817f27d0d",
   "metadata": {},
   "source": [
    "### Frequenta a escola"
   ]
  },
  {
   "cell_type": "code",
   "execution_count": 135,
   "id": "c3fc19bc-c65c-45b5-9858-3b0c9fcd41d0",
   "metadata": {
    "scrolled": true
   },
   "outputs": [
    {
     "data": {
      "image/png": "[encoded data removed]",
      "text/plain": [
       "<Figure size 432x288 with 1 Axes>"
      ]
     },
     "metadata": {
      "needs_background": "light"
     },
     "output_type": "display_data"
    }
   ],
   "source": [
    "largura_barra = 0.2\n",
    "indices = list(range(len(freq_pop)))\n",
    "\n",
    "# Plota barras para total, homem e mulher\n",
    "plt.bar([i - largura_barra for i in indices], freq_pop, largura_barra, color='magenta', label='Total Pop')\n",
    "plt.bar(indices, freq_homem, largura_barra, color='blue', label='Total H')\n",
    "plt.bar([i + largura_barra for i in indices], freq_mulher , largura_barra, color='red', label='Total M')\n",
    "\n",
    "# Define rótulos do gráfico\n",
    "plt.xlabel('Idade')\n",
    "plt.ylabel('Percentual que frequenta (%)')\n",
    "plt.title('Percentual da população por idade e gênero que\\n frequenta escola e/ou creche')\n",
    "plt.xticks(indices, rotulos_x, rotation=90)\n",
    "plt.legend(['Total população', 'Homens', 'Mulheres'], loc='upper right')\n",
    "\n",
    "plt.show()"
   ]
  },
  {
   "cell_type": "markdown",
   "id": "a5cbe97e-22ae-46bc-abcf-c1408d2c876f",
   "metadata": {},
   "source": [
    "### Já frequentou a escola"
   ]
  },
  {
   "cell_type": "code",
   "execution_count": 134,
   "id": "401468b0-c759-41b0-9265-6fb852cb2a17",
   "metadata": {
    "scrolled": true
   },
   "outputs": [
    {
     "data": {
      "image/png": "[encoded data removed]",
      "text/plain": [
       "<Figure size 432x288 with 1 Axes>"
      ]
     },
     "metadata": {
      "needs_background": "light"
     },
     "output_type": "display_data"
    }
   ],
   "source": [
    "indices = list(range(len(jafreq_pop)))\n",
    "\n",
    "# Plota barras para total, homem e mulher\n",
    "plt.bar([i - largura_barra for i in indices], jafreq_pop, largura_barra, color='magenta', label='Total Pop')\n",
    "plt.bar(indices, jafreq_homem, largura_barra, color='blue', label='Total H')\n",
    "plt.bar([i + largura_barra for i in indices], jafreq_mulher , largura_barra, color='red', label='Total M')\n",
    "\n",
    "# Define rótulos do gráfico\n",
    "plt.xlabel('Idade')\n",
    "plt.ylabel('Frequência')\n",
    "plt.title('Percentual da população por idade e gênero que\\n já frequentou escola e/ou creche')\n",
    "plt.xticks(indices, rotulos_x, rotation=90)\n",
    "plt.legend(['Total população', 'Homens', 'Mulheres'], loc='upper left')\n",
    "\n",
    "plt.show()"
   ]
  },
  {
   "cell_type": "markdown",
   "id": "a744611e-33fd-48b0-b1a8-96ec1eaa81ac",
   "metadata": {},
   "source": [
    "### Nunca frequentou a escola"
   ]
  },
  {
   "cell_type": "code",
   "execution_count": 133,
   "id": "91ef5c31-4e91-4e75-a52b-4df93bb5dd18",
   "metadata": {
    "scrolled": true
   },
   "outputs": [
    {
     "data": {
      "image/png": "[encoded data removed]",
      "text/plain": [
       "<Figure size 432x288 with 1 Axes>"
      ]
     },
     "metadata": {
      "needs_background": "light"
     },
     "output_type": "display_data"
    }
   ],
   "source": [
    "indices = list(range(len(nfreq_pop)))\n",
    "\n",
    "# Plota barras para total, homem e mulher\n",
    "plt.bar([i - largura_barra for i in indices], nfreq_pop, largura_barra, color='magenta', label='Total Pop')\n",
    "plt.bar(indices, nfreq_homem, largura_barra, color='blue', label='Total H')\n",
    "plt.bar([i + largura_barra for i in indices], nfreq_mulher , largura_barra, color='red', label='Total M')\n",
    "\n",
    "# Define rótulos do gráfico\n",
    "plt.xlabel('Idade')\n",
    "plt.ylabel('Percentual que nunca ferquentou (%)')\n",
    "plt.title('Percentual da população por idade e gênero que\\n nunca frequentou escola e/ou creche')\n",
    "plt.xticks(indices, rotulos_x, rotation=90)\n",
    "plt.legend(['Total população', 'Homens', 'Mulheres'], loc='upper right')\n",
    "\n",
    "plt.show()"
   ]
  }
 ],
 "metadata": {
  "kernelspec": {
   "display_name": "Python 3",
   "language": "python",
   "name": "python3"
  },
  "language_info": {
   "codemirror_mode": {
    "name": "ipython",
    "version": 3
   },
   "file_extension": ".py",
   "mimetype": "text/x-python",
   "name": "python",
   "nbconvert_exporter": "python",
   "pygments_lexer": "ipython3",
   "version": "3.8.8"
  }
 },
 "nbformat": 4,
 "nbformat_minor": 5
}
